{
 "cells": [
  {
   "cell_type": "markdown",
   "id": "eef78e6e",
   "metadata": {},
   "source": [
    "# Jupyter Notebook Template for Block 1D"
   ]
  },
  {
   "cell_type": "markdown",
   "id": "a3533a4e",
   "metadata": {},
   "source": [
    "Please insert your name and the team number in the following cell:"
   ]
  },
  {
   "cell_type": "markdown",
   "id": "539d4f3f",
   "metadata": {},
   "source": [
    "#### Student Name: Anastasiia Mokhonko\n",
    "#### Team No.: 17\n"
   ]
  },
  {
   "cell_type": "markdown",
   "id": "36aa276e",
   "metadata": {},
   "source": [
    "This template is meant to help you provide the related evidence for ILOs 3.0 to 7.0 of block 1D-2023-2024. Please don't change the order of the cells. You can still add as many cells as you want in the designated place to provide evidence for each ILO. To remind you about the criteria of each ILO, the criteria for each ILO are provided in each section. We hope that you find immense enjoyment and fulfillment as you embark on your project journey."
   ]
  },
  {
   "cell_type": "markdown",
   "id": "d44a7d95",
   "metadata": {},
   "source": [
    "---"
   ]
  },
  {
   "cell_type": "markdown",
   "id": "1cd9ef6e",
   "metadata": {},
   "source": [
    "## ILO 3.0: Legal Framework\n",
    "\n",
    "The student demonstrates knowledge of relevant legal frameworks by providing evidence of legal decision-making while working with data.\n",
    "\n",
    "Demonstrates the basic knowledge of european legal frameworks governing AI by providing evidence of legal decision-making while working with (privacy-sensitive) data:\n",
    "\n",
    "- **Poor**: The individual contribution to the project is merely documented, rather than reflected upon. There is no mention of releveant legal frameworks and the group assessment is hardly mentioned.\n",
    "\n",
    "- **Insufficient**: The student is able to individually identify the level of risk associated with their AI system and explain it clearly.  The group collaboratively identifies the level of risk associated with the developed AI system. The explanation is superficial and meeting all criteria in poor.\n",
    "\n",
    "- **Sufficient**: The individual reflection on the legality of the individual contributions made to the project is thorough. The group legal assessment of the project is based on relevant  frameworks provided during the module. The legal requirements and obligations that are vital to address for the development of  AI system are identified. The legal requirements and obligations that don’t need to be addressed for the development of AI system are identified. And meeting all criteria in insufficient.\n",
    "\n",
    "- **Good**: The relevance of legal requirements and obligations included in the group assessment for this project is explained. The reasoning for not including certain legal requirements and obligations in the assessment is justified. Argumentation for including and excluding legal requirements and obligations for the assessment is based on important facts, details, examples, and explanations from multiple authoritative sources and data. And meeting all criteria in sufficient.\n",
    "\n",
    "- **Excellent**: The student provides evidence and explanations of legal decision-making for obligations within the group assessment (where possible). And meeting all criteria in good.\n"
   ]
  },
  {
   "cell_type": "markdown",
   "id": "b3d7628b",
   "metadata": {},
   "source": [
    "---"
   ]
  },
  {
   "cell_type": "markdown",
   "id": "5905a56a",
   "metadata": {},
   "source": [
    "### Task 3.1 - Risk assessment of your initial proposal (Idividual Task 1)\n",
    "\n",
    "Based on the content covered during the block (Week 3, Thursday), assess the level of risk associated with the AI system proposed in your project proposal presentation. \n",
    "\n",
    "This evidence is related to **insufficient** criteria."
   ]
  },
  {
   "cell_type": "markdown",
   "id": "431ffc6e",
   "metadata": {},
   "source": [
    " Write your answer here. \n",
    "### Updated for the retake\n",
    "### **Risk Assessment of the AI System**\n",
    "\n",
    "The level of risk associated with the AI system proposed in our project proposal presentation is Limited Risk.\n",
    "\n",
    "\n"
   ]
  },
  {
   "cell_type": "markdown",
   "id": "dfd97f17",
   "metadata": {},
   "source": [
    "[Proposal Presentation](https://github.com/BredaUniversityADSAI/2023-24d-fai1-adsai-personal-AnastasiiaMokhonko234301/blob/main/Proposal%20Presentation.pdf)"
   ]
  },
  {
   "cell_type": "code",
   "execution_count": null,
   "id": "cfcc206f",
   "metadata": {},
   "outputs": [],
   "source": [
    "# Make sure to include your answers to the project proposal presentation.(done)"
   ]
  },
  {
   "cell_type": "markdown",
   "id": "a3ae096b",
   "metadata": {},
   "source": [
    "---"
   ]
  },
  {
   "cell_type": "markdown",
   "id": "0badc513",
   "metadata": {},
   "source": [
    "### Task 3.2 - Explanation of the risk (Individual Task 2)\n",
    "\n",
    "Based on the content learned during the block (Week 3, Thursday), **explain and justify** the level of risk associated with the AI system you will individually propose during your project proposal presentation. \n",
    "\n",
    "Outline the legal obligations that must be followed. If no legal obligations apply to your AI system, please provide the reasoning.\n",
    "\n",
    "Additionally, explain your approach for addressing legal obligations during the implementation process of your AI system. \n",
    "\n",
    "This evidence is related to **poor** and **insufficient** criteria. "
   ]
  },
  {
   "cell_type": "markdown",
   "id": "f0355513",
   "metadata": {},
   "source": [
    "### Write your answer here.\n",
    "\n",
    "### **Explanation of the Risk**\n",
    "\n",
    "The associated level of risk would be Limited Risk, as the safety ratings produced by the AI model could be considered AI generated content, and it would be presented to the users. Therefore, the users would need to be notified that they are interacting with an AI.\n",
    "\n",
    "List of legal obligations to follow:\n",
    "* Keep up to date technical documentation of the model.\n",
    "* Cooperate as necessary with the Comission and national competent authorities.\n",
    "* Appoint an authorized representative.\n",
    "* Assess and mitigate possible systemic risks.\n",
    "\n",
    "\n",
    "References: Chapter V: General Purpose AI Models | EU Artificial Intelligence Act. (n.d.). https://artificialintelligenceact.eu/chapter/5/\n",
    "\n"
   ]
  },
  {
   "cell_type": "code",
   "execution_count": null,
   "id": "546b3904",
   "metadata": {},
   "outputs": [],
   "source": [
    "# Provide a list of associated legal obligations that must be followed and explain your approach for addressing them.(done)"
   ]
  },
  {
   "cell_type": "markdown",
   "id": "c749b1c5",
   "metadata": {},
   "source": [
    "[Link to the Trello board](https://github.com/BredaUniversityADSAI/2023-24d-fai1-adsai-personal-AnastasiiaMokhonko234301/blob/main/Trello%20board-team-17.csv)"
   ]
  },
  {
   "cell_type": "markdown",
   "id": "811eeebe",
   "metadata": {},
   "source": [
    "---"
   ]
  },
  {
   "cell_type": "markdown",
   "id": "273d8cd1",
   "metadata": {},
   "source": [
    "### Task 3.3 -  Reflection (Individual Task 3)\n",
    "\n",
    "For the group assignment you are required to contribute to the group legal assessment of the project. Provide evidences of your contribution and reflection on the legality of the individual contributions made to the project.\n",
    "\n",
    "This evidence is related to **sufficient** criterion. "
   ]
  },
  {
   "cell_type": "markdown",
   "id": "a12ca6a0",
   "metadata": {},
   "source": [
    "**Evidence of Contributions**:\n",
    "\n",
    "Me and my team we worked really hard on the terms and conditions for them app and every member of the team contributed to the final version. I was responsible for the GDPR compliance section and ensuring that user data is protected and handled according to legal requirements. I researched GDPR guidelines and integrated them into the terms and conditions document. My contribution helped ensure that our AI system complies with data protection laws and safeguards user privacy.\n",
    "\n",
    "### \n",
    "\n",
    "After discussing the topic with my team, we mostly agreed on the fact that our application would classify as Limited Risk. There were some doubts whether it might actually be High Risk, however since the application would not be used for decision making and only in an advisory role of sorts, it would fall under limited risk. In the end, my own classification was correct."
   ]
  },
  {
   "cell_type": "code",
   "execution_count": null,
   "id": "96a738ab",
   "metadata": {},
   "outputs": [],
   "source": [
    "# Include your reflection here and upload evidence of your individual contribution to GitHub. \n",
    "\n",
    "# Make sure to link your evidence in your learning log."
   ]
  },
  {
   "cell_type": "markdown",
   "id": "5b50dcd8",
   "metadata": {},
   "source": [
    "[Link to the Trello board](https://github.com/BredaUniversityADSAI/2023-24d-fai1-adsai-personal-AnastasiiaMokhonko234301/blob/main/Trello%20board-team-17.csv)"
   ]
  },
  {
   "cell_type": "markdown",
   "id": "7e67d698",
   "metadata": {},
   "source": [
    "---"
   ]
  },
  {
   "cell_type": "markdown",
   "id": "cb42b382",
   "metadata": {},
   "source": [
    "### Task 3.4 - Legal assessment (Group Task 1)\n",
    "\n",
    "For the group assignment, the team is expected to identify and explain the level of risk associated with the developed AI system. \n",
    "\n",
    "This evidence is related to **insufficient** criterion. "
   ]
  },
  {
   "cell_type": "markdown",
   "id": "7ad5a911",
   "metadata": {},
   "source": [
    "Include your explanation of the level of risk here:\n",
    "\n",
    "\n",
    "* Our AI system will be classified as Limited Risk, in line with the risk-based approach of the EU AI Act. This categorization is based on the potential impact of AI systems on fundamental rights and safety. Our system does not fall under the Minimal Risk category, as it will collect some personal data to provide advice to drivers. It will not be used for social impact, will not use biometrics, and will not be manipulative in nature. Therefore, it cannot be considered High or unacceptable risk.\n"
   ]
  },
  {
   "cell_type": "markdown",
   "id": "d88d8535",
   "metadata": {},
   "source": [
    "Make sure to include it to your final presentation. (done)"
   ]
  },
  {
   "cell_type": "markdown",
   "id": "2fa34082",
   "metadata": {},
   "source": [
    "[Link to the Trello board](https://github.com/BredaUniversityADSAI/2023-24d-fai1-adsai-personal-AnastasiiaMokhonko234301/blob/main/Trello%20board-team-17.csv)"
   ]
  },
  {
   "cell_type": "markdown",
   "id": "9a56585d",
   "metadata": {},
   "source": [
    "---"
   ]
  },
  {
   "cell_type": "markdown",
   "id": "6bd7b91b",
   "metadata": {},
   "source": [
    "### Task 3.5 - Legal requirements and obligations (Group Task 2)\n",
    "\n",
    "Identify and mention the legal requirements and obligations vital for addressing in the development of an AI system. Also, identify and mention the legal requirements and obligations that are not necessary to address in the development of an AI system. The legal assessment should be conducted in accordance with the AI Act.\n",
    "\n",
    "This evidence is related to **sufficient** criterion. "
   ]
  },
  {
   "cell_type": "markdown",
   "id": "74cf19aa",
   "metadata": {},
   "source": [
    "**Legal Requirements and Obligations for an Limited Risk Application**\n",
    " \n",
    "**Transparency Obligations**\n",
    "\n",
    "* Terms and conditions - Users must be informed when they are interacting with an AI system.\n",
    "**User Awareness**\n",
    "\n",
    "\n",
    "* Make a Disclaimer that the predictions are AI-generated.\n",
    "\n",
    "\n",
    "**Minimal Documentation**\n",
    "\n",
    "* An overview of how the model works is required.\n",
    "\n",
    "\n",
    "**Adherence to General Data Protection Regulations (GDPR)**\n",
    "\n",
    "\n",
    "\n",
    "* Have a query to delete users.\n",
    "\n",
    "\n",
    "\n",
    "* Make it possible to provide user data to the account owner.\n",
    "\n",
    "\n",
    "\n",
    "* Anonymize the data.\n",
    "\n",
    "\n",
    "\n",
    "**Risk Management**\n",
    "\n",
    "\n",
    "\n",
    "* Include unit tests to manage risks."
   ]
  },
  {
   "cell_type": "code",
   "execution_count": null,
   "id": "c954ede6",
   "metadata": {},
   "outputs": [],
   "source": [
    "# Make sure to include the list of legal requirements and obligations that are vital to address for the development of your AI system to your final presentation.(done)\n",
    "\n",
    "# In case you are developing an AI system that has no or minimum risks, make sure to mention it. (done)"
   ]
  },
  {
   "cell_type": "markdown",
   "id": "5ab2d86b",
   "metadata": {},
   "source": [
    "[Link to the Trello board](https://github.com/BredaUniversityADSAI/2023-24d-fai1-adsai-personal-AnastasiiaMokhonko234301/blob/main/Trello%20board-team-17.csv)"
   ]
  },
  {
   "cell_type": "markdown",
   "id": "e031f339",
   "metadata": {},
   "source": [
    "---"
   ]
  },
  {
   "cell_type": "markdown",
   "id": "aa147373",
   "metadata": {},
   "source": [
    "### Task 3.6 - Relevance of legal requirements and obligations (Group Task 3)\n",
    "\n",
    "The group must explain the relevance of legal requirements and obligations included in the group assessment of the project. Ensure to provide reasoning and arguments for both including and excluding specific legal requirements and obligations in the assessment. The reasoning should be supported by facts, details, and examples drawn from multiple sources to substantiate your claims.\n",
    "\n",
    "If you are developing an AI system that has no or minimal risks, you need to explain the exclusion of each legal requirement and obligation one by one. Provide an explanation and reasoning for why each factor is not applicable to your AI system. \n",
    "\n",
    "This evidence is related to **good** criterion. "
   ]
  },
  {
   "cell_type": "markdown",
   "id": "82f73f41",
   "metadata": {},
   "source": [
    "Provide your answers here:\n",
    "\n",
    "### Included obligations:\n",
    "**Transparency Obligations**\n",
    "Terms and conditions - Users must be informed when they are interacting with an AI system. This transparency helps users understand the role of AI in their interactions and the decisions that affect them.\n",
    "**User Awareness**\n",
    "Make a Disclaimer that the predictions are AI-generated. This makes it explicit to the user that they are interacting with an AI model.\n",
    "**Minimal Documentation**\n",
    "An overview of how the model works is required. This increases the transparency of the system and raises the public's trust.\n",
    "**Adherence to General Data Protection Regulations (GDPR)**\n",
    "Have a query to delete users.\n",
    "Make it possible to provide user data to the account owner.\n",
    "Anonymize the data.\n",
    "These obligations ensure that our AI system is GDPR-compliant.\n",
    "**Risk Management**\n",
    "Include unit tests to manage risks. This raises user trust and ensures ongoing compliance.\n",
    "\n",
    "\n",
    "### Excluded obligations:\n",
    "**Our system does not belong to any of the unnaceptable risk categories for AI systems (manipulative behavior, social scoring, exploiting vulnerabilities). Therefore, our applcation is not rated as unacceptable risk.**\n",
    "\n",
    "\n",
    "**Our system does not pose risks to health, safety, and fundamental rights. Therefore, our application is not rated as high risk. Because of that, some obligations we don't need to follow include:**\n",
    "* Maintain detailed technical documentation (the technical documentation we will use will have just enough information)\n",
    "* Keep logs of the AI's operations.\n",
    "* Implement measures for human oversight.\n",
    "* Conduct regular conformity assessments.\n",
    "* Conduct post-market monitoring and reporting.\n",
    "* Register the application in the EU Database."
   ]
  },
  {
   "cell_type": "markdown",
   "id": "61b29bc9",
   "metadata": {},
   "source": [
    "[Link to the Trello board](https://github.com/BredaUniversityADSAI/2023-24d-fai1-adsai-personal-AnastasiiaMokhonko234301/blob/main/Trello%20board-team-17.csv)"
   ]
  },
  {
   "cell_type": "markdown",
   "id": "48fe9a9c",
   "metadata": {},
   "source": [
    "---"
   ]
  },
  {
   "cell_type": "markdown",
   "id": "a0b09ef5",
   "metadata": {},
   "source": [
    "### Task 3.7 - Addressing legal obligations (Group Task 3)\n",
    "\n",
    "The group provides evidence and explanations of their AI system's compliance with legal requirements and obligations.\n",
    "\n",
    "If you are developing an AI system with no or minimal risks, ensure to write a paragraph explaining how your AI system complies with EU regulations (AI Act).\n",
    "\n",
    "This evidence is related to **excellent** criterion. "
   ]
  },
  {
   "cell_type": "markdown",
   "id": "68304d96",
   "metadata": {},
   "source": [
    "### Provide your answers here.\n",
    "\n",
    "**Our application is categorized as a limited-risk AI system, adhering to the requirements set forth by the EU AI Act. The app's design and functionalities ensure transparency, accountability, and user safety, aligning with the regulatory framework.**\n",
    "* Transparency: The app informs users about the use of artificial intelligence within its features and functionalities, as outlined in the terms and conditions. This ensures users are aware of and consent to the AI processes in place.\n",
    "* Data Protection and Privacy: In compliance with the EU AI Act, the app adheres to strict data protection protocols. User data is managed in accordance with the app's Privacy Policy, ensuring that all data practices are transparent, secure, and respect user privacy. Users are informed about how their data is collected, stored, and used, ensuring compliance with GDPR and related data protection regulations.\n",
    "* Risk Management: As a limited-risk AI system, the app implements necessary safeguards to mitigate potential risks associated with AI usage. The app prohibits illegal activities, unauthorized content distribution, and any actions that compromise security, ensuring a safe user experience.\n",
    "* Human Oversight and Testing: The app includes robust testing protocols to ensure the AI functionalities operate as intended and do not pose unforeseen risks. Regular testing allows for continuous monitoring and assessment of AI performance, ensuring that any issues are promptly addressed. This layer of oversight ensures that human intervention is available to manage and mitigate risks effectively.\n",
    "* Accountability and Legal Compliance: The terms and conditions explicitly state the governing law as the European Union's AI Act, ensuring that all operations are in strict compliance with EU legal standards. Any disputes are resolved under the jurisdiction of the courts of the European Union, ensuring adherence to regional legal frameworks.\n",
    "\n",
    "\n",
    "By integrating these measures, our application ensures comprehensive compliance with the EU AI Act, providing a secure, transparent, and legally compliant AI-driven experience for its users."
   ]
  },
  {
   "cell_type": "markdown",
   "id": "48201f9e",
   "metadata": {},
   "source": [
    "[Link to the Trello board](https://github.com/BredaUniversityADSAI/2023-24d-fai1-adsai-personal-AnastasiiaMokhonko234301/blob/main/Trello%20board-team-17.csv)"
   ]
  },
  {
   "cell_type": "markdown",
   "id": "cee79b0a",
   "metadata": {},
   "source": [
    "---"
   ]
  },
  {
   "cell_type": "markdown",
   "id": "1c392bae",
   "metadata": {},
   "source": [
    "## ILO 4.0: Business Understanding\n",
    "\n",
    "The student is capable to develop a project proposal  and deliver an impactful presentation to communicate the business values, objectives, and outcomes. \t\n",
    "\n",
    "Demonstrate the ability to develop a compelling project proposal  and deliver an impactful presentation that effectively communicates the business value, objectives, and outcomes of the proposed project:\n",
    "\n",
    "- **Poor**: Clear individual contribution is documented. A project proposal, compliant with professional standards, is prepared and presented. \n",
    "\n",
    "- **Insufficient**: A final presentation, compliant with professional standards, is prepared and presented. And meeting all criteria in poor.\n",
    "\n",
    "- **Sufficient**: The students demonstrate a profound understanding of business needs and industry context by developing a project proposal that effectively identifies and addresses client requirements. The proposal includes a clear problem statement, define project objectives, and propose feasible solutions that demonstrate a good understanding of the business environment. And meeting all criteria in insufficient.\n",
    "\n",
    "- **Good**: The students showcase a strong understanding of the business context in the final project presentation, effectively communicating insights. The final presentation is  engaging, well-structured, and emphasizes the practical implications within the broader business context. And meeting all criteria in sufficient.\n",
    "\n",
    "- **Excellent**: The students have developed an innovative solution that not only aligns closely with the client's specific requirements but also possesses considerable business value. And meeting all criteria in good."
   ]
  },
  {
   "cell_type": "markdown",
   "id": "e61620f2",
   "metadata": {},
   "source": [
    "---"
   ]
  },
  {
   "cell_type": "markdown",
   "id": "97a8b774",
   "metadata": {},
   "source": [
    "### Task 4.1 - Proposal\n",
    "\n",
    "Please provide the related link to your team proposal in the following cell. This evidence is related to **poor** and **sufficient** criteria."
   ]
  },
  {
   "cell_type": "markdown",
   "id": "86bc5282",
   "metadata": {},
   "source": [
    "Put the link to your team proposal here \n",
    "\n",
    "[Team Proposal](https://github.com/BredaUniversityADSAI/2023-24d-fai1-adsai-personal-AnastasiiaMokhonko234301/blob/main/proposa(final).pdf)"
   ]
  },
  {
   "cell_type": "markdown",
   "id": "8af64b9d",
   "metadata": {},
   "source": [
    "Put the link to the proposal presentation file here\n",
    "\n",
    "[Proposal Presentation](https://github.com/BredaUniversityADSAI/2023-24d-fai1-adsai-personal-AnastasiiaMokhonko234301/blob/main/Proposal%20Presentation.pdf)\n"
   ]
  },
  {
   "cell_type": "markdown",
   "id": "ab978a1e",
   "metadata": {},
   "source": [
    "---"
   ]
  },
  {
   "cell_type": "markdown",
   "id": "6e615047",
   "metadata": {},
   "source": [
    "### Task 4.2 - Final Presentation\n",
    "\n",
    "Please provide the related link to your final presentation in the following cell. This evidence pertains to **insufficient**, **good**, and **excellent** criteria.If possible, please save your presentation file as a PDF and provide the corresponding link here."
   ]
  },
  {
   "cell_type": "markdown",
   "id": "cbbc1d23",
   "metadata": {},
   "source": [
    "### Put the link to the final presentation here\n",
    "\n",
    "[Final Presentation](https://github.com/BredaUniversityADSAI/2023-24d-fai1-adsai-personal-AnastasiiaMokhonko234301/blob/main/Final%20Presentation.pdf)\n",
    "\n"
   ]
  },
  {
   "cell_type": "markdown",
   "metadata": {},
   "source": [
    "---"
   ]
  },
  {
   "cell_type": "markdown",
   "id": "507c0c04",
   "metadata": {},
   "source": [
    "## ILO 5.0: Data Understanding and Preparation\n",
    "\n",
    "The student is able to collect, combine, explore, and preprocess  data, while assessing data quality, and providing recommendations to improve the data management strategy.\t\n",
    "\n",
    "Shows understanding of the data and is able to preprocess a dataset which is suited for further modelling:\n",
    "\n",
    "- **Poor**: Clear individual contribution is documented. Demonstrates the ability to connect to a SQL database. \n",
    "\n",
    "- **Insufficient**: Demonstrates the ability to access data in a SQL database using a simple query and meeting all requirements in Poor.\n",
    "\n",
    "- **Sufficient**: Demonstrates the ability to access data stored in a SQL database from a scripting language such as Python, removes unnecessary columns, handles missing values, addresses any inconsistencies, errors, or outliers, standardizes formats, and encodes categorical variables appropriately, splits the dataset into training, validation, and test sets appropriately and meeting all criteria in insufficient.\n",
    "\n",
    "- **Good**: Demonstrates the ability to combine data stored in a SQL database using techniques such as a Join, normalize and standardize numerical features, extracts relevant features, or creates new features from date and time information (if applicable), creates new features from existing features to generate more informative ones (if applicable), and meeting all criteria in sufficient.\n",
    "\n",
    "- **Excellent**: Demonstrates advanced data modelling techniques by expanding out the data warehouse using techniques such as views, balance data considering techniques such as oversampling or undersampling to balance the class distribution (if applicable), normalizes the target variable if it has a skewed distribution, and saves the preprocessing steps and configuration used to be applied consistently to new data and meeting all criteria in good.\n"
   ]
  },
  {
   "cell_type": "markdown",
   "id": "76bdded7",
   "metadata": {},
   "source": [
    "### **Link to the Preprocessing File**\n",
    "\n",
    "[Preprocessing File](https://github.com/BredaUniversityADSAI/2023-24d-fai1-adsai-personal-AnastasiiaMokhonko234301/blob/main/v1_prepr_final.ipynb)"
   ]
  },
  {
   "cell_type": "markdown",
   "id": "ae14163a",
   "metadata": {},
   "source": [
    "---"
   ]
  },
  {
   "cell_type": "markdown",
   "id": "24628cea",
   "metadata": {},
   "source": [
    "### Task 5.1 - Connecting to SQL database\n",
    "\n",
    "Please provide the necessary code to connect to SQL database in the following cell. This requirement relates to **poor** criterion.\n",
    "\n",
    "__Important!__ Do __NOT__ include usernames or passwords in plain text in your submission. \n",
    "You can replace them with Environment Variables, Placeholders, etc."
   ]
  },
  {
   "cell_type": "markdown",
   "id": "853863c6",
   "metadata": {},
   "source": [
    "### Put your codes here\n",
    "\n",
    "The code to connect to the SQL database can be seen in Step 1 of the preprocessing file!\n",
    "\n",
    "  \n",
    "[Preprocessing File](https://github.com/BredaUniversityADSAI/2023-24d-fai1-adsai-personal-AnastasiiaMokhonko234301/blob/main/v1_prepr_final.ipynb)"
   ]
  },
  {
   "cell_type": "markdown",
   "id": "bae8cd32",
   "metadata": {},
   "source": [
    "---"
   ]
  },
  {
   "cell_type": "markdown",
   "id": "5df7d182",
   "metadata": {},
   "source": [
    "### Task 5.2 - Accessing Data in Database\n",
    "\n",
    "Please provide the corresponding code for a simple query to access the data. This requirement is related to the **insufficient** criterion.\n",
    "\n",
    "__Important!__ Do __NOT__ include usernames or passwords in plain text in your submission. \n",
    "You can replace them with Environment Variables, Placeholders, etc. "
   ]
  },
  {
   "cell_type": "markdown",
   "id": "1469feb0",
   "metadata": {},
   "source": [
    "### Put your codes here\n",
    "\n",
    "The code for a simple query to access the data can be seen is Step 2 of the preprocessing file!\n",
    "\n",
    "  \n",
    "[Preprocessing File](https://github.com/BredaUniversityADSAI/2023-24d-fai1-adsai-personal-AnastasiiaMokhonko234301/blob/main/v1_prepr_final.ipynb)"
   ]
  },
  {
   "cell_type": "markdown",
   "id": "e49616af",
   "metadata": {},
   "source": [
    "---"
   ]
  },
  {
   "cell_type": "markdown",
   "id": "fffa7b67",
   "metadata": {},
   "source": [
    "### Task 5.3 - Pre-processing the Data\n",
    "\n",
    "Please provide the relevant code to perform preprocessing on the data. Refer to the related criterion for detailed instructions on the preprocessing steps. This criterion is associated with the **sufficient** criterion.\n",
    "\n",
    "__Important!__ Do __NOT__ include usernames or passwords in plain text in your submission. \n",
    "You can replace them with Environment Variables, Placeholders, etc."
   ]
  },
  {
   "cell_type": "markdown",
   "id": "c1d20aa5",
   "metadata": {},
   "source": [
    "The code relevant to performing preprocessing on the data can be seen from Step 3 to Step 7 of the preprocessing file!\n",
    "\n",
    "[Preprocessing File](https://github.com/BredaUniversityADSAI/2023-24d-fai1-adsai-personal-AnastasiiaMokhonko234301/blob/main/v1_prepr_final.ipynb)"
   ]
  },
  {
   "cell_type": "markdown",
   "id": "9e288ff5",
   "metadata": {},
   "source": [
    "---"
   ]
  },
  {
   "cell_type": "markdown",
   "id": "d1525bc4",
   "metadata": {},
   "source": [
    "### Task 5.4 - Advanced Pre-processing of Data\n",
    "\n",
    "Please provide the relevant code for joining datasets and performing advanced data preprocessing. Refer to the **good** criterion explanation for a better understanding of the steps to consider for this criterion. This evidence corresponds to the **good** criterion.\n",
    "\n",
    "__Important!__ Do __NOT__ include usernames or passwords in plain text in your submission. \n",
    "You can replace them with Environment Variables, Placeholders, etc."
   ]
  },
  {
   "cell_type": "markdown",
   "id": "93ccc1be",
   "metadata": {},
   "source": [
    "### Put your codes here\n",
    "\n",
    "The relevant code for joining datasets and performing advanced data preprocessing can be seen from Step 8 to Step 14 of the preprocessing file!\n",
    "\n",
    "[Preprocessing File](https://github.com/BredaUniversityADSAI/2023-24d-fai1-adsai-personal-AnastasiiaMokhonko234301/blob/main/v1_prepr_final.ipynb)"
   ]
  },
  {
   "cell_type": "markdown",
   "id": "ca64fe24",
   "metadata": {},
   "source": [
    "---"
   ]
  },
  {
   "cell_type": "markdown",
   "id": "cad74437",
   "metadata": {},
   "source": [
    "### Task 5.5 - Final Data Preparation\n",
    "\n",
    "Please provide evidence of the techniques used to balance the class distribution and normalize the target variable, if applicable. This corresponds to the first part of the **Excellent** criterion.  \n",
    "\n",
    "__Important!__ Do __NOT__ include usernames or passwords in plain text in your submission. \n",
    "You can replace them with Environment Variables, Placeholders, etc."
   ]
  },
  {
   "cell_type": "markdown",
   "id": "b06ab92c",
   "metadata": {},
   "source": [
    "### Put the codes here\n",
    "\n",
    "The techniques used to balance the class distribution and normalize the target variable can be seen in Step 9 and from Step 15 to Step 16 of the preprocessing file!\n",
    "\n",
    "[Preprocessing File](https://github.com/BredaUniversityADSAI/2023-24d-fai1-adsai-personal-AnastasiiaMokhonko234301/blob/main/v1_prepr_final.ipynb)"
   ]
  },
  {
   "cell_type": "markdown",
   "id": "2fef0cc8",
   "metadata": {},
   "source": [
    "---"
   ]
  },
  {
   "cell_type": "markdown",
   "id": "e7961346",
   "metadata": {},
   "source": [
    "Please provide a link to a PDF file in the following cell. This PDF should explain all the preprocessing steps and configurations used to prepare the data before proceeding to the modeling phase of the project. In addition, the PDF should include a schema diagram of your data warehouse this corresponds with the **Excellent** criterion."
   ]
  },
  {
   "cell_type": "markdown",
   "id": "1bff7b58",
   "metadata": {},
   "source": [
    "### Put the link to the PDF file here\n",
    "\n",
    "[ILO 5 Preprocessing steps](https://github.com/BredaUniversityADSAI/2023-24d-fai1-adsai-personal-AnastasiiaMokhonko234301/blob/main/Preprocessing%20Steps%20(ILO%205).pdf)\n"
   ]
  },
  {
   "cell_type": "markdown",
   "id": "666cba60",
   "metadata": {},
   "source": [
    "---"
   ]
  },
  {
   "cell_type": "markdown",
   "id": "e6ee2e1b",
   "metadata": {},
   "source": [
    "## ILO 6.0: Modelling, Evaluation, and Iteration\n",
    "\n",
    "The student is able to select, implement and evaluate machine learning models, and improve their performance through iteration(s) to meet the business requirement. \t\n",
    "\n",
    "Demonstrates basic knowledge of modeling, evaluation, and iteration in developing both traditional and deep machine learning models, as well as understanding of the concept of the trade-off between model complexity and performance:\n",
    "\n",
    "- **Poor**: Clear individual contribution is documented. The student demonstrates the ability to  select a suitable machine learning algorithm based on the task's nature (e.g., classification, regression, time series prediction) and data characteristics. The student is able to  train a model using the chosen algorithm on the training dataset. \n",
    "\n",
    "- **Insufficient**: The student demonstrates the ability to evaluate a trained model's performance on a dataset, measuring its ability to generalize to new, unseen data. Additionally, the student exhibits the ability to select suitable evaluation metrics based on the type of task the model is designed for. And meeting all criteria in poor.\n",
    "\n",
    "- **Sufficient**: The student demonstrates the ability to iteratively refine and enhance the model's performance on a specific problem through a cycle involving training, evaluating results, and making adjustments. These adjustments encompass fine-tuning hyperparameters, modifying the model architecture, and improving data pre-processing steps. And meeting all criteria in insufficient. \n",
    "\n",
    "- **Good**: The student demonstrates the ability to select the appropriate machine learning algorithm, considering the trade-off between the desired model complexity and the required level of performance for a specific task. The students is able to compare at least two different relevant machine learning models for a specific task based on their final performance and complexity. And meeting all criteria in sufficient.\n",
    "\n",
    "- **Excellent**: The student demonstrates the capability to develop deep machine learning models, such as conducting time series forecasting using recurrent neural networks, implementing deep neural networks for classification or regression, training autoencoder neural networks for unsupervised learning or feature learning. And meeting all criteria in good.  "
   ]
  },
  {
   "cell_type": "markdown",
   "id": "f12609dd",
   "metadata": {},
   "source": [
    "---"
   ]
  },
  {
   "cell_type": "markdown",
   "id": "ffe00359",
   "metadata": {},
   "source": [
    "### Task 6.1 - Modelling\n",
    "\n",
    "Please provide a link to a file in the following cell, which clarifies the individual contributions of all your team members. This is the first part of the evidences for the **poor** criterion. "
   ]
  },
  {
   "cell_type": "markdown",
   "id": "9b25f257",
   "metadata": {},
   "source": [
    "### Put the related link here\n",
    "[Link to the Trello board](https://github.com/BredaUniversityADSAI/2023-24d-fai1-adsai-personal-AnastasiiaMokhonko234301/blob/main/Trello%20board-team-17.csv)"
   ]
  },
  {
   "cell_type": "markdown",
   "id": "719c0497",
   "metadata": {},
   "source": [
    "Please provide the corresponding code for training the model based on your chosen algorithm. This is the second piece of evidence corresponding to the **poor** criterion."
   ]
  },
  {
   "cell_type": "markdown",
   "id": "e0ac491d",
   "metadata": {},
   "source": [
    "### Put your codes here\n",
    "\n",
    "The code for training the first chosen model can be found in the final_model_notebook file, in the chapter Modeling, in the subsection 1st model - Logistic Regression.\n",
    "\n",
    "[The final model notebook](https://github.com/BredaUniversityADSAI/2023-24d-fai1-adsai-personal-AnastasiiaMokhonko234301/blob/main/final_model_notebook.ipynb)"
   ]
  },
  {
   "cell_type": "markdown",
   "id": "3427abc1",
   "metadata": {},
   "source": [
    "---"
   ]
  },
  {
   "cell_type": "markdown",
   "id": "6e8f937f",
   "metadata": {},
   "source": [
    "### Task 6.2 - Evaluation\n",
    "\n",
    "Please provide the related link for the evaluation of the trained model. This evidence relates to the **insufficient** criterion. "
   ]
  },
  {
   "cell_type": "markdown",
   "id": "2810bf0c",
   "metadata": {},
   "source": [
    "### Put your codes here\n",
    "\n",
    "The code for evaluating the first chosen model can be found in the final_model_notebook file, in the chapter Modeling, in the subsection 1st model - Logistic Regression.\n",
    "\n",
    "[The final model notebook](https://github.com/BredaUniversityADSAI/2023-24d-fai1-adsai-personal-AnastasiiaMokhonko234301/blob/main/final_model_notebook.ipynb)"
   ]
  },
  {
   "cell_type": "markdown",
   "id": "21195ffc",
   "metadata": {},
   "source": [
    "---"
   ]
  },
  {
   "cell_type": "markdown",
   "id": "efe5ba41",
   "metadata": {},
   "source": [
    "### Task 6.3 - Iteration\n",
    "\n",
    "Please provide all the corresponding code for improving the model performance, taking into account the iterations. For more details on the types of iterations required, please refer to the explanation for the sufficient criterion. This evidence corresponds to the **sufficient** criterion."
   ]
  },
  {
   "cell_type": "markdown",
   "id": "260682a8",
   "metadata": {},
   "source": [
    "### Put you codes here\n",
    "\n",
    "The code for the hyperparameter tuning of the first chosen model and reevaluation can be found in the final_model_notebook file, in the chapter Modeling, in the subsection 1st model - Logistic Regression.\n",
    "\n",
    "[The final model notebook](https://github.com/BredaUniversityADSAI/2023-24d-fai1-adsai-personal-AnastasiiaMokhonko234301/blob/main/final_model_notebook.ipynb)"
   ]
  },
  {
   "cell_type": "markdown",
   "id": "5d3a642c",
   "metadata": {},
   "source": [
    "---"
   ]
  },
  {
   "cell_type": "markdown",
   "id": "ab97320c",
   "metadata": {},
   "source": [
    "### Task 6.4 - Model Comparison\n",
    "\n",
    "Please provide the related code for evaluating the model complexity and performance. Refer to the explanation for the **good** criterion. Note that you need to compare at least two different models based on performance and model complexity. This criterion corresponds to the **good** criterion."
   ]
  },
  {
   "cell_type": "markdown",
   "id": "91705425",
   "metadata": {},
   "source": [
    "### Put your codes here\n",
    "\n",
    "The code for the training, evaluation, and iteration of the second model can be found in the final_model_notebook file, in the chapter Modeling, in the subsection 2nd model - Decision Tree. The verdict regarding which model suits our application better can be found under the Decision part of the same subsection.\n",
    "\n",
    "[The final model notebook](https://github.com/BredaUniversityADSAI/2023-24d-fai1-adsai-personal-AnastasiiaMokhonko234301/blob/main/final_model_notebook.ipynb)"
   ]
  },
  {
   "cell_type": "markdown",
   "id": "a4318870",
   "metadata": {},
   "source": [
    "---"
   ]
  },
  {
   "cell_type": "markdown",
   "id": "9205bfb7",
   "metadata": {},
   "source": [
    "### Task 6.5 - Complex Machine Learning Model\n",
    "\n",
    "Please provide the corresponding code for the deep machine learning model. For more details, please refer to the **excellent** criterion. For this section, you need to use **Keras** to train a deep machine learning model. This evidence corresponds to the **excellent** criterion."
   ]
  },
  {
   "cell_type": "markdown",
   "id": "57308ade",
   "metadata": {},
   "source": [
    "### Put your codes here\n",
    "\n",
    "The code for the training, evaluation, and iteration of the deep learning model can be found in the *final_model_notebook* file, in the chapter *Modeling*, in the subsection *Deep Learning*. The comparison against the classical models can be found at the end of the section, in the *Comparison with classical models* part.\n",
    "\n",
    "[The final model notebook](https://github.com/BredaUniversityADSAI/2023-24d-fai1-adsai-personal-AnastasiiaMokhonko234301/blob/main/final_model_notebook.ipynb)"
   ]
  },
  {
   "cell_type": "markdown",
   "id": "ce70a561",
   "metadata": {},
   "source": [
    "---"
   ]
  },
  {
   "cell_type": "markdown",
   "id": "415b0e32",
   "metadata": {},
   "source": [
    "## ILO 7.0: Deployment\n",
    "\n",
    "The student is able to deliver value to the stakeholders by delivering production-ready code that is designed to be implemented into practical real-world scenarios such as applications or products.\n",
    "\n",
    "Delivers value to the stakeholders by providing production-ready code that can be implemented into practical real-world scenarios through a proof of concept deployment:\n",
    "\n",
    "- **Poor**: Clear Individual contribution is documented. Python scripts are delivered.\n",
    "\n",
    "- **Insufficient**: Creates a virtual environment and utilizes it alongside a package manager, enabling efficient management of dependencies and packages required for a data science project. And meeting all criteria in poor.\n",
    "\n",
    "- **Sufficient**: Works towards delivering clean code according to industry standards, for example, by using logging, linting, doc strings, code formatting, refactoring etc. And meeting all criteria in insufficient.\n",
    "\n",
    "- **Good**: Unit tests are conducted to check the robustness of the delivered code with a test coverage of at least 30%. Industry-standard tools are used to document the code (e.g., sphinx). And meeting all criteria in sufficient.\n",
    "\n",
    "- **Excellent**: Industry ready applications are created and ready to be deployed. Streamlit or other such tools are used to create user friendly interface, which serves the business objective. And meeting all criteria in good."
   ]
  },
  {
   "cell_type": "markdown",
   "id": "d60db92a",
   "metadata": {},
   "source": [
    "[Link to the Trello board](https://github.com/BredaUniversityADSAI/2023-24d-fai1-adsai-personal-AnastasiiaMokhonko234301/blob/main/Trello%20board-team-17.csv)"
   ]
  },
  {
   "cell_type": "markdown",
   "id": "281fec39",
   "metadata": {},
   "source": [
    "---"
   ]
  },
  {
   "cell_type": "markdown",
   "id": "e30933da",
   "metadata": {},
   "source": [
    "### Task 7.1 - Python Scripts\n",
    "\n",
    "Please add Individual Python scripts, and/or the link to your peers' Python scripts, if needed. Links should direct only to your own GitHub repository. This evidence corresponds to the **poor** criterion."
   ]
  },
  {
   "cell_type": "markdown",
   "id": "3a2d8336",
   "metadata": {},
   "source": [
    "### Put your code and/or link here.\n",
    "\n",
    "\n",
    "\n",
    "* [Starting page:](https://github.com/BredaUniversityADSAI/2023-24d-fai1-adsai-personal-AnastasiiaMokhonko234301/blob/main/streamlit_app.py)\n",
    "* [Route page:](https://github.com/BredaUniversityADSAI/2023-24d-fai1-adsai-personal-AnastasiiaMokhonko234301/blob/main/Route.py)\n",
    "* [App.py:](https://github.com/BredaUniversityADSAI/2023-24d-fai1-adsai-personal-AnastasiiaMokhonko234301/blob/main/app.py)"
   ]
  },
  {
   "cell_type": "markdown",
   "id": "6df6fbe1",
   "metadata": {},
   "source": [
    "---"
   ]
  },
  {
   "cell_type": "markdown",
   "id": "cd5e5c23",
   "metadata": {},
   "source": [
    "### Task 7.2 - Virtual Environment\n",
    "\n",
    "Please provide the link to the requirements.txt file here for Virtual environment. Also add the screenshots of creating the virtual environment and running the code in the virtual environment. This evidence corresponds to the **insufficient** criterion."
   ]
  },
  {
   "cell_type": "markdown",
   "id": "0c15bc4c",
   "metadata": {},
   "source": [
    "### Put your evidence here\n",
    "\n",
    "* [Screenshot of the virtual environment:](https://github.com/BredaUniversityADSAI/2023-24d-fai1-adsai-personal-AnastasiiaMokhonko234301/blob/main/poetry_screenshot.PNG)"
   ]
  },
  {
   "attachments": {
    "image.png": {
     "image/png": "[encoded data removed]"
    }
   },
   "cell_type": "markdown",
   "id": "976d7c8a",
   "metadata": {},
   "source": [
    "![image.png](attachment:image.png)"
   ]
  },
  {
   "cell_type": "markdown",
   "id": "815bf3c5",
   "metadata": {},
   "source": [
    "---"
   ]
  },
  {
   "cell_type": "markdown",
   "id": "fddc3408",
   "metadata": {},
   "source": [
    "### Task 7.3 - Cleaning your code\n",
    "\n",
    "Please provide an example of how you commneted, and how you structured your code [Linting, Logging, Docstrings etc]. This evidence corresponds to **sufficient** criterion."
   ]
  },
  {
   "cell_type": "markdown",
   "id": "ea540093",
   "metadata": {},
   "source": [
    "### Put your evidence here\n",
    "\n",
    "* [Streamlit running:](https://github.com/BredaUniversityADSAI/2023-24d-fai1-adsai-personal-AnastasiiaMokhonko234301/blob/main/streamlit%20running.jpg)\n",
    "* [Streamlit running(Terminal):](https://github.com/BredaUniversityADSAI/2023-24d-fai1-adsai-personal-AnastasiiaMokhonko234301/blob/main/streamlit%20running(terminal).jpg)\n",
    "\n",
    "* [Starting page:](https://github.com/BredaUniversityADSAI/2023-24d-fai1-adsai-personal-AnastasiiaMokhonko234301/blob/main/streamlit_app.py)\n",
    "* [Route page:](https://github.com/BredaUniversityADSAI/2023-24d-fai1-adsai-personal-AnastasiiaMokhonko234301/blob/main/Route.py)\n",
    "* [App.py:](https://github.com/BredaUniversityADSAI/2023-24d-fai1-adsai-personal-AnastasiiaMokhonko234301/blob/main/app.py)"
   ]
  },
  {
   "cell_type": "markdown",
   "id": "15fe60dc",
   "metadata": {},
   "source": [
    "---"
   ]
  },
  {
   "cell_type": "markdown",
   "id": "c9ea62fe",
   "metadata": {},
   "source": [
    "### Task 7.4 - Test Coverage\n",
    "\n",
    "Please provide sample unit test cases and evidence that you managed to meet 30% of the code coverage. This evidence corresponds to **good** criterion."
   ]
  },
  {
   "cell_type": "markdown",
   "id": "480f8816",
   "metadata": {},
   "source": [
    "### Put your evidence here\n",
    "\n",
    "* [Test coverage:](https://github.com/BredaUniversityADSAI/2023-24d-fai1-adsai-personal-AnastasiiaMokhonko234301/blob/main/Unit%20testing.jpg)"
   ]
  },
  {
   "attachments": {
    "image.png": {
     "image/png": "[encoded data removed]"
    }
   },
   "cell_type": "markdown",
   "id": "5185a931",
   "metadata": {},
   "source": [
    "![image.png](attachment:image.png)"
   ]
  },
  {
   "cell_type": "markdown",
   "id": "b233204c",
   "metadata": {},
   "source": [
    "---"
   ]
  },
  {
   "cell_type": "markdown",
   "id": "c9c5c4af",
   "metadata": {},
   "source": [
    "### Task 7.5 - Production Ready application\n",
    "\n",
    "Please provide evidence regarding how you intended to deliver this Python application to the end user / client. Examples include Streamlit, Flask, Django, FastAPI, etc. This evidence corresponds to **excellent** criterion."
   ]
  },
  {
   "cell_type": "markdown",
   "id": "efdbc620",
   "metadata": {},
   "source": [
    "### Put your evidence here\n",
    "\n",
    "The evidence regarding the production-ready Streamlit application can be found below.\n",
    "\n",
    "* [Starting page:](https://github.com/BredaUniversityADSAI/2023-24d-fai1-adsai-personal-AnastasiiaMokhonko234301/blob/main/streamlit_app.py)\n",
    "* [Route page:](https://github.com/BredaUniversityADSAI/2023-24d-fai1-adsai-personal-AnastasiiaMokhonko234301/blob/main/Route.py)\n",
    "* [App.py:](https://github.com/BredaUniversityADSAI/2023-24d-fai1-adsai-personal-AnastasiiaMokhonko234301/blob/main/app.py)"
   ]
  },
  {
   "cell_type": "markdown",
   "id": "cb1b0180",
   "metadata": {},
   "source": [
    "---"
   ]
  }
 ],
 "metadata": {
  "kernelspec": {
   "display_name": "Python 3 (ipykernel)",
   "language": "python",
   "name": "python3"
  },
  "language_info": {
   "codemirror_mode": {
    "name": "ipython",
    "version": 3
   },
   "file_extension": ".py",
   "mimetype": "text/x-python",
   "name": "python",
   "nbconvert_exporter": "python",
   "pygments_lexer": "ipython3",
   "version": "3.9.6"
  }
 },
 "nbformat": 4,
 "nbformat_minor": 5
}
