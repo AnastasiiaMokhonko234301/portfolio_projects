{
 "cells": [
  {
   "cell_type": "code",
   "execution_count": 1,
   "id": "2a445e9a-66ff-4a54-9471-ad0f3dc1bccd",
   "metadata": {
    "execution": {
     "iopub.execute_input": "2024-06-19T10:37:43.599754Z",
     "iopub.status.busy": "2024-06-19T10:37:43.599405Z",
     "iopub.status.idle": "2024-06-19T10:37:43.605067Z",
     "shell.execute_reply": "2024-06-19T10:37:43.604659Z",
     "shell.execute_reply.started": "2024-06-19T10:37:43.599735Z"
    }
   },
   "outputs": [],
   "source": [
    "import os\n",
    "# Disable GPU for tensorflow\n",
    "os.environ['CUDA_VISIBLE_DEVICES'] = '-1'"
   ]
  },
  {
   "cell_type": "code",
   "execution_count": 2,
   "id": "3a7f7d6e-ec23-4775-a48c-29c40c6c2ae6",
   "metadata": {
    "execution": {
     "iopub.execute_input": "2024-06-19T10:37:43.605846Z",
     "iopub.status.busy": "2024-06-19T10:37:43.605682Z",
     "iopub.status.idle": "2024-06-19T10:37:47.456980Z",
     "shell.execute_reply": "2024-06-19T10:37:47.456371Z",
     "shell.execute_reply.started": "2024-06-19T10:37:43.605829Z"
    }
   },
   "outputs": [
    {
     "name": "stderr",
     "output_type": "stream",
     "text": [
      "2024-06-19 10:37:45.419466: I tensorflow/core/platform/cpu_feature_guard.cc:210] This TensorFlow binary is optimized to use available CPU instructions in performance-critical operations.\n",
      "To enable the following instructions: AVX2 FMA, in other operations, rebuild TensorFlow with the appropriate compiler flags.\n"
     ]
    }
   ],
   "source": [
    "import psycopg2\n",
    "import pandas as pd\n",
    "import numpy as np\n",
    "import matplotlib.pyplot as plt\n",
    "import seaborn as sns\n",
    "import tensorflow as tf\n",
    "import warnings\n",
    "\n",
    "from scipy.stats import chi2_contingency, randint, uniform\n",
    "from scipy import stats\n",
    "\n",
    "from sklearn.linear_model import LogisticRegression\n",
    "from sklearn.ensemble import RandomForestClassifier, GradientBoostingClassifier\n",
    "from sklearn.tree import DecisionTreeClassifier\n",
    "from sklearn.preprocessing import MinMaxScaler, LabelEncoder\n",
    "from sklearn.model_selection import train_test_split, cross_val_score, RandomizedSearchCV\n",
    "from sklearn.metrics import accuracy_score, classification_report\n",
    "from sklearn.utils import resample\n",
    "from sklearn import preprocessing\n",
    "from joblib import dump\n",
    "\n",
    "from keras.models import Sequential\n",
    "from keras.layers import Dense, Dropout\n",
    "from keras.utils import to_categorical\n",
    "from keras.callbacks import EarlyStopping"
   ]
  },
  {
   "cell_type": "code",
   "execution_count": 3,
   "id": "4d99931d-4b25-4d71-8453-0f041483892d",
   "metadata": {
    "execution": {
     "iopub.execute_input": "2024-06-19T10:37:47.459287Z",
     "iopub.status.busy": "2024-06-19T10:37:47.458688Z",
     "iopub.status.idle": "2024-06-19T10:37:47.462212Z",
     "shell.execute_reply": "2024-06-19T10:37:47.461615Z",
     "shell.execute_reply.started": "2024-06-19T10:37:47.459266Z"
    }
   },
   "outputs": [],
   "source": [
    "# Supress warnings\n",
    "warnings.filterwarnings(\"ignore\")"
   ]
  },
  {
   "cell_type": "code",
   "execution_count": 4,
   "id": "511a4657-e3f0-4d46-bfe1-317db5bc3429",
   "metadata": {
    "execution": {
     "iopub.execute_input": "2024-06-19T10:37:47.463347Z",
     "iopub.status.busy": "2024-06-19T10:37:47.463063Z",
     "iopub.status.idle": "2024-06-19T10:37:47.465696Z",
     "shell.execute_reply": "2024-06-19T10:37:47.465205Z",
     "shell.execute_reply.started": "2024-06-19T10:37:47.463328Z"
    }
   },
   "outputs": [],
   "source": [
    "# Show all columns\n",
    "pd.set_option('display.max_columns', None)"
   ]
  },
  {
   "cell_type": "markdown",
   "id": "5f8ddbd9",
   "metadata": {},
   "source": [
    "# Safe Driving Dataset"
   ]
  },
  {
   "cell_type": "code",
   "execution_count": 5,
   "id": "748c1d97-6361-4332-9291-8fd9719da77f",
   "metadata": {
    "execution": {
     "iopub.execute_input": "2024-06-19T10:37:47.466606Z",
     "iopub.status.busy": "2024-06-19T10:37:47.466432Z",
     "iopub.status.idle": "2024-06-19T10:37:47.477567Z",
     "shell.execute_reply": "2024-06-19T10:37:47.476755Z",
     "shell.execute_reply.started": "2024-06-19T10:37:47.466588Z"
    }
   },
   "outputs": [],
   "source": [
    "# Define the database parameters\n",
    "db_params = {\n",
    "    'host': '194.171.191.226',\n",
    "    'port': '6379',\n",
    "    'database': 'postgres',\n",
    "    'user': 'group17',\n",
    "    'password': 'blockd_2024group17_61'\n",
    "}\n"
   ]
  },
  {
   "cell_type": "code",
   "execution_count": 6,
   "id": "86e22eda-693c-4ba4-b58b-b8a90652cc12",
   "metadata": {
    "execution": {
     "iopub.execute_input": "2024-06-19T10:37:47.479046Z",
     "iopub.status.busy": "2024-06-19T10:37:47.478502Z",
     "iopub.status.idle": "2024-06-19T10:38:02.126015Z",
     "shell.execute_reply": "2024-06-19T10:38:02.125056Z",
     "shell.execute_reply.started": "2024-06-19T10:37:47.479023Z"
    }
   },
   "outputs": [],
   "source": [
    "# Connect to the database\n",
    "conn = psycopg2.connect(**db_params)\n",
    "\n",
    "cursor = conn.cursor()\n",
    "\n",
    "# Query the database\n",
    "query = \"\"\"SELECT * FROM data_lake.safe_driving\"\"\"\n",
    "\n",
    "# Load the data into a DataFrame\n",
    "df = pd.read_sql_query(query, conn)"
   ]
  },
  {
   "cell_type": "code",
   "execution_count": 7,
   "id": "673755bd-6966-4822-8541-5b54094b5249",
   "metadata": {
    "execution": {
     "iopub.execute_input": "2024-06-19T10:38:02.127325Z",
     "iopub.status.busy": "2024-06-19T10:38:02.127112Z",
     "iopub.status.idle": "2024-06-19T10:38:02.369991Z",
     "shell.execute_reply": "2024-06-19T10:38:02.369382Z",
     "shell.execute_reply.started": "2024-06-19T10:38:02.127305Z"
    }
   },
   "outputs": [],
   "source": [
    "# Filter DataFrame to only include valid data\n",
    "df = df[df['is_valid'] == True]"
   ]
  },
  {
   "cell_type": "code",
   "execution_count": 8,
   "id": "ef61637d-53ca-43ed-aed8-eb644e98eca1",
   "metadata": {
    "execution": {
     "iopub.execute_input": "2024-06-19T10:38:02.370925Z",
     "iopub.status.busy": "2024-06-19T10:38:02.370723Z",
     "iopub.status.idle": "2024-06-19T10:38:05.085966Z",
     "shell.execute_reply": "2024-06-19T10:38:05.085368Z",
     "shell.execute_reply.started": "2024-06-19T10:38:02.370905Z"
    }
   },
   "outputs": [],
   "source": [
    "# Extract the numeric part of the incident_severity column\n",
    "df['incident_severity'] = df['incident_severity'].str.extract('(\\d+)')\n",
    "\n",
    "# Convert the extracted string to a number\n",
    "df['incident_severity'] = pd.to_numeric(df['incident_severity'])"
   ]
  },
  {
   "cell_type": "code",
   "execution_count": 9,
   "id": "987f4ca5-6afd-4e81-abec-083c6ae46f99",
   "metadata": {
    "execution": {
     "iopub.execute_input": "2024-06-19T10:38:05.086911Z",
     "iopub.status.busy": "2024-06-19T10:38:05.086716Z",
     "iopub.status.idle": "2024-06-19T10:38:09.122805Z",
     "shell.execute_reply": "2024-06-19T10:38:09.121696Z",
     "shell.execute_reply.started": "2024-06-19T10:38:05.086892Z"
    }
   },
   "outputs": [],
   "source": [
    "# Convert columns to datetime\n",
    "df['date'] = df['event_start'].dt.date\n",
    "df['year'] = df['event_start'].dt.year\n",
    "df['month'] = df['event_start'].dt.month\n",
    "df['day'] = df['event_start'].dt.day\n",
    "df['month_day'] = df['event_start'].dt.strftime('%m-%d')\n",
    "\n",
    "# Strip whitespace from the category column\n",
    "df['category'] = df['category'].str.strip()"
   ]
  },
  {
   "cell_type": "code",
   "execution_count": 10,
   "id": "7424bac8-0d40-4e02-9281-aecfe18cb41b",
   "metadata": {
    "execution": {
     "iopub.execute_input": "2024-06-19T10:38:09.124220Z",
     "iopub.status.busy": "2024-06-19T10:38:09.124010Z",
     "iopub.status.idle": "2024-06-19T10:38:09.324024Z",
     "shell.execute_reply": "2024-06-19T10:38:09.323240Z",
     "shell.execute_reply.started": "2024-06-19T10:38:09.124202Z"
    }
   },
   "outputs": [],
   "source": [
    "# Group by 'road_name' and 'year', and calculate the total number of occurrences\n",
    "yearly_counts = df.groupby(['road_name', 'year']).size().reset_index(name='yearly_occurrences')\n",
    "\n",
    "# Group by 'road_name' and calculate the average number of occurrences per year\n",
    "average_yearly_counts = yearly_counts.groupby('road_name')['yearly_occurrences'].mean().reset_index(name='average_yearly_occurrences')"
   ]
  },
  {
   "cell_type": "code",
   "execution_count": 11,
   "id": "b05eee93-a785-4bbe-8a1f-b6b1070803c9",
   "metadata": {
    "execution": {
     "iopub.execute_input": "2024-06-19T10:38:09.325082Z",
     "iopub.status.busy": "2024-06-19T10:38:09.324897Z",
     "iopub.status.idle": "2024-06-19T10:38:09.502451Z",
     "shell.execute_reply": "2024-06-19T10:38:09.501704Z",
     "shell.execute_reply.started": "2024-06-19T10:38:09.325064Z"
    }
   },
   "outputs": [],
   "source": [
    "# Group by 'road_name' and 'year', and calculate the total number of occurrences\n",
    "monthly_counts = df.groupby(['road_name', 'month']).size().reset_index(name='monthly_occurrences')\n",
    "\n",
    "# Group by 'road_name' and calculate the average number of occurrences per year\n",
    "average_monthly_counts = monthly_counts.groupby('road_name')['monthly_occurrences'].mean().reset_index(name='average_monthly_occurrences')"
   ]
  },
  {
   "cell_type": "code",
   "execution_count": 12,
   "id": "e2312150-8ff6-4112-ace9-2f3b7681577a",
   "metadata": {
    "execution": {
     "iopub.execute_input": "2024-06-19T10:38:09.506042Z",
     "iopub.status.busy": "2024-06-19T10:38:09.505768Z",
     "iopub.status.idle": "2024-06-19T10:38:09.883083Z",
     "shell.execute_reply": "2024-06-19T10:38:09.882268Z",
     "shell.execute_reply.started": "2024-06-19T10:38:09.506023Z"
    }
   },
   "outputs": [],
   "source": [
    "# Group by 'road_name' and 'year', and calculate the total number of occurrences\n",
    "month_day_counts2 = df.groupby(['road_name', 'month_day']).size().reset_index(name='month_day_occurrences')\n",
    "\n",
    "# Group by 'road_name' and calculate the average number of occurrences per year\n",
    "average_month_day_counts2 = month_day_counts2.groupby(['road_name', 'month_day'])['month_day_occurrences'].mean().reset_index(name='average_month_day_occurrences')"
   ]
  },
  {
   "cell_type": "code",
   "execution_count": 13,
   "id": "4089e72a-10cd-4323-8025-7645e8564e0a",
   "metadata": {
    "execution": {
     "iopub.execute_input": "2024-06-19T10:38:09.884317Z",
     "iopub.status.busy": "2024-06-19T10:38:09.884099Z",
     "iopub.status.idle": "2024-06-19T10:38:09.902637Z",
     "shell.execute_reply": "2024-06-19T10:38:09.902003Z",
     "shell.execute_reply.started": "2024-06-19T10:38:09.884297Z"
    }
   },
   "outputs": [],
   "source": [
    "# Merge the DataFrames\n",
    "average_month_day_counts2 = average_month_day_counts2.merge(average_monthly_counts, how='left', on='road_name')"
   ]
  },
  {
   "cell_type": "code",
   "execution_count": 14,
   "id": "da60dd8b-7e0e-4c64-a5ee-89dbb6c792f5",
   "metadata": {
    "execution": {
     "iopub.execute_input": "2024-06-19T10:38:09.903612Z",
     "iopub.status.busy": "2024-06-19T10:38:09.903434Z",
     "iopub.status.idle": "2024-06-19T10:38:10.108775Z",
     "shell.execute_reply": "2024-06-19T10:38:10.108066Z",
     "shell.execute_reply.started": "2024-06-19T10:38:09.903594Z"
    }
   },
   "outputs": [],
   "source": [
    "# Group by 'road_name' and calculate the average severity\n",
    "average_severity2 = df.groupby('road_name')['incident_severity'].mean().reset_index(name='average_incident_severity')\n",
    "\n",
    "# Merge the DataFrames\n",
    "average_month_day_counts2 = average_month_day_counts2.merge(average_severity2, how='left', on='road_name')"
   ]
  },
  {
   "cell_type": "code",
   "execution_count": 15,
   "id": "9756653a-8ca8-4f37-9b5b-bcbcb39ecc0d",
   "metadata": {
    "execution": {
     "iopub.execute_input": "2024-06-19T10:38:10.109813Z",
     "iopub.status.busy": "2024-06-19T10:38:10.109628Z",
     "iopub.status.idle": "2024-06-19T10:38:10.614066Z",
     "shell.execute_reply": "2024-06-19T10:38:10.613391Z",
     "shell.execute_reply.started": "2024-06-19T10:38:10.109795Z"
    }
   },
   "outputs": [],
   "source": [
    "# Split 'month_day' into 'month' and 'day' columns\n",
    "average_month_day_counts2['day'] = average_month_day_counts2['month_day'].str.split('-').str[1]\n",
    "\n",
    "# Convert 'day' to integer\n",
    "average_month_day_counts2['day'] = average_month_day_counts2['day'].astype(int)\n",
    "\n",
    "# Split 'month_day' into 'month' and 'day' columns\n",
    "average_month_day_counts2['month'] = average_month_day_counts2['month_day'].str.split('-').str[0]\n",
    "\n",
    "# Convert 'day' to integer\n",
    "average_month_day_counts2['month'] = average_month_day_counts2['month'].astype(int)"
   ]
  },
  {
   "cell_type": "code",
   "execution_count": 16,
   "id": "39abc200-8739-4d60-b612-708cf8490319",
   "metadata": {
    "execution": {
     "iopub.execute_input": "2024-06-19T10:38:10.615061Z",
     "iopub.status.busy": "2024-06-19T10:38:10.614877Z",
     "iopub.status.idle": "2024-06-19T10:38:10.618964Z",
     "shell.execute_reply": "2024-06-19T10:38:10.618476Z",
     "shell.execute_reply.started": "2024-06-19T10:38:10.615043Z"
    }
   },
   "outputs": [],
   "source": [
    "# Define weights\n",
    "weight_incidents = 1\n",
    "weight_severity = 2\n",
    "\n",
    "# Calculate risk score\n",
    "average_month_day_counts2['Risk Score'] = weight_incidents * average_month_day_counts2['average_month_day_occurrences'] + weight_severity * average_month_day_counts2['average_incident_severity']"
   ]
  },
  {
   "cell_type": "code",
   "execution_count": 17,
   "id": "25205b6a-7345-40c1-a180-3c47c927e405",
   "metadata": {
    "execution": {
     "iopub.execute_input": "2024-06-19T10:38:10.619918Z",
     "iopub.status.busy": "2024-06-19T10:38:10.619611Z",
     "iopub.status.idle": "2024-06-19T10:38:10.640494Z",
     "shell.execute_reply": "2024-06-19T10:38:10.639858Z",
     "shell.execute_reply.started": "2024-06-19T10:38:10.619900Z"
    }
   },
   "outputs": [],
   "source": [
    "# Normalize the data\n",
    "scaler = MinMaxScaler()\n",
    "average_month_day_counts2[['average_month_day_occurrences', 'average_incident_severity', 'average_month_day_occurrences', 'average_incident_severity', 'Risk Score']] = scaler.fit_transform(average_month_day_counts2[['average_month_day_occurrences', 'average_incident_severity', 'average_month_day_occurrences', 'average_incident_severity', 'Risk Score']])\n",
    "\n",
    "# Define thresholds for risk levels\n",
    "bins = [-np.inf, \n",
    "        average_month_day_counts2['Risk Score'].quantile(0.25), \n",
    "        average_month_day_counts2['Risk Score'].quantile(0.50), \n",
    "        average_month_day_counts2['Risk Score'].quantile(0.75), \n",
    "        np.inf]\n",
    "labels = ['low', 'medium', 'high', 'very high']\n",
    "\n",
    "# Create 'Risk Level' column\n",
    "average_month_day_counts2['Risk Level'] = pd.cut(average_month_day_counts2['Risk Score'], bins=bins, labels=labels)"
   ]
  },
  {
   "cell_type": "code",
   "execution_count": 18,
   "id": "b9c1106e-3f6e-4945-839a-f2855b80879e",
   "metadata": {
    "execution": {
     "iopub.execute_input": "2024-06-19T10:38:10.641537Z",
     "iopub.status.busy": "2024-06-19T10:38:10.641298Z",
     "iopub.status.idle": "2024-06-19T10:38:10.660259Z",
     "shell.execute_reply": "2024-06-19T10:38:10.659752Z",
     "shell.execute_reply.started": "2024-06-19T10:38:10.641467Z"
    }
   },
   "outputs": [],
   "source": [
    "# Encode 'Risk Level' column\n",
    "le = LabelEncoder()\n",
    "average_month_day_counts2['Risk Level'] = le.fit_transform(average_month_day_counts2['Risk Level'])"
   ]
  },
  {
   "cell_type": "markdown",
   "id": "d6e48641-9451-420e-99b2-1feee8ec6114",
   "metadata": {},
   "source": [
    "# Weather DF"
   ]
  },
  {
   "cell_type": "code",
   "execution_count": 19,
   "id": "5fd98f1f-734f-4c57-af6b-0705f49e5db4",
   "metadata": {
    "execution": {
     "iopub.execute_input": "2024-06-19T10:38:10.661267Z",
     "iopub.status.busy": "2024-06-19T10:38:10.660951Z",
     "iopub.status.idle": "2024-06-19T10:38:12.797890Z",
     "shell.execute_reply": "2024-06-19T10:38:12.797062Z",
     "shell.execute_reply.started": "2024-06-19T10:38:10.661248Z"
    }
   },
   "outputs": [],
   "source": [
    "# Initiate database connection\n",
    "conn = psycopg2.connect(**db_params)\n",
    "\n",
    "cursor = conn.cursor()\n",
    "\n",
    "# Query the database\n",
    "query = \"\"\"SELECT * FROM group17_warehouse.final_modified_temp\"\"\"\n",
    "\n",
    "# Load the data into a DataFrame\n",
    "df_weather = pd.read_sql_query(query, conn)\n",
    "#print(df_weather.sample(10))"
   ]
  },
  {
   "cell_type": "code",
   "execution_count": 20,
   "id": "ed818fd4-bda7-4638-9bdb-5b5f809f70da",
   "metadata": {
    "execution": {
     "iopub.execute_input": "2024-06-19T10:38:12.798966Z",
     "iopub.status.busy": "2024-06-19T10:38:12.798768Z",
     "iopub.status.idle": "2024-06-19T10:38:16.862482Z",
     "shell.execute_reply": "2024-06-19T10:38:16.861314Z",
     "shell.execute_reply.started": "2024-06-19T10:38:12.798948Z"
    }
   },
   "outputs": [],
   "source": [
    "# Convert columns to datetime\n",
    "df_weather['event_date'] = pd.to_datetime(df_weather['event_date'])\n",
    "df_weather['month'] = df_weather['event_date'].dt.month\n",
    "df_weather['day'] = df_weather['event_date'].dt.day\n",
    "df_weather['month_day'] = df_weather['event_date'].dt.strftime('%m-%d')"
   ]
  },
  {
   "cell_type": "code",
   "execution_count": 21,
   "id": "ae951f14-3178-4acb-bea6-3671ff140e47",
   "metadata": {
    "execution": {
     "iopub.execute_input": "2024-06-19T10:38:16.864346Z",
     "iopub.status.busy": "2024-06-19T10:38:16.863987Z",
     "iopub.status.idle": "2024-06-19T10:38:17.111039Z",
     "shell.execute_reply": "2024-06-19T10:38:17.110280Z",
     "shell.execute_reply.started": "2024-06-19T10:38:16.864324Z"
    }
   },
   "outputs": [],
   "source": [
    "# Group by 'month_day' and find the most common weather condition\n",
    "most_common_condition = df_weather.groupby('month_day')['weather_condition'].agg(lambda x: x.value_counts().index[0]).reset_index(name='most_common_condition')\n",
    "\n",
    "# Merge the DataFrames\n",
    "average_month_day_counts2 = pd.merge(average_month_day_counts2, most_common_condition, on='month_day')"
   ]
  },
  {
   "cell_type": "code",
   "execution_count": 22,
   "id": "8186d752-87db-4f00-92a4-5cd482f81f3c",
   "metadata": {
    "execution": {
     "iopub.execute_input": "2024-06-19T10:38:17.112104Z",
     "iopub.status.busy": "2024-06-19T10:38:17.111803Z",
     "iopub.status.idle": "2024-06-19T10:38:17.131391Z",
     "shell.execute_reply": "2024-06-19T10:38:17.130896Z",
     "shell.execute_reply.started": "2024-06-19T10:38:17.112086Z"
    }
   },
   "outputs": [],
   "source": [
    "# Encode 'most_common_condition' column\n",
    "le = LabelEncoder()\n",
    "average_month_day_counts2['most_common_condition'] = le.fit_transform(average_month_day_counts2['most_common_condition'])"
   ]
  },
  {
   "cell_type": "markdown",
   "id": "48f4d74a-b4ef-4392-8fed-bd98b7399a3c",
   "metadata": {},
   "source": [
    "# Accidents"
   ]
  },
  {
   "cell_type": "code",
   "execution_count": 23,
   "id": "51269ac9-16a0-4c47-9b2b-12387e3cbeba",
   "metadata": {
    "execution": {
     "iopub.execute_input": "2024-06-19T10:38:17.132178Z",
     "iopub.status.busy": "2024-06-19T10:38:17.132006Z",
     "iopub.status.idle": "2024-06-19T10:38:17.176911Z",
     "shell.execute_reply": "2024-06-19T10:38:17.176158Z",
     "shell.execute_reply.started": "2024-06-19T10:38:17.132161Z"
    }
   },
   "outputs": [],
   "source": [
    "# Connect to the database\n",
    "conn = psycopg2.connect(**db_params)\n",
    "cursor = conn.cursor()\n",
    "\n",
    "try:\n",
    "    # Query to fetch data from the database\n",
    "    query = \"\"\"\n",
    "    SELECT \n",
    "        \"street\",\n",
    "        \"Year\",\n",
    "        \"Accident severity\",\n",
    "        COUNT(*) AS \"accident_count\"\n",
    "    FROM \n",
    "        data_lake.accident_data_17_23\n",
    "    GROUP BY \n",
    "        \"Accident severity\", \"Year\", \"street\"\n",
    "        Order by \"accident_count\" DESC\n",
    "    \n",
    "    \"\"\"\n",
    "    df_accidents = pd.read_sql_query(query, conn)\n",
    "except Exception as e:\n",
    "    print(f\"An error occurred: {e}\")\n",
    "finally:\n",
    "    conn.close()"
   ]
  },
  {
   "cell_type": "code",
   "execution_count": 24,
   "id": "3a8ec09c-28d8-4149-8080-ff89fdc46cbd",
   "metadata": {
    "execution": {
     "iopub.execute_input": "2024-06-19T10:38:17.178162Z",
     "iopub.status.busy": "2024-06-19T10:38:17.177909Z",
     "iopub.status.idle": "2024-06-19T10:38:17.206787Z",
     "shell.execute_reply": "2024-06-19T10:38:17.205780Z",
     "shell.execute_reply.started": "2024-06-19T10:38:17.178138Z"
    }
   },
   "outputs": [],
   "source": [
    "# Rename the 'street' column to 'road_name'\n",
    "df_accidents.rename(columns={'street': 'road_name'}, inplace=True)\n",
    "\n",
    "# Group by 'street' and calculate average yearly accidents\n",
    "avg_yearly_accidents = df_accidents.groupby('road_name')['accident_count'].mean().reset_index(name='avg_yearly_accidents')\n",
    "\n",
    "# Merge the average yearly accidents per street back into the main DataFrame\n",
    "average_month_day_counts2 = pd.merge(average_month_day_counts2, avg_yearly_accidents, on='road_name', how='left')\n"
   ]
  },
  {
   "cell_type": "code",
   "execution_count": 43,
   "id": "05437fb7-9606-4a26-a830-adda137d7a06",
   "metadata": {
    "execution": {
     "iopub.execute_input": "2024-06-19T10:39:44.161787Z",
     "iopub.status.busy": "2024-06-19T10:39:44.161466Z",
     "iopub.status.idle": "2024-06-19T10:39:44.243910Z",
     "shell.execute_reply": "2024-06-19T10:39:44.242831Z",
     "shell.execute_reply.started": "2024-06-19T10:39:44.161768Z"
    }
   },
   "outputs": [],
   "source": [
    "# Change timeframe\n",
    "start_date = pd.to_datetime('2018-01-01 00:18:20.500000')\n",
    "end_date = pd.to_datetime('2023-12-31 23:59:59.500000')\n",
    "\n",
    "df_weather = df_weather.loc[(df_weather['event_date'] >= start_date) & (df_weather['event_date'] <= end_date)]"
   ]
  },
  {
   "cell_type": "code",
   "execution_count": 44,
   "id": "6546e6d6-4880-43ed-aa66-4a5245343a66",
   "metadata": {
    "execution": {
     "iopub.execute_input": "2024-06-19T10:39:44.769764Z",
     "iopub.status.busy": "2024-06-19T10:39:44.769335Z",
     "iopub.status.idle": "2024-06-19T10:39:44.781027Z",
     "shell.execute_reply": "2024-06-19T10:39:44.780074Z",
     "shell.execute_reply.started": "2024-06-19T10:39:44.769741Z"
    }
   },
   "outputs": [],
   "source": [
    "# Drop NaN values\n",
    "average_month_day_counts2 = average_month_day_counts2.dropna(subset='avg_yearly_accidents')"
   ]
  },
  {
   "cell_type": "code",
   "execution_count": 45,
   "id": "195462f2-69c9-470f-9cb5-94aeef94fba0",
   "metadata": {
    "execution": {
     "iopub.execute_input": "2024-06-19T10:39:44.910702Z",
     "iopub.status.busy": "2024-06-19T10:39:44.910290Z",
     "iopub.status.idle": "2024-06-19T10:39:45.480034Z",
     "shell.execute_reply": "2024-06-19T10:39:45.478875Z",
     "shell.execute_reply.started": "2024-06-19T10:39:44.910678Z"
    }
   },
   "outputs": [],
   "source": [
    "# Save the data to a CSV file for use in the streamlit app\n",
    "average_month_day_counts2.to_csv('model_data.csv')"
   ]
  },
  {
   "cell_type": "markdown",
   "id": "fe415e5f-f7bc-4288-83a6-ce8842e14151",
   "metadata": {},
   "source": [
    "# Modeling"
   ]
  },
  {
   "cell_type": "markdown",
   "id": "8de45a31-0c65-4e0c-aa22-23837455b294",
   "metadata": {},
   "source": [
    "Our model's task is a classification task, as it is classifying the streets into specific risk levels. We initially considered creating a model for a regression task to predict the risk score of certain streets, however we decided that it will be simpler and more customer-friendly to have a classification model."
   ]
  },
  {
   "cell_type": "markdown",
   "id": "7ddde171-1a2e-48b5-b91e-79107bad6c20",
   "metadata": {},
   "source": [
    "## 1st model - Logistic Regression"
   ]
  },
  {
   "cell_type": "markdown",
   "id": "142b7ce5-957f-4873-b02b-71e7d40e653d",
   "metadata": {},
   "source": [
    "For the first model we chose a Logistic Regression model. Our main reasoning is that it is a lightweight model capable of handling multiclass classification with a strong baseline performance. Additionally, the fact that it provides a probabilistic output allows for more nuanced decision-making, which is useful for our application."
   ]
  },
  {
   "cell_type": "code",
   "execution_count": 46,
   "id": "0d643306-50f9-4d4e-b8bf-dd367b496e51",
   "metadata": {
    "execution": {
     "iopub.execute_input": "2024-06-19T10:39:45.620163Z",
     "iopub.status.busy": "2024-06-19T10:39:45.619944Z",
     "iopub.status.idle": "2024-06-19T10:40:10.492657Z",
     "shell.execute_reply": "2024-06-19T10:40:10.491654Z",
     "shell.execute_reply.started": "2024-06-19T10:39:45.620144Z"
    }
   },
   "outputs": [
    {
     "name": "stdout",
     "output_type": "stream",
     "text": [
      "Accuracy: 0.546118076402378\n",
      "Classification Report:               precision    recall  f1-score   support\n",
      "\n",
      "           0       0.47      0.50      0.48      4609\n",
      "           1       0.48      0.54      0.51      3572\n",
      "           2       0.38      0.32      0.34      4051\n",
      "           3       0.81      0.79      0.80      4757\n",
      "\n",
      "    accuracy                           0.55     16989\n",
      "   macro avg       0.53      0.54      0.53     16989\n",
      "weighted avg       0.54      0.55      0.54     16989\n",
      "\n",
      "Cross-validation Accuracy: 0.5297708660168106\n"
     ]
    }
   ],
   "source": [
    "# Initialize the Logistic Regression model\n",
    "logreg = LogisticRegression()\n",
    "\n",
    "# Define the features and target variable\n",
    "X = average_month_day_counts2[['month', 'day',  'most_common_condition', 'avg_yearly_accidents', 'average_monthly_occurrences']]\n",
    "y = average_month_day_counts2['Risk Level']\n",
    "\n",
    "# Split your data into training and test sets\n",
    "X_train, X_test, y_train, y_test = train_test_split(X, y, test_size=0.2, random_state=42)\n",
    "\n",
    "# Create an instance of the LogisticRegression class\n",
    "log_model = logreg\n",
    "\n",
    "# Fit the model to your data\n",
    "log_model.fit(X_train, y_train)\n",
    "\n",
    "# Make predictions on the test set\n",
    "y_pred = log_model.predict(X_test)\n",
    "\n",
    "# Evaluate the model\n",
    "accuracy = accuracy_score(y_test, y_pred)\n",
    "class_report = classification_report(y_test, y_pred)\n",
    "print(f'Accuracy: {accuracy}')\n",
    "print(f'Classification Report: \\n{class_report}')\n",
    "cv_scores = cross_val_score(log_model, X, y, cv=5)\n",
    "print('Cross-validation Accuracy:', cv_scores.mean())"
   ]
  },
  {
   "cell_type": "markdown",
   "id": "6a9fbbfd-47e6-460f-8f43-94e933cae955",
   "metadata": {},
   "source": [
    "The model does not achieve a high accuracy, only reaching about 55%. However, it is good at predicting the highest risk levels, which is good for our application.\n",
    "\n",
    "It also does not overfit, as the cross-validation accuracy is only slightly lower, at 53%."
   ]
  },
  {
   "cell_type": "code",
   "execution_count": 47,
   "id": "57cdf5cf-67cb-44e3-940f-94edabf22080",
   "metadata": {
    "execution": {
     "iopub.execute_input": "2024-06-19T10:40:10.494770Z",
     "iopub.status.busy": "2024-06-19T10:40:10.494397Z",
     "iopub.status.idle": "2024-06-19T10:57:34.808392Z",
     "shell.execute_reply": "2024-06-19T10:57:34.807469Z",
     "shell.execute_reply.started": "2024-06-19T10:40:10.494749Z"
    }
   },
   "outputs": [
    {
     "name": "stdout",
     "output_type": "stream",
     "text": [
      "Fitting 5 folds for each of 100 candidates, totalling 500 fits\n",
      "0.5555588256934737\n",
      "{'C': 2.010716092915446, 'penalty': 'l2'}\n",
      "LogisticRegression(C=2.010716092915446)\n",
      "Accuracy: 0.5487668491376774\n",
      "Classification Report:               precision    recall  f1-score   support\n",
      "\n",
      "           0       0.47      0.49      0.48      4609\n",
      "           1       0.51      0.48      0.50      3572\n",
      "           2       0.38      0.39      0.39      4051\n",
      "           3       0.81      0.79      0.80      4757\n",
      "\n",
      "    accuracy                           0.55     16989\n",
      "   macro avg       0.54      0.54      0.54     16989\n",
      "weighted avg       0.55      0.55      0.55     16989\n",
      "\n"
     ]
    }
   ],
   "source": [
    "# Define the parameter values that should be searched\n",
    "param_dist = {'C': uniform(loc=0, scale=4), 'penalty': ['l1', 'l2']}\n",
    "\n",
    "# Instantiate the grid\n",
    "random_search = RandomizedSearchCV(logreg, param_distributions=param_dist, n_iter=100, cv=5, scoring='accuracy', random_state=42, verbose=1)\n",
    "\n",
    "# Fit the grid with data\n",
    "random_search.fit(X_train, y_train)\n",
    "\n",
    "# Examine the best model\n",
    "print(random_search.best_score_)\n",
    "print(random_search.best_params_)\n",
    "print(random_search.best_estimator_)\n",
    "\n",
    "# Make predictions with the best parameters\n",
    "y_pred = random_search.predict(X_test)\n",
    "\n",
    "# Evaluate the model\n",
    "accuracy = accuracy_score(y_test, y_pred)\n",
    "class_report = classification_report(y_test, y_pred)\n",
    "print(f'Accuracy: {accuracy}')\n",
    "print(f'Classification Report: \\n{class_report}')"
   ]
  },
  {
   "cell_type": "code",
   "execution_count": 48,
   "id": "60d018b1-05c4-4e71-aef9-ce1930a31510",
   "metadata": {
    "execution": {
     "iopub.execute_input": "2024-06-19T10:57:34.809807Z",
     "iopub.status.busy": "2024-06-19T10:57:34.809503Z",
     "iopub.status.idle": "2024-06-19T10:57:39.795171Z",
     "shell.execute_reply": "2024-06-19T10:57:39.794480Z",
     "shell.execute_reply.started": "2024-06-19T10:57:34.809783Z"
    }
   },
   "outputs": [
    {
     "name": "stdout",
     "output_type": "stream",
     "text": [
      "Accuracy: 0.565365824945553\n",
      "Classification Report:               precision    recall  f1-score   support\n",
      "\n",
      "           0       0.50      0.46      0.48      4609\n",
      "           1       0.51      0.49      0.50      3572\n",
      "           2       0.39      0.40      0.40      4051\n",
      "           3       0.80      0.86      0.83      4757\n",
      "\n",
      "    accuracy                           0.57     16989\n",
      "   macro avg       0.55      0.55      0.55     16989\n",
      "weighted avg       0.56      0.57      0.56     16989\n",
      "\n",
      "Cross-validation Accuracy: 0.5410254343580506\n"
     ]
    }
   ],
   "source": [
    "# Get the best parameters\n",
    "best_params = random_search.best_params_\n",
    "\n",
    "# Create a new model with the best parameters\n",
    "best_model = LogisticRegression(C=best_params['C'], penalty=best_params['penalty'], solver='liblinear')\n",
    "\n",
    "# Fit the model to your data\n",
    "best_model.fit(X_train, y_train)\n",
    "\n",
    "# Make predictions with the best parameters\n",
    "y_pred = best_model.predict(X_test)\n",
    "\n",
    "# Evaluate the model\n",
    "accuracy = accuracy_score(y_test, y_pred)\n",
    "class_report = classification_report(y_test, y_pred)\n",
    "print(f'Accuracy: {accuracy}')\n",
    "print(f'Classification Report: \\n{class_report}')\n",
    "cv_scores = cross_val_score(best_model, X, y, cv=5)\n",
    "print('Cross-validation Accuracy:', cv_scores.mean())"
   ]
  },
  {
   "cell_type": "markdown",
   "id": "76cf0326-3e95-4fa4-a827-0048458e8459",
   "metadata": {},
   "source": [
    "After hyperparameter tuning, the model can be improved by a bit over 1%."
   ]
  },
  {
   "cell_type": "markdown",
   "id": "888f2889-289d-4cda-91f5-d9c9044d3e3e",
   "metadata": {},
   "source": [
    "## 2nd model - Decision Tree"
   ]
  },
  {
   "cell_type": "markdown",
   "id": "5f464339-5c7c-4c62-a5f9-b8e95b856200",
   "metadata": {},
   "source": [
    "For the second model, we decided to use a decision tree, as it is similarly suited for multi-class classification problems, while also being more robust to outliers."
   ]
  },
  {
   "cell_type": "code",
   "execution_count": 49,
   "id": "c8308e40-5cf0-4615-8016-df67d3f1f761",
   "metadata": {
    "execution": {
     "iopub.execute_input": "2024-06-19T10:57:39.796851Z",
     "iopub.status.busy": "2024-06-19T10:57:39.796644Z",
     "iopub.status.idle": "2024-06-19T10:57:41.494925Z",
     "shell.execute_reply": "2024-06-19T10:57:41.494073Z",
     "shell.execute_reply.started": "2024-06-19T10:57:39.796833Z"
    }
   },
   "outputs": [
    {
     "name": "stdout",
     "output_type": "stream",
     "text": [
      "Accuracy: 0.553652363293896\n",
      "Classification Report:               precision    recall  f1-score   support\n",
      "\n",
      "           0       0.42      0.41      0.42      4609\n",
      "           1       0.59      0.57      0.58      3572\n",
      "           2       0.44      0.45      0.44      4051\n",
      "           3       0.76      0.76      0.76      4757\n",
      "\n",
      "    accuracy                           0.55     16989\n",
      "   macro avg       0.55      0.55      0.55     16989\n",
      "weighted avg       0.55      0.55      0.55     16989\n",
      "\n",
      "Cross-validation Accuracy: 0.36660558266742577\n"
     ]
    }
   ],
   "source": [
    "# Initialize the Decision Tree model\n",
    "dtree = DecisionTreeClassifier()\n",
    "\n",
    "# Define the features and target variable\n",
    "X = average_month_day_counts2[['month', 'day',  'most_common_condition', 'avg_yearly_accidents', 'average_monthly_occurrences']]\n",
    "y = average_month_day_counts2['Risk Level']\n",
    "\n",
    "# Split your data into training and test sets\n",
    "X_train, X_test, y_train, y_test = train_test_split(X, y, test_size=0.2, random_state=42)\n",
    "\n",
    "# Create an instance of the LogisticRegression class\n",
    "tree_model = dtree\n",
    "\n",
    "# Fit the model to your data\n",
    "tree_model.fit(X_train, y_train)\n",
    "\n",
    "# Make predictions on the test set\n",
    "y_pred = tree_model.predict(X_test)\n",
    "\n",
    "# Evaluate the model\n",
    "accuracy = accuracy_score(y_test, y_pred)\n",
    "class_report = classification_report(y_test, y_pred)\n",
    "print(f'Accuracy: {accuracy}')\n",
    "print(f'Classification Report: \\n{class_report}')\n",
    "cv_scores = cross_val_score(tree_model, X, y, cv=5)\n",
    "print('Cross-validation Accuracy:', cv_scores.mean())"
   ]
  },
  {
   "cell_type": "markdown",
   "id": "72a2a917-7e30-409e-bda8-b7c0f431d780",
   "metadata": {},
   "source": [
    "The model performs slightly better than the first one, reaching 55% accuracy. However, it seems to be overfitting, as the cross-validation accuracy is almost 20% lower, at 36%."
   ]
  },
  {
   "cell_type": "code",
   "execution_count": 50,
   "id": "3faa434a-ae6b-4b7b-8592-5e6bd5f9bf6b",
   "metadata": {
    "execution": {
     "iopub.execute_input": "2024-06-19T10:57:41.496036Z",
     "iopub.status.busy": "2024-06-19T10:57:41.495833Z",
     "iopub.status.idle": "2024-06-19T10:58:22.465913Z",
     "shell.execute_reply": "2024-06-19T10:58:22.464982Z",
     "shell.execute_reply.started": "2024-06-19T10:57:41.496017Z"
    }
   },
   "outputs": [
    {
     "name": "stdout",
     "output_type": "stream",
     "text": [
      "Fitting 5 folds for each of 100 candidates, totalling 500 fits\n",
      "0.6213082186741226\n",
      "{'max_depth': 10, 'min_samples_leaf': 9, 'min_samples_split': 6}\n",
      "DecisionTreeClassifier(max_depth=10, min_samples_leaf=9, min_samples_split=6)\n",
      "Accuracy: 0.6237565483548179\n",
      "Classification Report:               precision    recall  f1-score   support\n",
      "\n",
      "           0       0.51      0.51      0.51      4609\n",
      "           1       0.59      0.70      0.64      3572\n",
      "           2       0.55      0.46      0.50      4051\n",
      "           3       0.83      0.81      0.82      4757\n",
      "\n",
      "    accuracy                           0.62     16989\n",
      "   macro avg       0.62      0.62      0.62     16989\n",
      "weighted avg       0.62      0.62      0.62     16989\n",
      "\n"
     ]
    }
   ],
   "source": [
    "# Define the parameter values that should be searched\n",
    "param_dist = {'max_depth': randint(1, 11), 'min_samples_split': randint(2, 11), 'min_samples_leaf': randint(1, 11)}\n",
    "\n",
    "# Instantiate the grid with verbose=0\n",
    "random_search = RandomizedSearchCV(dtree, param_distributions=param_dist, n_iter=100, cv=5, scoring='accuracy', random_state=42, verbose=1)\n",
    "\n",
    "# Fit the grid with data\n",
    "random_search.fit(X_train, y_train)\n",
    "\n",
    "# Examine the best model\n",
    "print(random_search.best_score_)\n",
    "print(random_search.best_params_)\n",
    "print(random_search.best_estimator_)\n",
    "\n",
    "# Make predictions with the best parameters\n",
    "y_pred = random_search.predict(X_test)\n",
    "\n",
    "# Evaluate the model\n",
    "accuracy = accuracy_score(y_test, y_pred)\n",
    "class_report = classification_report(y_test, y_pred)\n",
    "print(f'Accuracy: {accuracy}')\n",
    "print(f'Classification Report: \\n{class_report}')"
   ]
  },
  {
   "cell_type": "code",
   "execution_count": 51,
   "id": "9aafa8f9-43eb-429d-950f-479d962a0de9",
   "metadata": {
    "execution": {
     "iopub.execute_input": "2024-06-19T10:58:22.467105Z",
     "iopub.status.busy": "2024-06-19T10:58:22.466856Z",
     "iopub.status.idle": "2024-06-19T10:58:23.527060Z",
     "shell.execute_reply": "2024-06-19T10:58:23.526321Z",
     "shell.execute_reply.started": "2024-06-19T10:58:22.467086Z"
    }
   },
   "outputs": [
    {
     "name": "stdout",
     "output_type": "stream",
     "text": [
      "Accuracy: 0.6237565483548179\n",
      "Classification Report:               precision    recall  f1-score   support\n",
      "\n",
      "           0       0.51      0.51      0.51      4609\n",
      "           1       0.59      0.70      0.64      3572\n",
      "           2       0.55      0.46      0.50      4051\n",
      "           3       0.83      0.81      0.82      4757\n",
      "\n",
      "    accuracy                           0.62     16989\n",
      "   macro avg       0.62      0.62      0.62     16989\n",
      "weighted avg       0.62      0.62      0.62     16989\n",
      "\n",
      "Cross-validation Accuracy: 0.4648698676658644\n"
     ]
    }
   ],
   "source": [
    "# Get the best parameters\n",
    "best_params = random_search.best_params_\n",
    "\n",
    "# Create a new model with the best parameters\n",
    "best_model = DecisionTreeClassifier(max_depth=best_params['max_depth'], min_samples_split=best_params['min_samples_split'], min_samples_leaf=best_params['min_samples_leaf'])\n",
    "\n",
    "# Fit the model to your data\n",
    "best_model.fit(X_train, y_train)\n",
    "\n",
    "# Make predictions with the best parameters\n",
    "y_pred = best_model.predict(X_test)\n",
    "\n",
    "# Evaluate the model\n",
    "accuracy = accuracy_score(y_test, y_pred)\n",
    "class_report = classification_report(y_test, y_pred)\n",
    "print(f'Accuracy: {accuracy}')\n",
    "print(f'Classification Report: \\n{class_report}')\n",
    "cv_scores = cross_val_score(best_model, X, y, cv=5)\n",
    "print('Cross-validation Accuracy:', cv_scores.mean())"
   ]
  },
  {
   "cell_type": "markdown",
   "id": "48fe4715-f077-41c5-bf99-5a8d822d1a1f",
   "metadata": {},
   "source": [
    "Hyperparameter tuning increased the accuracy by about 7%, and reduced the scale of the overfitting problem."
   ]
  },
  {
   "cell_type": "markdown",
   "id": "8e9d3f3b-b863-4fa2-a32a-606fa31c1ec2",
   "metadata": {
    "execution": {
     "iopub.execute_input": "2024-06-19T12:38:14.639825Z",
     "iopub.status.busy": "2024-06-19T12:38:14.639067Z",
     "iopub.status.idle": "2024-06-19T12:38:14.644494Z",
     "shell.execute_reply": "2024-06-19T12:38:14.643620Z",
     "shell.execute_reply.started": "2024-06-19T12:38:14.639799Z"
    }
   },
   "source": [
    "### Decision"
   ]
  },
  {
   "cell_type": "markdown",
   "id": "f809c6f2-d8dc-45cc-b42f-b8d23eb5d92f",
   "metadata": {},
   "source": [
    "We decided to use the logistic regression model for our application. The model achieved a higher cross-validation score and it is more lightweight than the decision tree, which will make it work faster in the app, which in turn will improve the user experience."
   ]
  },
  {
   "cell_type": "markdown",
   "id": "63a6d681-b3d5-4f86-b5e5-993996f0c8e1",
   "metadata": {
    "execution": {
     "iopub.execute_input": "2024-06-19T10:12:48.052286Z",
     "iopub.status.busy": "2024-06-19T10:12:48.051797Z",
     "iopub.status.idle": "2024-06-19T10:12:48.056499Z",
     "shell.execute_reply": "2024-06-19T10:12:48.055788Z",
     "shell.execute_reply.started": "2024-06-19T10:12:48.052247Z"
    }
   },
   "source": [
    "## Deep learning"
   ]
  },
  {
   "cell_type": "markdown",
   "id": "944988fa-baa3-4e8d-aad8-2e854e1b739f",
   "metadata": {},
   "source": [
    "### First iteration"
   ]
  },
  {
   "cell_type": "code",
   "execution_count": null,
   "id": "d099ea20-0d35-412a-badf-9e5e69221418",
   "metadata": {
    "execution": {
     "iopub.execute_input": "2024-06-19T10:58:23.528298Z",
     "iopub.status.busy": "2024-06-19T10:58:23.527835Z",
     "iopub.status.idle": "2024-06-19T10:58:23.541363Z",
     "shell.execute_reply": "2024-06-19T10:58:23.540734Z",
     "shell.execute_reply.started": "2024-06-19T10:58:23.528278Z"
    }
   },
   "outputs": [],
   "source": [
    "# Define the features and target variable\n",
    "X = average_month_day_counts2[['month', 'day',  'most_common_condition', 'avg_yearly_accidents', 'average_monthly_occurrences']]\n",
    "y = average_month_day_counts2['Risk Level']\n",
    "\n",
    "# Split your data into training and test sets\n",
    "X_train, X_test, y_train, y_test = train_test_split(X, y, test_size=0.2, random_state=42)\n",
    "\n",
    "# Encode the target variable\n",
    "y_train_encoded = to_categorical(y_train, num_classes=4)\n",
    "y_test_encoded = to_categorical(y_test, num_classes=4)"
   ]
  },
  {
   "cell_type": "code",
   "execution_count": 53,
   "id": "9b293d10-8c04-4fd8-92bd-ae038d55d278",
   "metadata": {
    "execution": {
     "iopub.execute_input": "2024-06-19T10:58:23.542435Z",
     "iopub.status.busy": "2024-06-19T10:58:23.542103Z",
     "iopub.status.idle": "2024-06-19T10:58:23.564952Z",
     "shell.execute_reply": "2024-06-19T10:58:23.564374Z",
     "shell.execute_reply.started": "2024-06-19T10:58:23.542416Z"
    }
   },
   "outputs": [],
   "source": [
    "# Build the deep learning model\n",
    "deep_model = Sequential()\n",
    "deep_model.add(Dense(32, input_dim=X_train.shape[1], activation='relu'))\n",
    "deep_model.add(Dense(4, activation='softmax'))\n",
    "\n",
    "# Compile the model\n",
    "deep_model.compile(loss='categorical_crossentropy', optimizer='sgd', metrics=['accuracy'])"
   ]
  },
  {
   "cell_type": "code",
   "execution_count": 69,
   "id": "96dcc792-92dd-4eb8-8705-1455b5584f36",
   "metadata": {
    "execution": {
     "iopub.execute_input": "2024-06-19T11:21:47.641694Z",
     "iopub.status.busy": "2024-06-19T11:21:47.641251Z",
     "iopub.status.idle": "2024-06-19T11:21:47.647783Z",
     "shell.execute_reply": "2024-06-19T11:21:47.646803Z",
     "shell.execute_reply.started": "2024-06-19T11:21:47.641671Z"
    }
   },
   "outputs": [],
   "source": [
    "# Create a function for training the model\n",
    "early_stopping = EarlyStopping(patience=10)\n",
    "\n",
    "# Define model training function\n",
    "def train_model_v1(learning_rates):\n",
    "    histories = []\n",
    "    models = []\n",
    "    best_val_losses = []\n",
    "    for lr in learning_rates:\n",
    "        print(f\"Training model with learning rate = {lr}\")\n",
    "        model = deep_model\n",
    "        history = model.fit(X_train, y_train_encoded, epochs=50, validation_data=(X_test, y_test_encoded), callbacks=[early_stopping])\n",
    "        histories.append(history)\n",
    "        best_val_losses.append(min(history.history['val_loss']))\n",
    "        models.append(model)\n",
    "    \n",
    "    # Get the index of the best model\n",
    "    best_model_index = np.argmin(best_val_losses)\n",
    "    # Get the best model\n",
    "    best_model = models[best_model_index]\n",
    "            \n",
    "    return histories, best_val_losses, best_model"
   ]
  },
  {
   "cell_type": "code",
   "execution_count": 70,
   "id": "3f76accd-6f40-4b37-9352-f294da2c780b",
   "metadata": {
    "execution": {
     "iopub.execute_input": "2024-06-19T11:21:48.033600Z",
     "iopub.status.busy": "2024-06-19T11:21:48.033231Z",
     "iopub.status.idle": "2024-06-19T11:24:14.256701Z",
     "shell.execute_reply": "2024-06-19T11:24:14.255612Z",
     "shell.execute_reply.started": "2024-06-19T11:21:48.033577Z"
    }
   },
   "outputs": [
    {
     "name": "stdout",
     "output_type": "stream",
     "text": [
      "Training model with learning rate = 0.01\n",
      "Epoch 1/50\n",
      "\u001b[1m2124/2124\u001b[0m \u001b[32m━━━━━━━━━━━━━━━━━━━━\u001b[0m\u001b[37m\u001b[0m \u001b[1m2s\u001b[0m 1ms/step - accuracy: 0.5058 - loss: 1.0723 - val_accuracy: 0.4958 - val_loss: 1.0819\n",
      "Epoch 2/50\n",
      "\u001b[1m2124/2124\u001b[0m \u001b[32m━━━━━━━━━━━━━━━━━━━━\u001b[0m\u001b[37m\u001b[0m \u001b[1m2s\u001b[0m 894us/step - accuracy: 0.5065 - loss: 1.0715 - val_accuracy: 0.4720 - val_loss: 1.1094\n",
      "Epoch 3/50\n",
      "\u001b[1m2124/2124\u001b[0m \u001b[32m━━━━━━━━━━━━━━━━━━━━\u001b[0m\u001b[37m\u001b[0m \u001b[1m2s\u001b[0m 716us/step - accuracy: 0.5070 - loss: 1.0737 - val_accuracy: 0.4837 - val_loss: 1.0958\n",
      "Epoch 4/50\n",
      "\u001b[1m2124/2124\u001b[0m \u001b[32m━━━━━━━━━━━━━━━━━━━━\u001b[0m\u001b[37m\u001b[0m \u001b[1m2s\u001b[0m 733us/step - accuracy: 0.5018 - loss: 1.0779 - val_accuracy: 0.4847 - val_loss: 1.0889\n",
      "Epoch 5/50\n",
      "\u001b[1m2124/2124\u001b[0m \u001b[32m━━━━━━━━━━━━━━━━━━━━\u001b[0m\u001b[37m\u001b[0m \u001b[1m2s\u001b[0m 848us/step - accuracy: 0.5084 - loss: 1.0699 - val_accuracy: 0.5138 - val_loss: 1.0687\n",
      "Epoch 6/50\n",
      "\u001b[1m2124/2124\u001b[0m \u001b[32m━━━━━━━━━━━━━━━━━━━━\u001b[0m\u001b[37m\u001b[0m \u001b[1m2s\u001b[0m 838us/step - accuracy: 0.5040 - loss: 1.0749 - val_accuracy: 0.5147 - val_loss: 1.0476\n",
      "Epoch 7/50\n",
      "\u001b[1m2124/2124\u001b[0m \u001b[32m━━━━━━━━━━━━━━━━━━━━\u001b[0m\u001b[37m\u001b[0m \u001b[1m2s\u001b[0m 1ms/step - accuracy: 0.5164 - loss: 1.0599 - val_accuracy: 0.5017 - val_loss: 1.0630\n",
      "Epoch 8/50\n",
      "\u001b[1m2124/2124\u001b[0m \u001b[32m━━━━━━━━━━━━━━━━━━━━\u001b[0m\u001b[37m\u001b[0m \u001b[1m2s\u001b[0m 913us/step - accuracy: 0.5076 - loss: 1.0653 - val_accuracy: 0.5125 - val_loss: 1.0454\n",
      "Epoch 9/50\n",
      "\u001b[1m2124/2124\u001b[0m \u001b[32m━━━━━━━━━━━━━━━━━━━━\u001b[0m\u001b[37m\u001b[0m \u001b[1m2s\u001b[0m 795us/step - accuracy: 0.5187 - loss: 1.0511 - val_accuracy: 0.5020 - val_loss: 1.0688\n",
      "Epoch 10/50\n",
      "\u001b[1m2124/2124\u001b[0m \u001b[32m━━━━━━━━━━━━━━━━━━━━\u001b[0m\u001b[37m\u001b[0m \u001b[1m2s\u001b[0m 811us/step - accuracy: 0.5012 - loss: 1.0708 - val_accuracy: 0.5030 - val_loss: 1.0559\n",
      "Epoch 11/50\n",
      "\u001b[1m2124/2124\u001b[0m \u001b[32m━━━━━━━━━━━━━━━━━━━━\u001b[0m\u001b[37m\u001b[0m \u001b[1m2s\u001b[0m 1ms/step - accuracy: 0.5097 - loss: 1.0596 - val_accuracy: 0.4274 - val_loss: 1.2433\n",
      "Epoch 12/50\n",
      "\u001b[1m2124/2124\u001b[0m \u001b[32m━━━━━━━━━━━━━━━━━━━━\u001b[0m\u001b[37m\u001b[0m \u001b[1m2s\u001b[0m 1ms/step - accuracy: 0.5067 - loss: 1.0681 - val_accuracy: 0.4848 - val_loss: 1.0775\n",
      "Epoch 13/50\n",
      "\u001b[1m2124/2124\u001b[0m \u001b[32m━━━━━━━━━━━━━━━━━━━━\u001b[0m\u001b[37m\u001b[0m \u001b[1m3s\u001b[0m 1ms/step - accuracy: 0.5084 - loss: 1.0602 - val_accuracy: 0.4858 - val_loss: 1.0778\n",
      "Epoch 14/50\n",
      "\u001b[1m2124/2124\u001b[0m \u001b[32m━━━━━━━━━━━━━━━━━━━━\u001b[0m\u001b[37m\u001b[0m \u001b[1m2s\u001b[0m 782us/step - accuracy: 0.5065 - loss: 1.0633 - val_accuracy: 0.5149 - val_loss: 1.0430\n",
      "Epoch 15/50\n",
      "\u001b[1m2124/2124\u001b[0m \u001b[32m━━━━━━━━━━━━━━━━━━━━\u001b[0m\u001b[37m\u001b[0m \u001b[1m2s\u001b[0m 877us/step - accuracy: 0.5089 - loss: 1.0585 - val_accuracy: 0.5114 - val_loss: 1.0466\n",
      "Epoch 16/50\n",
      "\u001b[1m2124/2124\u001b[0m \u001b[32m━━━━━━━━━━━━━━━━━━━━\u001b[0m\u001b[37m\u001b[0m \u001b[1m2s\u001b[0m 805us/step - accuracy: 0.5143 - loss: 1.0513 - val_accuracy: 0.5183 - val_loss: 1.0338\n",
      "Epoch 17/50\n",
      "\u001b[1m2124/2124\u001b[0m \u001b[32m━━━━━━━━━━━━━━━━━━━━\u001b[0m\u001b[37m\u001b[0m \u001b[1m2s\u001b[0m 824us/step - accuracy: 0.5105 - loss: 1.0592 - val_accuracy: 0.4696 - val_loss: 1.1645\n",
      "Epoch 18/50\n",
      "\u001b[1m2124/2124\u001b[0m \u001b[32m━━━━━━━━━━━━━━━━━━━━\u001b[0m\u001b[37m\u001b[0m \u001b[1m2s\u001b[0m 842us/step - accuracy: 0.5168 - loss: 1.0477 - val_accuracy: 0.5047 - val_loss: 1.0559\n",
      "Epoch 19/50\n",
      "\u001b[1m2124/2124\u001b[0m \u001b[32m━━━━━━━━━━━━━━━━━━━━\u001b[0m\u001b[37m\u001b[0m \u001b[1m2s\u001b[0m 864us/step - accuracy: 0.5114 - loss: 1.0568 - val_accuracy: 0.5242 - val_loss: 1.0356\n",
      "Epoch 20/50\n",
      "\u001b[1m2124/2124\u001b[0m \u001b[32m━━━━━━━━━━━━━━━━━━━━\u001b[0m\u001b[37m\u001b[0m \u001b[1m2s\u001b[0m 726us/step - accuracy: 0.5163 - loss: 1.0423 - val_accuracy: 0.5100 - val_loss: 1.0917\n",
      "Epoch 21/50\n",
      "\u001b[1m2124/2124\u001b[0m \u001b[32m━━━━━━━━━━━━━━━━━━━━\u001b[0m\u001b[37m\u001b[0m \u001b[1m2s\u001b[0m 687us/step - accuracy: 0.5166 - loss: 1.0442 - val_accuracy: 0.5208 - val_loss: 1.0237\n",
      "Epoch 22/50\n",
      "\u001b[1m2124/2124\u001b[0m \u001b[32m━━━━━━━━━━━━━━━━━━━━\u001b[0m\u001b[37m\u001b[0m \u001b[1m2s\u001b[0m 743us/step - accuracy: 0.5186 - loss: 1.0443 - val_accuracy: 0.3609 - val_loss: 1.4154\n",
      "Epoch 23/50\n",
      "\u001b[1m2124/2124\u001b[0m \u001b[32m━━━━━━━━━━━━━━━━━━━━\u001b[0m\u001b[37m\u001b[0m \u001b[1m2s\u001b[0m 872us/step - accuracy: 0.4973 - loss: 1.0942 - val_accuracy: 0.5329 - val_loss: 1.0182\n",
      "Epoch 24/50\n",
      "\u001b[1m2124/2124\u001b[0m \u001b[32m━━━━━━━━━━━━━━━━━━━━\u001b[0m\u001b[37m\u001b[0m \u001b[1m2s\u001b[0m 745us/step - accuracy: 0.5159 - loss: 1.0454 - val_accuracy: 0.5370 - val_loss: 1.0233\n",
      "Epoch 25/50\n",
      "\u001b[1m2124/2124\u001b[0m \u001b[32m━━━━━━━━━━━━━━━━━━━━\u001b[0m\u001b[37m\u001b[0m \u001b[1m2s\u001b[0m 818us/step - accuracy: 0.5176 - loss: 1.0410 - val_accuracy: 0.5056 - val_loss: 1.1145\n",
      "Epoch 26/50\n",
      "\u001b[1m2124/2124\u001b[0m \u001b[32m━━━━━━━━━━━━━━━━━━━━\u001b[0m\u001b[37m\u001b[0m \u001b[1m2s\u001b[0m 736us/step - accuracy: 0.5204 - loss: 1.0385 - val_accuracy: 0.5044 - val_loss: 1.0382\n",
      "Epoch 27/50\n",
      "\u001b[1m2124/2124\u001b[0m \u001b[32m━━━━━━━━━━━━━━━━━━━━\u001b[0m\u001b[37m\u001b[0m \u001b[1m2s\u001b[0m 840us/step - accuracy: 0.5174 - loss: 1.0417 - val_accuracy: 0.5146 - val_loss: 1.0232\n",
      "Epoch 28/50\n",
      "\u001b[1m2124/2124\u001b[0m \u001b[32m━━━━━━━━━━━━━━━━━━━━\u001b[0m\u001b[37m\u001b[0m \u001b[1m2s\u001b[0m 780us/step - accuracy: 0.5193 - loss: 1.0359 - val_accuracy: 0.5300 - val_loss: 1.0106\n",
      "Epoch 29/50\n",
      "\u001b[1m2124/2124\u001b[0m \u001b[32m━━━━━━━━━━━━━━━━━━━━\u001b[0m\u001b[37m\u001b[0m \u001b[1m2s\u001b[0m 721us/step - accuracy: 0.5220 - loss: 1.0336 - val_accuracy: 0.4883 - val_loss: 1.0704\n",
      "Epoch 30/50\n",
      "\u001b[1m2124/2124\u001b[0m \u001b[32m━━━━━━━━━━━━━━━━━━━━\u001b[0m\u001b[37m\u001b[0m \u001b[1m2s\u001b[0m 688us/step - accuracy: 0.5213 - loss: 1.0391 - val_accuracy: 0.5150 - val_loss: 1.0201\n",
      "Epoch 31/50\n",
      "\u001b[1m2124/2124\u001b[0m \u001b[32m━━━━━━━━━━━━━━━━━━━━\u001b[0m\u001b[37m\u001b[0m \u001b[1m2s\u001b[0m 819us/step - accuracy: 0.5120 - loss: 1.0667 - val_accuracy: 0.5132 - val_loss: 1.0208\n",
      "Epoch 32/50\n",
      "\u001b[1m2124/2124\u001b[0m \u001b[32m━━━━━━━━━━━━━━━━━━━━\u001b[0m\u001b[37m\u001b[0m \u001b[1m2s\u001b[0m 1ms/step - accuracy: 0.5223 - loss: 1.0289 - val_accuracy: 0.4919 - val_loss: 1.0858\n",
      "Epoch 33/50\n",
      "\u001b[1m2124/2124\u001b[0m \u001b[32m━━━━━━━━━━━━━━━━━━━━\u001b[0m\u001b[37m\u001b[0m \u001b[1m2s\u001b[0m 915us/step - accuracy: 0.5235 - loss: 1.0296 - val_accuracy: 0.5355 - val_loss: 0.9979\n",
      "Epoch 34/50\n",
      "\u001b[1m2124/2124\u001b[0m \u001b[32m━━━━━━━━━━━━━━━━━━━━\u001b[0m\u001b[37m\u001b[0m \u001b[1m2s\u001b[0m 905us/step - accuracy: 0.5198 - loss: 1.0399 - val_accuracy: 0.5187 - val_loss: 1.0499\n",
      "Epoch 35/50\n",
      "\u001b[1m2124/2124\u001b[0m \u001b[32m━━━━━━━━━━━━━━━━━━━━\u001b[0m\u001b[37m\u001b[0m \u001b[1m2s\u001b[0m 967us/step - accuracy: 0.5252 - loss: 1.0277 - val_accuracy: 0.5283 - val_loss: 1.0095\n",
      "Epoch 36/50\n",
      "\u001b[1m2124/2124\u001b[0m \u001b[32m━━━━━━━━━━━━━━━━━━━━\u001b[0m\u001b[37m\u001b[0m \u001b[1m2s\u001b[0m 1ms/step - accuracy: 0.5224 - loss: 1.0265 - val_accuracy: 0.4416 - val_loss: 1.3453\n",
      "Epoch 37/50\n",
      "\u001b[1m2124/2124\u001b[0m \u001b[32m━━━━━━━━━━━━━━━━━━━━\u001b[0m\u001b[37m\u001b[0m \u001b[1m2s\u001b[0m 908us/step - accuracy: 0.5039 - loss: 1.0852 - val_accuracy: 0.4968 - val_loss: 1.0755\n",
      "Epoch 38/50\n",
      "\u001b[1m2124/2124\u001b[0m \u001b[32m━━━━━━━━━━━━━━━━━━━━\u001b[0m\u001b[37m\u001b[0m \u001b[1m2s\u001b[0m 882us/step - accuracy: 0.4858 - loss: 1.1030 - val_accuracy: 0.4979 - val_loss: 1.0908\n",
      "Epoch 39/50\n",
      "\u001b[1m2124/2124\u001b[0m \u001b[32m━━━━━━━━━━━━━━━━━━━━\u001b[0m\u001b[37m\u001b[0m \u001b[1m2s\u001b[0m 748us/step - accuracy: 0.4873 - loss: 1.0997 - val_accuracy: 0.4692 - val_loss: 1.1376\n",
      "Epoch 40/50\n",
      "\u001b[1m2124/2124\u001b[0m \u001b[32m━━━━━━━━━━━━━━━━━━━━\u001b[0m\u001b[37m\u001b[0m \u001b[1m2s\u001b[0m 1ms/step - accuracy: 0.5021 - loss: 1.0883 - val_accuracy: 0.4383 - val_loss: 1.1884\n",
      "Epoch 41/50\n",
      "\u001b[1m2124/2124\u001b[0m \u001b[32m━━━━━━━━━━━━━━━━━━━━\u001b[0m\u001b[37m\u001b[0m \u001b[1m3s\u001b[0m 1ms/step - accuracy: 0.4992 - loss: 1.0762 - val_accuracy: 0.5126 - val_loss: 1.0504\n",
      "Epoch 42/50\n",
      "\u001b[1m2124/2124\u001b[0m \u001b[32m━━━━━━━━━━━━━━━━━━━━\u001b[0m\u001b[37m\u001b[0m \u001b[1m5s\u001b[0m 1ms/step - accuracy: 0.5112 - loss: 1.0683 - val_accuracy: 0.4931 - val_loss: 1.0771\n",
      "Epoch 43/50\n",
      "\u001b[1m2124/2124\u001b[0m \u001b[32m━━━━━━━━━━━━━━━━━━━━\u001b[0m\u001b[37m\u001b[0m \u001b[1m3s\u001b[0m 1ms/step - accuracy: 0.5004 - loss: 1.0750 - val_accuracy: 0.4679 - val_loss: 1.1192\n",
      "Training model with learning rate = 0.001\n",
      "Epoch 1/50\n",
      "\u001b[1m2124/2124\u001b[0m \u001b[32m━━━━━━━━━━━━━━━━━━━━\u001b[0m\u001b[37m\u001b[0m \u001b[1m2s\u001b[0m 937us/step - accuracy: 0.4999 - loss: 1.0691 - val_accuracy: 0.5023 - val_loss: 1.0888\n",
      "Epoch 2/50\n",
      "\u001b[1m2124/2124\u001b[0m \u001b[32m━━━━━━━━━━━━━━━━━━━━\u001b[0m\u001b[37m\u001b[0m \u001b[1m2s\u001b[0m 809us/step - accuracy: 0.5029 - loss: 1.0654 - val_accuracy: 0.4777 - val_loss: 1.1006\n",
      "Epoch 3/50\n",
      "\u001b[1m2124/2124\u001b[0m \u001b[32m━━━━━━━━━━━━━━━━━━━━\u001b[0m\u001b[37m\u001b[0m \u001b[1m2s\u001b[0m 853us/step - accuracy: 0.4902 - loss: 1.0995 - val_accuracy: 0.4990 - val_loss: 1.0906\n",
      "Epoch 4/50\n",
      "\u001b[1m2124/2124\u001b[0m \u001b[32m━━━━━━━━━━━━━━━━━━━━\u001b[0m\u001b[37m\u001b[0m \u001b[1m2s\u001b[0m 796us/step - accuracy: 0.5070 - loss: 1.0652 - val_accuracy: 0.4710 - val_loss: 1.1032\n",
      "Epoch 5/50\n",
      "\u001b[1m2124/2124\u001b[0m \u001b[32m━━━━━━━━━━━━━━━━━━━━\u001b[0m\u001b[37m\u001b[0m \u001b[1m2s\u001b[0m 814us/step - accuracy: 0.5019 - loss: 1.0691 - val_accuracy: 0.5006 - val_loss: 1.0643\n",
      "Epoch 6/50\n",
      "\u001b[1m2124/2124\u001b[0m \u001b[32m━━━━━━━━━━━━━━━━━━━━\u001b[0m\u001b[37m\u001b[0m \u001b[1m2s\u001b[0m 1ms/step - accuracy: 0.5093 - loss: 1.0555 - val_accuracy: 0.5158 - val_loss: 1.0371\n",
      "Epoch 7/50\n",
      "\u001b[1m2124/2124\u001b[0m \u001b[32m━━━━━━━━━━━━━━━━━━━━\u001b[0m\u001b[37m\u001b[0m \u001b[1m2s\u001b[0m 807us/step - accuracy: 0.5041 - loss: 1.0622 - val_accuracy: 0.5226 - val_loss: 1.0309\n",
      "Epoch 8/50\n",
      "\u001b[1m2124/2124\u001b[0m \u001b[32m━━━━━━━━━━━━━━━━━━━━\u001b[0m\u001b[37m\u001b[0m \u001b[1m2s\u001b[0m 821us/step - accuracy: 0.5097 - loss: 1.0590 - val_accuracy: 0.5081 - val_loss: 1.0440\n",
      "Epoch 9/50\n",
      "\u001b[1m2124/2124\u001b[0m \u001b[32m━━━━━━━━━━━━━━━━━━━━\u001b[0m\u001b[37m\u001b[0m \u001b[1m2s\u001b[0m 919us/step - accuracy: 0.5084 - loss: 1.0548 - val_accuracy: 0.5019 - val_loss: 1.0956\n",
      "Epoch 10/50\n",
      "\u001b[1m2124/2124\u001b[0m \u001b[32m━━━━━━━━━━━━━━━━━━━━\u001b[0m\u001b[37m\u001b[0m \u001b[1m2s\u001b[0m 937us/step - accuracy: 0.5062 - loss: 1.0557 - val_accuracy: 0.4621 - val_loss: 1.1471\n",
      "Training model with learning rate = 0.0001\n",
      "Epoch 1/50\n",
      "\u001b[1m2124/2124\u001b[0m \u001b[32m━━━━━━━━━━━━━━━━━━━━\u001b[0m\u001b[37m\u001b[0m \u001b[1m2s\u001b[0m 975us/step - accuracy: 0.5100 - loss: 1.0537 - val_accuracy: 0.5248 - val_loss: 1.0242\n",
      "Epoch 2/50\n",
      "\u001b[1m2124/2124\u001b[0m \u001b[32m━━━━━━━━━━━━━━━━━━━━\u001b[0m\u001b[37m\u001b[0m \u001b[1m2s\u001b[0m 789us/step - accuracy: 0.5090 - loss: 1.0534 - val_accuracy: 0.4638 - val_loss: 1.0917\n",
      "Epoch 3/50\n",
      "\u001b[1m2124/2124\u001b[0m \u001b[32m━━━━━━━━━━━━━━━━━━━━\u001b[0m\u001b[37m\u001b[0m \u001b[1m2s\u001b[0m 732us/step - accuracy: 0.5170 - loss: 1.0465 - val_accuracy: 0.4963 - val_loss: 1.0620\n",
      "Epoch 4/50\n",
      "\u001b[1m2124/2124\u001b[0m \u001b[32m━━━━━━━━━━━━━━━━━━━━\u001b[0m\u001b[37m\u001b[0m \u001b[1m2s\u001b[0m 874us/step - accuracy: 0.5086 - loss: 1.0611 - val_accuracy: 0.4718 - val_loss: 1.1651\n",
      "Epoch 5/50\n",
      "\u001b[1m2124/2124\u001b[0m \u001b[32m━━━━━━━━━━━━━━━━━━━━\u001b[0m\u001b[37m\u001b[0m \u001b[1m2s\u001b[0m 858us/step - accuracy: 0.4846 - loss: 1.1346 - val_accuracy: 0.5217 - val_loss: 1.0458\n",
      "Epoch 6/50\n",
      "\u001b[1m2124/2124\u001b[0m \u001b[32m━━━━━━━━━━━━━━━━━━━━\u001b[0m\u001b[37m\u001b[0m \u001b[1m2s\u001b[0m 781us/step - accuracy: 0.5164 - loss: 1.0421 - val_accuracy: 0.4896 - val_loss: 1.0639\n",
      "Epoch 7/50\n",
      "\u001b[1m2124/2124\u001b[0m \u001b[32m━━━━━━━━━━━━━━━━━━━━\u001b[0m\u001b[37m\u001b[0m \u001b[1m2s\u001b[0m 938us/step - accuracy: 0.5158 - loss: 1.0445 - val_accuracy: 0.4891 - val_loss: 1.0713\n",
      "Epoch 8/50\n",
      "\u001b[1m2124/2124\u001b[0m \u001b[32m━━━━━━━━━━━━━━━━━━━━\u001b[0m\u001b[37m\u001b[0m \u001b[1m2s\u001b[0m 807us/step - accuracy: 0.5125 - loss: 1.0488 - val_accuracy: 0.5223 - val_loss: 1.0183\n",
      "Epoch 9/50\n",
      "\u001b[1m2124/2124\u001b[0m \u001b[32m━━━━━━━━━━━━━━━━━━━━\u001b[0m\u001b[37m\u001b[0m \u001b[1m2s\u001b[0m 866us/step - accuracy: 0.5149 - loss: 1.0498 - val_accuracy: 0.5286 - val_loss: 1.0167\n",
      "Epoch 10/50\n",
      "\u001b[1m2124/2124\u001b[0m \u001b[32m━━━━━━━━━━━━━━━━━━━━\u001b[0m\u001b[37m\u001b[0m \u001b[1m2s\u001b[0m 946us/step - accuracy: 0.5212 - loss: 1.0387 - val_accuracy: 0.5253 - val_loss: 1.0178\n",
      "Training model with learning rate = 1e-05\n",
      "Epoch 1/50\n",
      "\u001b[1m2124/2124\u001b[0m \u001b[32m━━━━━━━━━━━━━━━━━━━━\u001b[0m\u001b[37m\u001b[0m \u001b[1m2s\u001b[0m 1ms/step - accuracy: 0.5187 - loss: 1.0406 - val_accuracy: 0.5054 - val_loss: 1.0768\n",
      "Epoch 2/50\n",
      "\u001b[1m2124/2124\u001b[0m \u001b[32m━━━━━━━━━━━━━━━━━━━━\u001b[0m\u001b[37m\u001b[0m \u001b[1m2s\u001b[0m 866us/step - accuracy: 0.5132 - loss: 1.0444 - val_accuracy: 0.4953 - val_loss: 1.1313\n",
      "Epoch 3/50\n",
      "\u001b[1m2124/2124\u001b[0m \u001b[32m━━━━━━━━━━━━━━━━━━━━\u001b[0m\u001b[37m\u001b[0m \u001b[1m3s\u001b[0m 1ms/step - accuracy: 0.4898 - loss: 1.1084 - val_accuracy: 0.4989 - val_loss: 1.0906\n",
      "Epoch 4/50\n",
      "\u001b[1m2124/2124\u001b[0m \u001b[32m━━━━━━━━━━━━━━━━━━━━\u001b[0m\u001b[37m\u001b[0m \u001b[1m2s\u001b[0m 868us/step - accuracy: 0.4924 - loss: 1.1003 - val_accuracy: 0.4866 - val_loss: 1.1049\n",
      "Epoch 5/50\n",
      "\u001b[1m2124/2124\u001b[0m \u001b[32m━━━━━━━━━━━━━━━━━━━━\u001b[0m\u001b[37m\u001b[0m \u001b[1m2s\u001b[0m 916us/step - accuracy: 0.5016 - loss: 1.0884 - val_accuracy: 0.4414 - val_loss: 1.1489\n",
      "Epoch 6/50\n",
      "\u001b[1m2124/2124\u001b[0m \u001b[32m━━━━━━━━━━━━━━━━━━━━\u001b[0m\u001b[37m\u001b[0m \u001b[1m2s\u001b[0m 824us/step - accuracy: 0.4987 - loss: 1.0810 - val_accuracy: 0.5153 - val_loss: 1.0609\n",
      "Epoch 7/50\n",
      "\u001b[1m2124/2124\u001b[0m \u001b[32m━━━━━━━━━━━━━━━━━━━━\u001b[0m\u001b[37m\u001b[0m \u001b[1m2s\u001b[0m 870us/step - accuracy: 0.5016 - loss: 1.0825 - val_accuracy: 0.5150 - val_loss: 1.0575\n",
      "Epoch 8/50\n",
      "\u001b[1m2124/2124\u001b[0m \u001b[32m━━━━━━━━━━━━━━━━━━━━\u001b[0m\u001b[37m\u001b[0m \u001b[1m2s\u001b[0m 817us/step - accuracy: 0.5073 - loss: 1.0742 - val_accuracy: 0.5288 - val_loss: 1.0409\n",
      "Epoch 9/50\n",
      "\u001b[1m2124/2124\u001b[0m \u001b[32m━━━━━━━━━━━━━━━━━━━━\u001b[0m\u001b[37m\u001b[0m \u001b[1m2s\u001b[0m 809us/step - accuracy: 0.5236 - loss: 1.0389 - val_accuracy: 0.4949 - val_loss: 1.0836\n",
      "Epoch 10/50\n",
      "\u001b[1m2124/2124\u001b[0m \u001b[32m━━━━━━━━━━━━━━━━━━━━\u001b[0m\u001b[37m\u001b[0m \u001b[1m2s\u001b[0m 801us/step - accuracy: 0.5227 - loss: 1.0321 - val_accuracy: 0.5222 - val_loss: 1.0238\n"
     ]
    },
    {
     "data": {
      "text/html": [
       "<pre style=\"white-space:pre;overflow-x:auto;line-height:normal;font-family:Menlo,'DejaVu Sans Mono',consolas,'Courier New',monospace\"><span style=\"font-weight: bold\">Model: \"sequential_2\"</span>\n",
       "</pre>\n"
      ],
      "text/plain": [
       "\u001b[1mModel: \"sequential_2\"\u001b[0m\n"
      ]
     },
     "metadata": {},
     "output_type": "display_data"
    },
    {
     "data": {
      "text/html": [
       "<pre style=\"white-space:pre;overflow-x:auto;line-height:normal;font-family:Menlo,'DejaVu Sans Mono',consolas,'Courier New',monospace\">┏━━━━━━━━━━━━━━━━━━━━━━━━━━━━━━━━━┳━━━━━━━━━━━━━━━━━━━━━━━━┳━━━━━━━━━━━━━━━┓\n",
       "┃<span style=\"font-weight: bold\"> Layer (type)                    </span>┃<span style=\"font-weight: bold\"> Output Shape           </span>┃<span style=\"font-weight: bold\">       Param # </span>┃\n",
       "┡━━━━━━━━━━━━━━━━━━━━━━━━━━━━━━━━━╇━━━━━━━━━━━━━━━━━━━━━━━━╇━━━━━━━━━━━━━━━┩\n",
       "│ dense_5 (<span style=\"color: #0087ff; text-decoration-color: #0087ff\">Dense</span>)                 │ (<span style=\"color: #00d7ff; text-decoration-color: #00d7ff\">None</span>, <span style=\"color: #00af00; text-decoration-color: #00af00\">32</span>)             │           <span style=\"color: #00af00; text-decoration-color: #00af00\">192</span> │\n",
       "├─────────────────────────────────┼────────────────────────┼───────────────┤\n",
       "│ dense_6 (<span style=\"color: #0087ff; text-decoration-color: #0087ff\">Dense</span>)                 │ (<span style=\"color: #00d7ff; text-decoration-color: #00d7ff\">None</span>, <span style=\"color: #00af00; text-decoration-color: #00af00\">4</span>)              │           <span style=\"color: #00af00; text-decoration-color: #00af00\">132</span> │\n",
       "└─────────────────────────────────┴────────────────────────┴───────────────┘\n",
       "</pre>\n"
      ],
      "text/plain": [
       "┏━━━━━━━━━━━━━━━━━━━━━━━━━━━━━━━━━┳━━━━━━━━━━━━━━━━━━━━━━━━┳━━━━━━━━━━━━━━━┓\n",
       "┃\u001b[1m \u001b[0m\u001b[1mLayer (type)                   \u001b[0m\u001b[1m \u001b[0m┃\u001b[1m \u001b[0m\u001b[1mOutput Shape          \u001b[0m\u001b[1m \u001b[0m┃\u001b[1m \u001b[0m\u001b[1m      Param #\u001b[0m\u001b[1m \u001b[0m┃\n",
       "┡━━━━━━━━━━━━━━━━━━━━━━━━━━━━━━━━━╇━━━━━━━━━━━━━━━━━━━━━━━━╇━━━━━━━━━━━━━━━┩\n",
       "│ dense_5 (\u001b[38;5;33mDense\u001b[0m)                 │ (\u001b[38;5;45mNone\u001b[0m, \u001b[38;5;34m32\u001b[0m)             │           \u001b[38;5;34m192\u001b[0m │\n",
       "├─────────────────────────────────┼────────────────────────┼───────────────┤\n",
       "│ dense_6 (\u001b[38;5;33mDense\u001b[0m)                 │ (\u001b[38;5;45mNone\u001b[0m, \u001b[38;5;34m4\u001b[0m)              │           \u001b[38;5;34m132\u001b[0m │\n",
       "└─────────────────────────────────┴────────────────────────┴───────────────┘\n"
      ]
     },
     "metadata": {},
     "output_type": "display_data"
    },
    {
     "data": {
      "text/html": [
       "<pre style=\"white-space:pre;overflow-x:auto;line-height:normal;font-family:Menlo,'DejaVu Sans Mono',consolas,'Courier New',monospace\"><span style=\"font-weight: bold\"> Total params: </span><span style=\"color: #00af00; text-decoration-color: #00af00\">326</span> (1.28 KB)\n",
       "</pre>\n"
      ],
      "text/plain": [
       "\u001b[1m Total params: \u001b[0m\u001b[38;5;34m326\u001b[0m (1.28 KB)\n"
      ]
     },
     "metadata": {},
     "output_type": "display_data"
    },
    {
     "data": {
      "text/html": [
       "<pre style=\"white-space:pre;overflow-x:auto;line-height:normal;font-family:Menlo,'DejaVu Sans Mono',consolas,'Courier New',monospace\"><span style=\"font-weight: bold\"> Trainable params: </span><span style=\"color: #00af00; text-decoration-color: #00af00\">324</span> (1.27 KB)\n",
       "</pre>\n"
      ],
      "text/plain": [
       "\u001b[1m Trainable params: \u001b[0m\u001b[38;5;34m324\u001b[0m (1.27 KB)\n"
      ]
     },
     "metadata": {},
     "output_type": "display_data"
    },
    {
     "data": {
      "text/html": [
       "<pre style=\"white-space:pre;overflow-x:auto;line-height:normal;font-family:Menlo,'DejaVu Sans Mono',consolas,'Courier New',monospace\"><span style=\"font-weight: bold\"> Non-trainable params: </span><span style=\"color: #00af00; text-decoration-color: #00af00\">0</span> (0.00 B)\n",
       "</pre>\n"
      ],
      "text/plain": [
       "\u001b[1m Non-trainable params: \u001b[0m\u001b[38;5;34m0\u001b[0m (0.00 B)\n"
      ]
     },
     "metadata": {},
     "output_type": "display_data"
    },
    {
     "data": {
      "text/html": [
       "<pre style=\"white-space:pre;overflow-x:auto;line-height:normal;font-family:Menlo,'DejaVu Sans Mono',consolas,'Courier New',monospace\"><span style=\"font-weight: bold\"> Optimizer params: </span><span style=\"color: #00af00; text-decoration-color: #00af00\">2</span> (12.00 B)\n",
       "</pre>\n"
      ],
      "text/plain": [
       "\u001b[1m Optimizer params: \u001b[0m\u001b[38;5;34m2\u001b[0m (12.00 B)\n"
      ]
     },
     "metadata": {},
     "output_type": "display_data"
    }
   ],
   "source": [
    "# Train the model with different learning rates\n",
    "learning_rates = [1e-2, 1e-3, 1e-4, 1e-5]\n",
    "histories_v1, best_val_losses_v1, best_model_v1 = train_model_v1(learning_rates)\n",
    "best_model_v1.summary()"
   ]
  },
  {
   "cell_type": "code",
   "execution_count": 71,
   "id": "7d65c1d3-7286-46b8-9af0-6f40fd113dc6",
   "metadata": {
    "execution": {
     "iopub.execute_input": "2024-06-19T11:24:14.259000Z",
     "iopub.status.busy": "2024-06-19T11:24:14.258570Z",
     "iopub.status.idle": "2024-06-19T11:24:14.681135Z",
     "shell.execute_reply": "2024-06-19T11:24:14.680092Z",
     "shell.execute_reply.started": "2024-06-19T11:24:14.258974Z"
    }
   },
   "outputs": [
    {
     "name": "stdout",
     "output_type": "stream",
     "text": [
      "\u001b[1m531/531\u001b[0m \u001b[32m━━━━━━━━━━━━━━━━━━━━\u001b[0m\u001b[37m\u001b[0m \u001b[1m0s\u001b[0m 521us/step - accuracy: 0.5185 - loss: 1.0287\n",
      "Test accuracy: 0.522220253944397\n"
     ]
    }
   ],
   "source": [
    "# Evaluate the model\n",
    "loss, accuracy = best_model_v1.evaluate(X_test, y_test_encoded)\n",
    "print('Test accuracy:', accuracy)"
   ]
  },
  {
   "cell_type": "code",
   "execution_count": 72,
   "id": "db08ead4-1fae-455a-b82a-89c53ae74d51",
   "metadata": {
    "execution": {
     "iopub.execute_input": "2024-06-19T11:24:14.682888Z",
     "iopub.status.busy": "2024-06-19T11:24:14.682421Z",
     "iopub.status.idle": "2024-06-19T11:24:15.262193Z",
     "shell.execute_reply": "2024-06-19T11:24:15.261289Z",
     "shell.execute_reply.started": "2024-06-19T11:24:14.682856Z"
    }
   },
   "outputs": [
    {
     "name": "stdout",
     "output_type": "stream",
     "text": [
      "\u001b[1m531/531\u001b[0m \u001b[32m━━━━━━━━━━━━━━━━━━━━\u001b[0m\u001b[37m\u001b[0m \u001b[1m0s\u001b[0m 541us/step\n",
      "              precision    recall  f1-score   support\n",
      "\n",
      "           0       0.43      0.31      0.36      4609\n",
      "           1       0.50      0.43      0.47      3572\n",
      "           2       0.39      0.37      0.38      4051\n",
      "           3       0.65      0.93      0.76      4757\n",
      "\n",
      "    accuracy                           0.52     16989\n",
      "   macro avg       0.49      0.51      0.49     16989\n",
      "weighted avg       0.50      0.52      0.50     16989\n",
      "\n"
     ]
    }
   ],
   "source": [
    "# Make predictions\n",
    "y_pred = best_model_v1.predict(X_test)\n",
    "y_pred_classes = np.argmax(y_pred, axis=1)\n",
    "\n",
    "# If y_test is one-hot encoded, convert it to class labels\n",
    "y_test_classes = np.argmax(y_test_encoded, axis=1)\n",
    "\n",
    "# Print classification report\n",
    "print(classification_report(y_test_classes, y_pred_classes))"
   ]
  },
  {
   "cell_type": "code",
   "execution_count": 73,
   "id": "c5383471-1948-44f0-9218-439a2a009793",
   "metadata": {
    "execution": {
     "iopub.execute_input": "2024-06-19T11:24:15.263839Z",
     "iopub.status.busy": "2024-06-19T11:24:15.263653Z",
     "iopub.status.idle": "2024-06-19T11:24:15.429040Z",
     "shell.execute_reply": "2024-06-19T11:24:15.428121Z",
     "shell.execute_reply.started": "2024-06-19T11:24:15.263821Z"
    }
   },
   "outputs": [
    {
     "data": {
      "text/plain": [
       "Text(0.5, 1.0, 'Validation loss curves')"
      ]
     },
     "execution_count": 73,
     "metadata": {},
     "output_type": "execute_result"
    },
    {
     "data": {
      "image/png": "[encoded data removed]",
      "text/plain": [
       "<Figure size 640x480 with 1 Axes>"
      ]
     },
     "metadata": {},
     "output_type": "display_data"
    }
   ],
   "source": [
    "# plot the validation loss curves for each learning rate\n",
    "for h in histories_v1:\n",
    "    plt.plot(h.history['val_loss'])\n",
    "plt.legend(learning_rates)\n",
    "plt.xlabel('Epoch')\n",
    "plt.ylabel('Validation loss')\n",
    "plt.title('Validation loss curves')"
   ]
  },
  {
   "cell_type": "code",
   "execution_count": 74,
   "id": "1724bfed-82b6-4b98-a131-47ccbe3a0f76",
   "metadata": {
    "execution": {
     "iopub.execute_input": "2024-06-19T11:24:15.430207Z",
     "iopub.status.busy": "2024-06-19T11:24:15.429986Z",
     "iopub.status.idle": "2024-06-19T11:24:15.683991Z",
     "shell.execute_reply": "2024-06-19T11:24:15.683197Z",
     "shell.execute_reply.started": "2024-06-19T11:24:15.430186Z"
    }
   },
   "outputs": [
    {
     "data": {
      "text/plain": [
       "Text(0.5, 1.0, 'Validation accuracy curves')"
      ]
     },
     "execution_count": 74,
     "metadata": {},
     "output_type": "execute_result"
    },
    {
     "data": {
      "image/png": "[encoded data removed]",
      "text/plain": [
       "<Figure size 640x480 with 1 Axes>"
      ]
     },
     "metadata": {},
     "output_type": "display_data"
    }
   ],
   "source": [
    "# plot the validation accuracy curves for each learning rate\n",
    "for h in histories_v1:\n",
    "    plt.plot(h.history['val_accuracy'])\n",
    "plt.legend(learning_rates)\n",
    "plt.xlabel('Epoch')\n",
    "plt.ylabel('Validation accuracy')\n",
    "plt.title('Validation accuracy curves')"
   ]
  },
  {
   "cell_type": "markdown",
   "id": "d266c65d-2dfd-49f4-b4d1-5da779f9c219",
   "metadata": {},
   "source": [
    "The model achieved a worse accuracy than the standard models, and its learning curves behave irregularily, which could mean overfitting. The next iteration will include dropout layer to try and fight it."
   ]
  },
  {
   "cell_type": "markdown",
   "id": "8569c60a-92b3-468c-8cc1-0f73b2fbbf69",
   "metadata": {
    "execution": {
     "iopub.execute_input": "2024-06-19T12:45:05.815845Z",
     "iopub.status.busy": "2024-06-19T12:45:05.815515Z",
     "iopub.status.idle": "2024-06-19T12:45:05.824775Z",
     "shell.execute_reply": "2024-06-19T12:45:05.824041Z",
     "shell.execute_reply.started": "2024-06-19T12:45:05.815823Z"
    }
   },
   "source": [
    "### Second iteration"
   ]
  },
  {
   "cell_type": "code",
   "execution_count": 75,
   "id": "e017d9dd-763a-4910-9b5f-239f85a50055",
   "metadata": {
    "execution": {
     "iopub.execute_input": "2024-06-19T11:24:15.685090Z",
     "iopub.status.busy": "2024-06-19T11:24:15.684798Z",
     "iopub.status.idle": "2024-06-19T11:24:15.722878Z",
     "shell.execute_reply": "2024-06-19T11:24:15.722119Z",
     "shell.execute_reply.started": "2024-06-19T11:24:15.685071Z"
    }
   },
   "outputs": [],
   "source": [
    "# Build the deep learning model\n",
    "deep_model2 = Sequential()\n",
    "deep_model2.add(Dense(12, input_dim=X_train.shape[1], activation='relu'))\n",
    "deep_model2.add(Dropout(0.5))  \n",
    "deep_model2.add(Dense(8, activation='relu'))\n",
    "deep_model2.add(Dropout(0.5))  \n",
    "deep_model2.add(Dense(4, activation='softmax'))  \n",
    "deep_model2.compile(loss='categorical_crossentropy', optimizer='adam', metrics=['accuracy'])  "
   ]
  },
  {
   "cell_type": "code",
   "execution_count": 76,
   "id": "5d365321-d99b-4864-be79-7d9ff4ac4346",
   "metadata": {
    "execution": {
     "iopub.execute_input": "2024-06-19T11:24:15.723764Z",
     "iopub.status.busy": "2024-06-19T11:24:15.723582Z",
     "iopub.status.idle": "2024-06-19T11:24:15.728147Z",
     "shell.execute_reply": "2024-06-19T11:24:15.727579Z",
     "shell.execute_reply.started": "2024-06-19T11:24:15.723747Z"
    }
   },
   "outputs": [],
   "source": [
    "# create a function for training the model\n",
    "def train_model_v2(learning_rates):\n",
    "    histories = []\n",
    "    models = []\n",
    "    best_val_losses = []\n",
    "    for lr in learning_rates:\n",
    "        print(f\"Training model with learning rate = {lr}\")\n",
    "        model = deep_model2\n",
    "        history = model.fit(X_train, y_train_encoded, epochs=50, validation_data=(X_test, y_test_encoded), callbacks=[early_stopping])\n",
    "        histories.append(history)\n",
    "        best_val_losses.append(min(history.history['val_loss']))\n",
    "        models.append(model)\n",
    "    \n",
    "    # get the index of the best model\n",
    "    best_model_index = np.argmin(best_val_losses)\n",
    "    # get the best model\n",
    "    best_model = models[best_model_index]\n",
    "            \n",
    "    return histories, best_val_losses, best_model"
   ]
  },
  {
   "cell_type": "code",
   "execution_count": 77,
   "id": "417a35ee-c202-427c-b9be-7796173736a3",
   "metadata": {
    "execution": {
     "iopub.execute_input": "2024-06-19T11:24:15.729194Z",
     "iopub.status.busy": "2024-06-19T11:24:15.728784Z",
     "iopub.status.idle": "2024-06-19T11:25:59.243754Z",
     "shell.execute_reply": "2024-06-19T11:25:59.242862Z",
     "shell.execute_reply.started": "2024-06-19T11:24:15.729174Z"
    }
   },
   "outputs": [
    {
     "name": "stdout",
     "output_type": "stream",
     "text": [
      "Training model with learning rate = 0.01\n",
      "Epoch 1/50\n",
      "\u001b[1m2124/2124\u001b[0m \u001b[32m━━━━━━━━━━━━━━━━━━━━\u001b[0m\u001b[37m\u001b[0m \u001b[1m4s\u001b[0m 1ms/step - accuracy: 0.3006 - loss: 53.6243 - val_accuracy: 0.4343 - val_loss: 1.1151\n",
      "Epoch 2/50\n",
      "\u001b[1m2124/2124\u001b[0m \u001b[32m━━━━━━━━━━━━━━━━━━━━\u001b[0m\u001b[37m\u001b[0m \u001b[1m2s\u001b[0m 1ms/step - accuracy: 0.3933 - loss: 1.3997 - val_accuracy: 0.4531 - val_loss: 1.1679\n",
      "Epoch 3/50\n",
      "\u001b[1m2124/2124\u001b[0m \u001b[32m━━━━━━━━━━━━━━━━━━━━\u001b[0m\u001b[37m\u001b[0m \u001b[1m2s\u001b[0m 994us/step - accuracy: 0.3761 - loss: 1.2390 - val_accuracy: 0.4643 - val_loss: 1.1521\n",
      "Epoch 4/50\n",
      "\u001b[1m2124/2124\u001b[0m \u001b[32m━━━━━━━━━━━━━━━━━━━━\u001b[0m\u001b[37m\u001b[0m \u001b[1m2s\u001b[0m 981us/step - accuracy: 0.3862 - loss: 1.2258 - val_accuracy: 0.4761 - val_loss: 1.1209\n",
      "Epoch 5/50\n",
      "\u001b[1m2124/2124\u001b[0m \u001b[32m━━━━━━━━━━━━━━━━━━━━\u001b[0m\u001b[37m\u001b[0m \u001b[1m2s\u001b[0m 926us/step - accuracy: 0.3974 - loss: 1.2041 - val_accuracy: 0.5028 - val_loss: 1.0801\n",
      "Epoch 6/50\n",
      "\u001b[1m2124/2124\u001b[0m \u001b[32m━━━━━━━━━━━━━━━━━━━━\u001b[0m\u001b[37m\u001b[0m \u001b[1m2s\u001b[0m 900us/step - accuracy: 0.4110 - loss: 1.1797 - val_accuracy: 0.5099 - val_loss: 1.0633\n",
      "Epoch 7/50\n",
      "\u001b[1m2124/2124\u001b[0m \u001b[32m━━━━━━━━━━━━━━━━━━━━\u001b[0m\u001b[37m\u001b[0m \u001b[1m3s\u001b[0m 1ms/step - accuracy: 0.4162 - loss: 1.1679 - val_accuracy: 0.4938 - val_loss: 1.0819\n",
      "Epoch 8/50\n",
      "\u001b[1m2124/2124\u001b[0m \u001b[32m━━━━━━━━━━━━━━━━━━━━\u001b[0m\u001b[37m\u001b[0m \u001b[1m4s\u001b[0m 2ms/step - accuracy: 0.4144 - loss: 1.1547 - val_accuracy: 0.5243 - val_loss: 1.0395\n",
      "Epoch 9/50\n",
      "\u001b[1m2124/2124\u001b[0m \u001b[32m━━━━━━━━━━━━━━━━━━━━\u001b[0m\u001b[37m\u001b[0m \u001b[1m3s\u001b[0m 1ms/step - accuracy: 0.4164 - loss: 1.1563 - val_accuracy: 0.5143 - val_loss: 1.0560\n",
      "Epoch 10/50\n",
      "\u001b[1m2124/2124\u001b[0m \u001b[32m━━━━━━━━━━━━━━━━━━━━\u001b[0m\u001b[37m\u001b[0m \u001b[1m3s\u001b[0m 1ms/step - accuracy: 0.4133 - loss: 1.1607 - val_accuracy: 0.5233 - val_loss: 1.0403\n",
      "Training model with learning rate = 0.001\n",
      "Epoch 1/50\n",
      "\u001b[1m2124/2124\u001b[0m \u001b[32m━━━━━━━━━━━━━━━━━━━━\u001b[0m\u001b[37m\u001b[0m \u001b[1m2s\u001b[0m 1ms/step - accuracy: 0.4185 - loss: 1.1501 - val_accuracy: 0.5424 - val_loss: 1.0503\n",
      "Epoch 2/50\n",
      "\u001b[1m2124/2124\u001b[0m \u001b[32m━━━━━━━━━━━━━━━━━━━━\u001b[0m\u001b[37m\u001b[0m \u001b[1m2s\u001b[0m 1ms/step - accuracy: 0.4168 - loss: 1.1534 - val_accuracy: 0.5168 - val_loss: 1.0356\n",
      "Epoch 3/50\n",
      "\u001b[1m2124/2124\u001b[0m \u001b[32m━━━━━━━━━━━━━━━━━━━━\u001b[0m\u001b[37m\u001b[0m \u001b[1m2s\u001b[0m 1ms/step - accuracy: 0.4159 - loss: 1.1536 - val_accuracy: 0.5136 - val_loss: 1.0693\n",
      "Epoch 4/50\n",
      "\u001b[1m2124/2124\u001b[0m \u001b[32m━━━━━━━━━━━━━━━━━━━━\u001b[0m\u001b[37m\u001b[0m \u001b[1m2s\u001b[0m 1ms/step - accuracy: 0.4183 - loss: 1.1541 - val_accuracy: 0.5339 - val_loss: 1.0348\n",
      "Epoch 5/50\n",
      "\u001b[1m2124/2124\u001b[0m \u001b[32m━━━━━━━━━━━━━━━━━━━━\u001b[0m\u001b[37m\u001b[0m \u001b[1m3s\u001b[0m 1ms/step - accuracy: 0.4204 - loss: 1.1515 - val_accuracy: 0.5190 - val_loss: 1.0588\n",
      "Epoch 6/50\n",
      "\u001b[1m2124/2124\u001b[0m \u001b[32m━━━━━━━━━━━━━━━━━━━━\u001b[0m\u001b[37m\u001b[0m \u001b[1m2s\u001b[0m 1ms/step - accuracy: 0.4190 - loss: 1.1510 - val_accuracy: 0.5114 - val_loss: 1.0564\n",
      "Epoch 7/50\n",
      "\u001b[1m2124/2124\u001b[0m \u001b[32m━━━━━━━━━━━━━━━━━━━━\u001b[0m\u001b[37m\u001b[0m \u001b[1m2s\u001b[0m 1ms/step - accuracy: 0.4184 - loss: 1.1484 - val_accuracy: 0.5040 - val_loss: 1.0642\n",
      "Epoch 8/50\n",
      "\u001b[1m2124/2124\u001b[0m \u001b[32m━━━━━━━━━━━━━━━━━━━━\u001b[0m\u001b[37m\u001b[0m \u001b[1m2s\u001b[0m 1ms/step - accuracy: 0.4178 - loss: 1.1513 - val_accuracy: 0.5289 - val_loss: 1.0524\n",
      "Epoch 9/50\n",
      "\u001b[1m2124/2124\u001b[0m \u001b[32m━━━━━━━━━━━━━━━━━━━━\u001b[0m\u001b[37m\u001b[0m \u001b[1m3s\u001b[0m 1ms/step - accuracy: 0.4152 - loss: 1.1513 - val_accuracy: 0.5110 - val_loss: 1.0552\n",
      "Epoch 10/50\n",
      "\u001b[1m2124/2124\u001b[0m \u001b[32m━━━━━━━━━━━━━━━━━━━━\u001b[0m\u001b[37m\u001b[0m \u001b[1m3s\u001b[0m 1ms/step - accuracy: 0.4224 - loss: 1.1442 - val_accuracy: 0.5141 - val_loss: 1.0468\n",
      "Training model with learning rate = 0.0001\n",
      "Epoch 1/50\n",
      "\u001b[1m2124/2124\u001b[0m \u001b[32m━━━━━━━━━━━━━━━━━━━━\u001b[0m\u001b[37m\u001b[0m \u001b[1m2s\u001b[0m 1ms/step - accuracy: 0.4182 - loss: 1.1432 - val_accuracy: 0.5151 - val_loss: 1.0376\n",
      "Epoch 2/50\n",
      "\u001b[1m2124/2124\u001b[0m \u001b[32m━━━━━━━━━━━━━━━━━━━━\u001b[0m\u001b[37m\u001b[0m \u001b[1m3s\u001b[0m 1ms/step - accuracy: 0.4213 - loss: 1.1414 - val_accuracy: 0.5020 - val_loss: 1.0656\n",
      "Epoch 3/50\n",
      "\u001b[1m2124/2124\u001b[0m \u001b[32m━━━━━━━━━━━━━━━━━━━━\u001b[0m\u001b[37m\u001b[0m \u001b[1m2s\u001b[0m 1ms/step - accuracy: 0.4214 - loss: 1.1479 - val_accuracy: 0.5186 - val_loss: 1.0576\n",
      "Epoch 4/50\n",
      "\u001b[1m2124/2124\u001b[0m \u001b[32m━━━━━━━━━━━━━━━━━━━━\u001b[0m\u001b[37m\u001b[0m \u001b[1m3s\u001b[0m 1ms/step - accuracy: 0.4218 - loss: 1.1415 - val_accuracy: 0.5078 - val_loss: 1.0424\n",
      "Epoch 5/50\n",
      "\u001b[1m2124/2124\u001b[0m \u001b[32m━━━━━━━━━━━━━━━━━━━━\u001b[0m\u001b[37m\u001b[0m \u001b[1m2s\u001b[0m 1ms/step - accuracy: 0.4202 - loss: 1.1409 - val_accuracy: 0.5429 - val_loss: 1.0327\n",
      "Epoch 6/50\n",
      "\u001b[1m2124/2124\u001b[0m \u001b[32m━━━━━━━━━━━━━━━━━━━━\u001b[0m\u001b[37m\u001b[0m \u001b[1m2s\u001b[0m 1ms/step - accuracy: 0.4181 - loss: 1.1482 - val_accuracy: 0.5105 - val_loss: 1.0423\n",
      "Epoch 7/50\n",
      "\u001b[1m2124/2124\u001b[0m \u001b[32m━━━━━━━━━━━━━━━━━━━━\u001b[0m\u001b[37m\u001b[0m \u001b[1m3s\u001b[0m 1ms/step - accuracy: 0.4194 - loss: 1.1452 - val_accuracy: 0.5200 - val_loss: 1.0499\n",
      "Epoch 8/50\n",
      "\u001b[1m2124/2124\u001b[0m \u001b[32m━━━━━━━━━━━━━━━━━━━━\u001b[0m\u001b[37m\u001b[0m \u001b[1m5s\u001b[0m 2ms/step - accuracy: 0.4207 - loss: 1.1429 - val_accuracy: 0.5129 - val_loss: 1.0381\n",
      "Epoch 9/50\n",
      "\u001b[1m2124/2124\u001b[0m \u001b[32m━━━━━━━━━━━━━━━━━━━━\u001b[0m\u001b[37m\u001b[0m \u001b[1m3s\u001b[0m 1ms/step - accuracy: 0.4196 - loss: 1.1435 - val_accuracy: 0.5128 - val_loss: 1.0583\n",
      "Epoch 10/50\n",
      "\u001b[1m2124/2124\u001b[0m \u001b[32m━━━━━━━━━━━━━━━━━━━━\u001b[0m\u001b[37m\u001b[0m \u001b[1m2s\u001b[0m 1ms/step - accuracy: 0.4199 - loss: 1.1452 - val_accuracy: 0.5203 - val_loss: 1.0384\n",
      "Training model with learning rate = 1e-05\n",
      "Epoch 1/50\n",
      "\u001b[1m2124/2124\u001b[0m \u001b[32m━━━━━━━━━━━━━━━━━━━━\u001b[0m\u001b[37m\u001b[0m \u001b[1m2s\u001b[0m 1ms/step - accuracy: 0.4134 - loss: 1.1501 - val_accuracy: 0.5392 - val_loss: 1.0400\n",
      "Epoch 2/50\n",
      "\u001b[1m2124/2124\u001b[0m \u001b[32m━━━━━━━━━━━━━━━━━━━━\u001b[0m\u001b[37m\u001b[0m \u001b[1m3s\u001b[0m 1ms/step - accuracy: 0.4222 - loss: 1.1410 - val_accuracy: 0.5163 - val_loss: 1.0561\n",
      "Epoch 3/50\n",
      "\u001b[1m2124/2124\u001b[0m \u001b[32m━━━━━━━━━━━━━━━━━━━━\u001b[0m\u001b[37m\u001b[0m \u001b[1m2s\u001b[0m 988us/step - accuracy: 0.4192 - loss: 1.1452 - val_accuracy: 0.4931 - val_loss: 1.0564\n",
      "Epoch 4/50\n",
      "\u001b[1m2124/2124\u001b[0m \u001b[32m━━━━━━━━━━━━━━━━━━━━\u001b[0m\u001b[37m\u001b[0m \u001b[1m2s\u001b[0m 917us/step - accuracy: 0.4193 - loss: 1.1452 - val_accuracy: 0.5223 - val_loss: 1.0326\n",
      "Epoch 5/50\n",
      "\u001b[1m2124/2124\u001b[0m \u001b[32m━━━━━━━━━━━━━━━━━━━━\u001b[0m\u001b[37m\u001b[0m \u001b[1m2s\u001b[0m 1ms/step - accuracy: 0.4200 - loss: 1.1421 - val_accuracy: 0.5366 - val_loss: 1.0533\n",
      "Epoch 6/50\n",
      "\u001b[1m2124/2124\u001b[0m \u001b[32m━━━━━━━━━━━━━━━━━━━━\u001b[0m\u001b[37m\u001b[0m \u001b[1m2s\u001b[0m 966us/step - accuracy: 0.4198 - loss: 1.1439 - val_accuracy: 0.5437 - val_loss: 1.0511\n",
      "Epoch 7/50\n",
      "\u001b[1m2124/2124\u001b[0m \u001b[32m━━━━━━━━━━━━━━━━━━━━\u001b[0m\u001b[37m\u001b[0m \u001b[1m2s\u001b[0m 1ms/step - accuracy: 0.4212 - loss: 1.1461 - val_accuracy: 0.5414 - val_loss: 1.0528\n",
      "Epoch 8/50\n",
      "\u001b[1m2124/2124\u001b[0m \u001b[32m━━━━━━━━━━━━━━━━━━━━\u001b[0m\u001b[37m\u001b[0m \u001b[1m2s\u001b[0m 1ms/step - accuracy: 0.4156 - loss: 1.1459 - val_accuracy: 0.5126 - val_loss: 1.0439\n",
      "Epoch 9/50\n",
      "\u001b[1m2124/2124\u001b[0m \u001b[32m━━━━━━━━━━━━━━━━━━━━\u001b[0m\u001b[37m\u001b[0m \u001b[1m2s\u001b[0m 934us/step - accuracy: 0.4238 - loss: 1.1417 - val_accuracy: 0.5041 - val_loss: 1.0652\n",
      "Epoch 10/50\n",
      "\u001b[1m2124/2124\u001b[0m \u001b[32m━━━━━━━━━━━━━━━━━━━━\u001b[0m\u001b[37m\u001b[0m \u001b[1m2s\u001b[0m 924us/step - accuracy: 0.4192 - loss: 1.1458 - val_accuracy: 0.5167 - val_loss: 1.0432\n"
     ]
    },
    {
     "data": {
      "text/html": [
       "<pre style=\"white-space:pre;overflow-x:auto;line-height:normal;font-family:Menlo,'DejaVu Sans Mono',consolas,'Courier New',monospace\"><span style=\"font-weight: bold\">Model: \"sequential_4\"</span>\n",
       "</pre>\n"
      ],
      "text/plain": [
       "\u001b[1mModel: \"sequential_4\"\u001b[0m\n"
      ]
     },
     "metadata": {},
     "output_type": "display_data"
    },
    {
     "data": {
      "text/html": [
       "<pre style=\"white-space:pre;overflow-x:auto;line-height:normal;font-family:Menlo,'DejaVu Sans Mono',consolas,'Courier New',monospace\">┏━━━━━━━━━━━━━━━━━━━━━━━━━━━━━━━━━┳━━━━━━━━━━━━━━━━━━━━━━━━┳━━━━━━━━━━━━━━━┓\n",
       "┃<span style=\"font-weight: bold\"> Layer (type)                    </span>┃<span style=\"font-weight: bold\"> Output Shape           </span>┃<span style=\"font-weight: bold\">       Param # </span>┃\n",
       "┡━━━━━━━━━━━━━━━━━━━━━━━━━━━━━━━━━╇━━━━━━━━━━━━━━━━━━━━━━━━╇━━━━━━━━━━━━━━━┩\n",
       "│ dense_10 (<span style=\"color: #0087ff; text-decoration-color: #0087ff\">Dense</span>)                │ (<span style=\"color: #00d7ff; text-decoration-color: #00d7ff\">None</span>, <span style=\"color: #00af00; text-decoration-color: #00af00\">12</span>)             │            <span style=\"color: #00af00; text-decoration-color: #00af00\">72</span> │\n",
       "├─────────────────────────────────┼────────────────────────┼───────────────┤\n",
       "│ dropout_4 (<span style=\"color: #0087ff; text-decoration-color: #0087ff\">Dropout</span>)             │ (<span style=\"color: #00d7ff; text-decoration-color: #00d7ff\">None</span>, <span style=\"color: #00af00; text-decoration-color: #00af00\">12</span>)             │             <span style=\"color: #00af00; text-decoration-color: #00af00\">0</span> │\n",
       "├─────────────────────────────────┼────────────────────────┼───────────────┤\n",
       "│ dense_11 (<span style=\"color: #0087ff; text-decoration-color: #0087ff\">Dense</span>)                │ (<span style=\"color: #00d7ff; text-decoration-color: #00d7ff\">None</span>, <span style=\"color: #00af00; text-decoration-color: #00af00\">8</span>)              │           <span style=\"color: #00af00; text-decoration-color: #00af00\">104</span> │\n",
       "├─────────────────────────────────┼────────────────────────┼───────────────┤\n",
       "│ dropout_5 (<span style=\"color: #0087ff; text-decoration-color: #0087ff\">Dropout</span>)             │ (<span style=\"color: #00d7ff; text-decoration-color: #00d7ff\">None</span>, <span style=\"color: #00af00; text-decoration-color: #00af00\">8</span>)              │             <span style=\"color: #00af00; text-decoration-color: #00af00\">0</span> │\n",
       "├─────────────────────────────────┼────────────────────────┼───────────────┤\n",
       "│ dense_12 (<span style=\"color: #0087ff; text-decoration-color: #0087ff\">Dense</span>)                │ (<span style=\"color: #00d7ff; text-decoration-color: #00d7ff\">None</span>, <span style=\"color: #00af00; text-decoration-color: #00af00\">4</span>)              │            <span style=\"color: #00af00; text-decoration-color: #00af00\">36</span> │\n",
       "└─────────────────────────────────┴────────────────────────┴───────────────┘\n",
       "</pre>\n"
      ],
      "text/plain": [
       "┏━━━━━━━━━━━━━━━━━━━━━━━━━━━━━━━━━┳━━━━━━━━━━━━━━━━━━━━━━━━┳━━━━━━━━━━━━━━━┓\n",
       "┃\u001b[1m \u001b[0m\u001b[1mLayer (type)                   \u001b[0m\u001b[1m \u001b[0m┃\u001b[1m \u001b[0m\u001b[1mOutput Shape          \u001b[0m\u001b[1m \u001b[0m┃\u001b[1m \u001b[0m\u001b[1m      Param #\u001b[0m\u001b[1m \u001b[0m┃\n",
       "┡━━━━━━━━━━━━━━━━━━━━━━━━━━━━━━━━━╇━━━━━━━━━━━━━━━━━━━━━━━━╇━━━━━━━━━━━━━━━┩\n",
       "│ dense_10 (\u001b[38;5;33mDense\u001b[0m)                │ (\u001b[38;5;45mNone\u001b[0m, \u001b[38;5;34m12\u001b[0m)             │            \u001b[38;5;34m72\u001b[0m │\n",
       "├─────────────────────────────────┼────────────────────────┼───────────────┤\n",
       "│ dropout_4 (\u001b[38;5;33mDropout\u001b[0m)             │ (\u001b[38;5;45mNone\u001b[0m, \u001b[38;5;34m12\u001b[0m)             │             \u001b[38;5;34m0\u001b[0m │\n",
       "├─────────────────────────────────┼────────────────────────┼───────────────┤\n",
       "│ dense_11 (\u001b[38;5;33mDense\u001b[0m)                │ (\u001b[38;5;45mNone\u001b[0m, \u001b[38;5;34m8\u001b[0m)              │           \u001b[38;5;34m104\u001b[0m │\n",
       "├─────────────────────────────────┼────────────────────────┼───────────────┤\n",
       "│ dropout_5 (\u001b[38;5;33mDropout\u001b[0m)             │ (\u001b[38;5;45mNone\u001b[0m, \u001b[38;5;34m8\u001b[0m)              │             \u001b[38;5;34m0\u001b[0m │\n",
       "├─────────────────────────────────┼────────────────────────┼───────────────┤\n",
       "│ dense_12 (\u001b[38;5;33mDense\u001b[0m)                │ (\u001b[38;5;45mNone\u001b[0m, \u001b[38;5;34m4\u001b[0m)              │            \u001b[38;5;34m36\u001b[0m │\n",
       "└─────────────────────────────────┴────────────────────────┴───────────────┘\n"
      ]
     },
     "metadata": {},
     "output_type": "display_data"
    },
    {
     "data": {
      "text/html": [
       "<pre style=\"white-space:pre;overflow-x:auto;line-height:normal;font-family:Menlo,'DejaVu Sans Mono',consolas,'Courier New',monospace\"><span style=\"font-weight: bold\"> Total params: </span><span style=\"color: #00af00; text-decoration-color: #00af00\">638</span> (2.50 KB)\n",
       "</pre>\n"
      ],
      "text/plain": [
       "\u001b[1m Total params: \u001b[0m\u001b[38;5;34m638\u001b[0m (2.50 KB)\n"
      ]
     },
     "metadata": {},
     "output_type": "display_data"
    },
    {
     "data": {
      "text/html": [
       "<pre style=\"white-space:pre;overflow-x:auto;line-height:normal;font-family:Menlo,'DejaVu Sans Mono',consolas,'Courier New',monospace\"><span style=\"font-weight: bold\"> Trainable params: </span><span style=\"color: #00af00; text-decoration-color: #00af00\">212</span> (848.00 B)\n",
       "</pre>\n"
      ],
      "text/plain": [
       "\u001b[1m Trainable params: \u001b[0m\u001b[38;5;34m212\u001b[0m (848.00 B)\n"
      ]
     },
     "metadata": {},
     "output_type": "display_data"
    },
    {
     "data": {
      "text/html": [
       "<pre style=\"white-space:pre;overflow-x:auto;line-height:normal;font-family:Menlo,'DejaVu Sans Mono',consolas,'Courier New',monospace\"><span style=\"font-weight: bold\"> Non-trainable params: </span><span style=\"color: #00af00; text-decoration-color: #00af00\">0</span> (0.00 B)\n",
       "</pre>\n"
      ],
      "text/plain": [
       "\u001b[1m Non-trainable params: \u001b[0m\u001b[38;5;34m0\u001b[0m (0.00 B)\n"
      ]
     },
     "metadata": {},
     "output_type": "display_data"
    },
    {
     "data": {
      "text/html": [
       "<pre style=\"white-space:pre;overflow-x:auto;line-height:normal;font-family:Menlo,'DejaVu Sans Mono',consolas,'Courier New',monospace\"><span style=\"font-weight: bold\"> Optimizer params: </span><span style=\"color: #00af00; text-decoration-color: #00af00\">426</span> (1.67 KB)\n",
       "</pre>\n"
      ],
      "text/plain": [
       "\u001b[1m Optimizer params: \u001b[0m\u001b[38;5;34m426\u001b[0m (1.67 KB)\n"
      ]
     },
     "metadata": {},
     "output_type": "display_data"
    }
   ],
   "source": [
    "# Train the model with different learning rates\n",
    "learning_rates = [1e-2, 1e-3, 1e-4, 1e-5]\n",
    "histories_v2, best_val_losses_v2, best_model_v2 = train_model_v2(learning_rates)\n",
    "best_model_v2.summary()"
   ]
  },
  {
   "cell_type": "code",
   "execution_count": 82,
   "id": "e6d6b9b9-ebc7-4ae3-8dce-b24208c5c056",
   "metadata": {
    "execution": {
     "iopub.execute_input": "2024-06-19T11:46:22.486834Z",
     "iopub.status.busy": "2024-06-19T11:46:22.486479Z",
     "iopub.status.idle": "2024-06-19T11:46:23.505632Z",
     "shell.execute_reply": "2024-06-19T11:46:23.504558Z",
     "shell.execute_reply.started": "2024-06-19T11:46:22.486807Z"
    }
   },
   "outputs": [
    {
     "name": "stdout",
     "output_type": "stream",
     "text": [
      "\u001b[1m531/531\u001b[0m \u001b[32m━━━━━━━━━━━━━━━━━━━━\u001b[0m\u001b[37m\u001b[0m \u001b[1m1s\u001b[0m 2ms/step - accuracy: 0.5216 - loss: 1.0415\n",
      "compile_metrics: 51.67%\n"
     ]
    }
   ],
   "source": [
    "# get validation accuracy\n",
    "scores = best_model_v2.evaluate(X_test, y_test_encoded, verbose=1)\n",
    "print(\"%s: %.2f%%\" % (best_model_v2.metrics_names[1], scores[1]*100))"
   ]
  },
  {
   "cell_type": "code",
   "execution_count": 83,
   "id": "aafdcedb-fa8f-48c3-9d9f-817ed0ad2a48",
   "metadata": {
    "execution": {
     "iopub.execute_input": "2024-06-19T11:46:24.302448Z",
     "iopub.status.busy": "2024-06-19T11:46:24.301413Z",
     "iopub.status.idle": "2024-06-19T11:46:25.346439Z",
     "shell.execute_reply": "2024-06-19T11:46:25.345542Z",
     "shell.execute_reply.started": "2024-06-19T11:46:24.302410Z"
    }
   },
   "outputs": [
    {
     "name": "stdout",
     "output_type": "stream",
     "text": [
      "\u001b[1m531/531\u001b[0m \u001b[32m━━━━━━━━━━━━━━━━━━━━\u001b[0m\u001b[37m\u001b[0m \u001b[1m1s\u001b[0m 982us/step\n",
      "              precision    recall  f1-score   support\n",
      "\n",
      "           0       0.46      0.43      0.44      4609\n",
      "           1       0.61      0.15      0.24      3572\n",
      "           2       0.38      0.80      0.51      4051\n",
      "           3       0.95      0.64      0.76      4757\n",
      "\n",
      "    accuracy                           0.52     16989\n",
      "   macro avg       0.60      0.50      0.49     16989\n",
      "weighted avg       0.61      0.52      0.51     16989\n",
      "\n"
     ]
    }
   ],
   "source": [
    "# make predictions\n",
    "y_pred = best_model_v2.predict(X_test)\n",
    "y_pred_classes = np.argmax(y_pred, axis=1)  # Convert softmax outputs to class labels\n",
    "\n",
    "# If y_test is one-hot encoded, convert it to class labels\n",
    "y_test_classes = np.argmax(y_test_encoded, axis=1)\n",
    "\n",
    "# Print classification report\n",
    "print(classification_report(y_test_classes, y_pred_classes))"
   ]
  },
  {
   "cell_type": "code",
   "execution_count": 84,
   "id": "dad055b7-7225-44d3-bbd8-71737e83eaae",
   "metadata": {
    "execution": {
     "iopub.execute_input": "2024-06-19T11:46:25.869350Z",
     "iopub.status.busy": "2024-06-19T11:46:25.868030Z",
     "iopub.status.idle": "2024-06-19T11:46:26.145055Z",
     "shell.execute_reply": "2024-06-19T11:46:26.144382Z",
     "shell.execute_reply.started": "2024-06-19T11:46:25.869317Z"
    }
   },
   "outputs": [
    {
     "data": {
      "text/plain": [
       "Text(0.5, 1.0, 'Validation loss curves')"
      ]
     },
     "execution_count": 84,
     "metadata": {},
     "output_type": "execute_result"
    },
    {
     "data": {
      "image/png": "[encoded data removed]",
      "text/plain": [
       "<Figure size 640x480 with 1 Axes>"
      ]
     },
     "metadata": {},
     "output_type": "display_data"
    }
   ],
   "source": [
    "# plot the validation loss curves for each learning rate\n",
    "for h in histories_v2:\n",
    "    plt.plot(h.history['val_loss'])\n",
    "plt.legend(learning_rates)\n",
    "plt.xlabel('Epoch')\n",
    "plt.ylabel('Validation loss')\n",
    "plt.title('Validation loss curves')"
   ]
  },
  {
   "cell_type": "code",
   "execution_count": 81,
   "id": "2bbae03a-a8fe-45f8-9666-2d224bd60d09",
   "metadata": {
    "execution": {
     "iopub.execute_input": "2024-06-19T11:26:00.466641Z",
     "iopub.status.busy": "2024-06-19T11:26:00.466411Z",
     "iopub.status.idle": "2024-06-19T11:26:00.746162Z",
     "shell.execute_reply": "2024-06-19T11:26:00.744932Z",
     "shell.execute_reply.started": "2024-06-19T11:26:00.466620Z"
    }
   },
   "outputs": [
    {
     "data": {
      "text/plain": [
       "Text(0.5, 1.0, 'Validation accuracy curves')"
      ]
     },
     "execution_count": 81,
     "metadata": {},
     "output_type": "execute_result"
    },
    {
     "data": {
      "image/png": "[encoded data removed]",
      "text/plain": [
       "<Figure size 640x480 with 1 Axes>"
      ]
     },
     "metadata": {},
     "output_type": "display_data"
    }
   ],
   "source": [
    "# plot the validation accuracy curves for each learning rate\n",
    "for h in histories_v2:\n",
    "    plt.plot(h.history['val_accuracy'])\n",
    "plt.legend(learning_rates)\n",
    "plt.xlabel('Epoch')\n",
    "plt.ylabel('Validation accuracy')\n",
    "plt.title('Validation accuracy curves')"
   ]
  },
  {
   "cell_type": "markdown",
   "id": "d15582dc",
   "metadata": {},
   "source": [
    "### Comparison with classical models"
   ]
  },
  {
   "cell_type": "markdown",
   "id": "719cf425-0d65-436d-aee0-32e155998280",
   "metadata": {
    "execution": {
     "iopub.execute_input": "2024-06-19T12:47:01.797991Z",
     "iopub.status.busy": "2024-06-19T12:47:01.797643Z",
     "iopub.status.idle": "2024-06-19T12:47:01.803696Z",
     "shell.execute_reply": "2024-06-19T12:47:01.802723Z",
     "shell.execute_reply.started": "2024-06-19T12:47:01.797964Z"
    }
   },
   "source": [
    "The second model performs slightly better, and features smoother curves, which likely means that the model overfits less. However, it still performs worse than the classical models and is much more resource-intensive, which means we will not be using it in our application."
   ]
  }
 ],
 "metadata": {
  "kernelspec": {
   "display_name": "Poetry Environment",
   "language": "python",
   "name": "poetryenvironment"
  },
  "language_info": {
   "codemirror_mode": {
    "name": "ipython",
    "version": 3
   },
   "file_extension": ".py",
   "mimetype": "text/x-python",
   "name": "python",
   "nbconvert_exporter": "python",
   "pygments_lexer": "ipython3",
   "version": "3.11.0rc1"
  }
 },
 "nbformat": 4,
 "nbformat_minor": 5
}
