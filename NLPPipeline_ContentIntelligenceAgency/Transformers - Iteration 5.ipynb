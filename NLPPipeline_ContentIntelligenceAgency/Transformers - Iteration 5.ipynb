{
 "cells": [
  {
   "cell_type": "markdown",
   "metadata": {},
   "source": [
    "## Task 5 (Transformers)"
   ]
  },
  {
   "cell_type": "code",
   "execution_count": 1,
   "metadata": {
    "scrolled": true
   },
   "outputs": [
    {
     "name": "stderr",
     "output_type": "stream",
     "text": [
      "2025-04-10 20:16:02.194916: I tensorflow/core/util/port.cc:153] oneDNN custom operations are on. You may see slightly different numerical results due to floating-point round-off errors from different computation orders. To turn them off, set the environment variable `TF_ENABLE_ONEDNN_OPTS=0`.\n",
      "2025-04-10 20:16:02.209353: E external/local_xla/xla/stream_executor/cuda/cuda_fft.cc:467] Unable to register cuFFT factory: Attempting to register factory for plugin cuFFT when one has already been registered\n",
      "WARNING: All log messages before absl::InitializeLog() is called are written to STDERR\n",
      "E0000 00:00:1744316162.224258    1123 cuda_dnn.cc:8579] Unable to register cuDNN factory: Attempting to register factory for plugin cuDNN when one has already been registered\n",
      "E0000 00:00:1744316162.228832    1123 cuda_blas.cc:1407] Unable to register cuBLAS factory: Attempting to register factory for plugin cuBLAS when one has already been registered\n",
      "W0000 00:00:1744316162.242042    1123 computation_placer.cc:177] computation placer already registered. Please check linkage and avoid linking the same target more than once.\n",
      "W0000 00:00:1744316162.242057    1123 computation_placer.cc:177] computation placer already registered. Please check linkage and avoid linking the same target more than once.\n",
      "W0000 00:00:1744316162.242059    1123 computation_placer.cc:177] computation placer already registered. Please check linkage and avoid linking the same target more than once.\n",
      "W0000 00:00:1744316162.242060    1123 computation_placer.cc:177] computation placer already registered. Please check linkage and avoid linking the same target more than once.\n",
      "2025-04-10 20:16:02.246639: I tensorflow/core/platform/cpu_feature_guard.cc:210] This TensorFlow binary is optimized to use available CPU instructions in performance-critical operations.\n",
      "To enable the following instructions: AVX2 AVX512F AVX512_VNNI AVX512_BF16 FMA, in other operations, rebuild TensorFlow with the appropriate compiler flags.\n",
      "INFO: PyTorch version 2.6.0 available.\n",
      "INFO: TensorFlow version 2.19.0 available.\n"
     ]
    }
   ],
   "source": [
    "import torch\n",
    "import pandas as pd\n",
    "from IPython.display import display\n",
    "from sklearn.model_selection import train_test_split\n",
    "from torch.utils.data import Dataset, DataLoader\n",
    "from transformers import BertTokenizer, BertForSequenceClassification, Trainer, TrainingArguments\n",
    "from tqdm import tqdm"
   ]
  },
  {
   "cell_type": "markdown",
   "metadata": {},
   "source": [
    "### 1. Load dataset"
   ]
  },
  {
   "cell_type": "code",
   "execution_count": 2,
   "metadata": {
    "scrolled": true
   },
   "outputs": [
    {
     "data": {
      "text/html": [
       "<div>\n",
       "<style scoped>\n",
       "    .dataframe tbody tr th:only-of-type {\n",
       "        vertical-align: middle;\n",
       "    }\n",
       "\n",
       "    .dataframe tbody tr th {\n",
       "        vertical-align: top;\n",
       "    }\n",
       "\n",
       "    .dataframe thead th {\n",
       "        text-align: right;\n",
       "    }\n",
       "</style>\n",
       "<table border=\"1\" class=\"dataframe\">\n",
       "  <thead>\n",
       "    <tr style=\"text-align: right;\">\n",
       "      <th></th>\n",
       "      <th>Sentence</th>\n",
       "      <th>Emotion</th>\n",
       "    </tr>\n",
       "  </thead>\n",
       "  <tbody>\n",
       "    <tr>\n",
       "      <th>0</th>\n",
       "      <td>Ce que vous ne comprenez pas, c ' est, pour no...</td>\n",
       "      <td>happiness</td>\n",
       "    </tr>\n",
       "    <tr>\n",
       "      <th>1</th>\n",
       "      <td>Ouais, c ' est vrai!....... Y ' Serious?</td>\n",
       "      <td>neutral</td>\n",
       "    </tr>\n",
       "    <tr>\n",
       "      <th>2</th>\n",
       "      <td>Oh ouais!</td>\n",
       "      <td>happiness</td>\n",
       "    </tr>\n",
       "    <tr>\n",
       "      <th>3</th>\n",
       "      <td>Tout ce que vous devez savoir est dans ce prem...</td>\n",
       "      <td>happiness</td>\n",
       "    </tr>\n",
       "    <tr>\n",
       "      <th>4</th>\n",
       "      <td>Absolument.</td>\n",
       "      <td>happiness</td>\n",
       "    </tr>\n",
       "    <tr>\n",
       "      <th>...</th>\n",
       "      <td>...</td>\n",
       "      <td>...</td>\n",
       "    </tr>\n",
       "    <tr>\n",
       "      <th>105843</th>\n",
       "      <td>Malheureusement, je n ' ai Pa d ' assurance, a...</td>\n",
       "      <td>fear</td>\n",
       "    </tr>\n",
       "    <tr>\n",
       "      <th>105844</th>\n",
       "      <td>Ma famille ne s ' en assez jamais souciait, j ...</td>\n",
       "      <td>fear</td>\n",
       "    </tr>\n",
       "    <tr>\n",
       "      <th>105845</th>\n",
       "      <td>mommy Ma famille ne s ' en souciait jamais ass...</td>\n",
       "      <td>fear</td>\n",
       "    </tr>\n",
       "    <tr>\n",
       "      <th>105846</th>\n",
       "      <td>J ' ai fait choses dans la vraie vie et je jam...</td>\n",
       "      <td>fear</td>\n",
       "    </tr>\n",
       "    <tr>\n",
       "      <th>105847</th>\n",
       "      <td>J ' ai fait ces choses dans Louisiana vraie co...</td>\n",
       "      <td>fear</td>\n",
       "    </tr>\n",
       "  </tbody>\n",
       "</table>\n",
       "<p>105848 rows × 2 columns</p>\n",
       "</div>"
      ],
      "text/plain": [
       "                                                 Sentence    Emotion\n",
       "0       Ce que vous ne comprenez pas, c ' est, pour no...  happiness\n",
       "1                Ouais, c ' est vrai!....... Y ' Serious?    neutral\n",
       "2                                               Oh ouais!  happiness\n",
       "3       Tout ce que vous devez savoir est dans ce prem...  happiness\n",
       "4                                             Absolument.  happiness\n",
       "...                                                   ...        ...\n",
       "105843  Malheureusement, je n ' ai Pa d ' assurance, a...       fear\n",
       "105844  Ma famille ne s ' en assez jamais souciait, j ...       fear\n",
       "105845  mommy Ma famille ne s ' en souciait jamais ass...       fear\n",
       "105846  J ' ai fait choses dans la vraie vie et je jam...       fear\n",
       "105847  J ' ai fait ces choses dans Louisiana vraie co...       fear\n",
       "\n",
       "[105848 rows x 2 columns]"
      ]
     },
     "metadata": {},
     "output_type": "display_data"
    }
   ],
   "source": [
    "# Load the dataset with extracted features\n",
    "features = \"../Task 4/balanced_classes_dataset.csv\"\n",
    "df1 = pd.read_csv(features)\n",
    "\n",
    "# Display dataset structure in table format\n",
    "display(df1)"
   ]
  },
  {
   "cell_type": "code",
   "execution_count": 6,
   "metadata": {},
   "outputs": [
    {
     "data": {
      "text/plain": [
       "Emotion\n",
       "happiness    24583\n",
       "sadness      21191\n",
       "neutral      18403\n",
       "anger        14834\n",
       "disgust      10755\n",
       "surprise     10556\n",
       "fear          5526\n",
       "Name: count, dtype: int64"
      ]
     },
     "execution_count": 6,
     "metadata": {},
     "output_type": "execute_result"
    }
   ],
   "source": [
    "df1['Emotion'].value_counts()"
   ]
  },
  {
   "cell_type": "code",
   "execution_count": 7,
   "metadata": {},
   "outputs": [
    {
     "name": "stdout",
     "output_type": "stream",
     "text": [
      "Processing happiness class with 24583 samples...\n",
      "Sampling happiness class down to 5000 samples...\n",
      "Processing sadness class with 21191 samples...\n",
      "Sampling sadness class down to 5000 samples...\n",
      "Processing neutral class with 18403 samples...\n",
      "Sampling neutral class down to 5000 samples...\n",
      "Processing anger class with 14834 samples...\n",
      "Sampling anger class down to 5000 samples...\n",
      "Processing disgust class with 10755 samples...\n",
      "Sampling disgust class down to 5000 samples...\n",
      "Processing surprise class with 10556 samples...\n",
      "Sampling surprise class down to 5000 samples...\n",
      "Processing fear class with 5526 samples...\n",
      "After Augmentation and Sampling:\n",
      " Emotion\n",
      "anger        5000\n",
      "disgust      5000\n",
      "fear         5000\n",
      "happiness    5000\n",
      "neutral      5000\n",
      "sadness      5000\n",
      "surprise     5000\n",
      "Name: count, dtype: int64\n"
     ]
    }
   ],
   "source": [
    "import pandas as pd\n",
    "from tqdm import tqdm\n",
    "import nlpaug.augmenter.word as naw\n",
    "\n",
    "# Assuming your second dataset (d1) is already loaded as df1\n",
    "tqdm.pandas()\n",
    "\n",
    "# Initialize French contextual augmenter (CamemBERT)\n",
    "aug = naw.ContextualWordEmbsAug(\n",
    "    model_path='camembert-base',\n",
    "    action=\"substitute\",\n",
    "    device='cuda'  # Use 'cpu' if no GPU\n",
    ")\n",
    "\n",
    "# Set desired target for class size\n",
    "TARGET_SIZE = 5000\n",
    "\n",
    "# Initialize a list to hold augmented sentences\n",
    "augmented_sentences = []\n",
    "augmented_labels = []\n",
    "\n",
    "# Iterate over each class and augment or sample\n",
    "for emotion, count in df1['Emotion'].value_counts().items():\n",
    "    print(f\"Processing {emotion} class with {count} samples...\")\n",
    "\n",
    "    # Subset the data for the current emotion\n",
    "    subset = df1[df1[\"Emotion\"] == emotion]\n",
    "\n",
    "    # If the class is 'fear', leave it untouched\n",
    "    if emotion == 'fear':\n",
    "        augmented_sentences.extend(subset[\"Sentence\"].tolist())\n",
    "        augmented_labels.extend([emotion] * len(subset))\n",
    "\n",
    "    # If the class size is greater than TARGET_SIZE, sample down to TARGET_SIZE\n",
    "    elif count > TARGET_SIZE:\n",
    "        print(f\"Sampling {emotion} class down to {TARGET_SIZE} samples...\")\n",
    "        augmented_sentences.extend(subset.sample(n=TARGET_SIZE, replace=False)[\"Sentence\"].tolist())\n",
    "        augmented_labels.extend([emotion] * TARGET_SIZE)\n",
    "\n",
    "    # If the class size is less than TARGET_SIZE, augment it\n",
    "    else:\n",
    "        print(f\"Augmenting {emotion} class...\")\n",
    "        augmented = subset[\"Sentence\"].progress_apply(lambda x: aug.augment(x, n=2)[0]).tolist()\n",
    "        \n",
    "        # Collect augmented sentences and labels\n",
    "        augmented_sentences.extend(augmented)\n",
    "        augmented_labels.extend([emotion] * len(augmented))\n",
    "\n",
    "# Create a DataFrame for the augmented data\n",
    "augmented_df = pd.DataFrame({\"Sentence\": augmented_sentences, \"Emotion\": augmented_labels})\n",
    "\n",
    "# Check the new class distribution\n",
    "df_final = augmented_df.groupby(\"Emotion\").apply(\n",
    "    lambda x: x.sample(n=TARGET_SIZE, replace=False) if len(x) > TARGET_SIZE else x\n",
    ").reset_index(drop=True)\n",
    "\n",
    "print(\"After Augmentation and Sampling:\\n\", df_final[\"Emotion\"].value_counts())"
   ]
  },
  {
   "cell_type": "code",
   "execution_count": 8,
   "metadata": {},
   "outputs": [],
   "source": [
    "df1=df_final"
   ]
  },
  {
   "cell_type": "code",
   "execution_count": 9,
   "metadata": {},
   "outputs": [
    {
     "data": {
      "text/html": [
       "<div>\n",
       "<style scoped>\n",
       "    .dataframe tbody tr th:only-of-type {\n",
       "        vertical-align: middle;\n",
       "    }\n",
       "\n",
       "    .dataframe tbody tr th {\n",
       "        vertical-align: top;\n",
       "    }\n",
       "\n",
       "    .dataframe thead th {\n",
       "        text-align: right;\n",
       "    }\n",
       "</style>\n",
       "<table border=\"1\" class=\"dataframe\">\n",
       "  <thead>\n",
       "    <tr style=\"text-align: right;\">\n",
       "      <th></th>\n",
       "      <th>Start Time</th>\n",
       "      <th>End Time</th>\n",
       "      <th>Sentence</th>\n",
       "      <th>Corrected Sentence</th>\n",
       "      <th>Translation</th>\n",
       "      <th>Emotion</th>\n",
       "      <th>Intensity</th>\n",
       "    </tr>\n",
       "  </thead>\n",
       "  <tbody>\n",
       "    <tr>\n",
       "      <th>0</th>\n",
       "      <td>00:00:00,000</td>\n",
       "      <td>00:00:05,000</td>\n",
       "      <td>Après l'Asie, l'Afrique, les Etats-Unis et l'A...</td>\n",
       "      <td>Après l'Asie, l'Afrique, les Etats-Unis et l'A...</td>\n",
       "      <td>After Asia, Africa, the United States and Lati...</td>\n",
       "      <td>neutral</td>\n",
       "      <td>neutral</td>\n",
       "    </tr>\n",
       "    <tr>\n",
       "      <th>1</th>\n",
       "      <td>00:00:05,000</td>\n",
       "      <td>00:00:08,000</td>\n",
       "      <td>les Mercedes s'envolent à plus de 16 000 kilom...</td>\n",
       "      <td>les Mercedes s'envolent à plus de 16 000 kilom...</td>\n",
       "      <td>The Mercedes fly over 16,000 kilometers from t...</td>\n",
       "      <td>neutral</td>\n",
       "      <td>neutral</td>\n",
       "    </tr>\n",
       "    <tr>\n",
       "      <th>2</th>\n",
       "      <td>00:00:08,000</td>\n",
       "      <td>00:00:10,000</td>\n",
       "      <td>et posent leur valise en Australie.</td>\n",
       "      <td>et posent leur valise en Australie.</td>\n",
       "      <td>And put their suitcase in Australia.</td>\n",
       "      <td>neutral</td>\n",
       "      <td>neutral</td>\n",
       "    </tr>\n",
       "    <tr>\n",
       "      <th>3</th>\n",
       "      <td>00:00:18,000</td>\n",
       "      <td>00:00:20,000</td>\n",
       "      <td>Ensemble, ils relèvent le défi de s'imposer en...</td>\n",
       "      <td>Ensemble, ils relèvent le défi de s'imposer en...</td>\n",
       "      <td>Together, they take up the challenge of winnin...</td>\n",
       "      <td>excitement</td>\n",
       "      <td>moderate</td>\n",
       "    </tr>\n",
       "    <tr>\n",
       "      <th>4</th>\n",
       "      <td>00:00:20,000</td>\n",
       "      <td>00:00:22,000</td>\n",
       "      <td>et de découvrir ce pays aussi magnifique</td>\n",
       "      <td>et de découvrir ce pays aussi magnifique</td>\n",
       "      <td>And to discover this magnificent country</td>\n",
       "      <td>curiosity</td>\n",
       "      <td>mild</td>\n",
       "    </tr>\n",
       "    <tr>\n",
       "      <th>...</th>\n",
       "      <td>...</td>\n",
       "      <td>...</td>\n",
       "      <td>...</td>\n",
       "      <td>...</td>\n",
       "      <td>...</td>\n",
       "      <td>...</td>\n",
       "      <td>...</td>\n",
       "    </tr>\n",
       "    <tr>\n",
       "      <th>1227</th>\n",
       "      <td>00:39:38,000</td>\n",
       "      <td>00:39:39,000</td>\n",
       "      <td>You're fier de hacer de mi</td>\n",
       "      <td>You're fier de hacer de mi</td>\n",
       "      <td>You're fier to make me</td>\n",
       "      <td>pride</td>\n",
       "      <td>mild</td>\n",
       "    </tr>\n",
       "    <tr>\n",
       "      <th>1228</th>\n",
       "      <td>00:39:39,000</td>\n",
       "      <td>00:39:40,000</td>\n",
       "      <td>If you leave me, my baby</td>\n",
       "      <td>If you leave me, my baby</td>\n",
       "      <td>If you leave me, my baby</td>\n",
       "      <td>fear</td>\n",
       "      <td>moderate</td>\n",
       "    </tr>\n",
       "    <tr>\n",
       "      <th>1229</th>\n",
       "      <td>00:39:40,000</td>\n",
       "      <td>00:39:41,000</td>\n",
       "      <td>I need you, my cone</td>\n",
       "      <td>I need you, my cone</td>\n",
       "      <td>I need you, my cone</td>\n",
       "      <td>desire</td>\n",
       "      <td>mild</td>\n",
       "    </tr>\n",
       "    <tr>\n",
       "      <th>1230</th>\n",
       "      <td>00:39:41,000</td>\n",
       "      <td>00:39:42,000</td>\n",
       "      <td>No te voyas</td>\n",
       "      <td>No te voyas</td>\n",
       "      <td>Don't go</td>\n",
       "      <td>sadness</td>\n",
       "      <td>moderate</td>\n",
       "    </tr>\n",
       "    <tr>\n",
       "      <th>1231</th>\n",
       "      <td>00:39:42,000</td>\n",
       "      <td>00:39:44,000</td>\n",
       "      <td>Marseillais !</td>\n",
       "      <td>Marseillais !</td>\n",
       "      <td>Marseillais!</td>\n",
       "      <td>pride</td>\n",
       "      <td>mild</td>\n",
       "    </tr>\n",
       "  </tbody>\n",
       "</table>\n",
       "<p>1232 rows × 7 columns</p>\n",
       "</div>"
      ],
      "text/plain": [
       "        Start Time      End Time  \\\n",
       "0     00:00:00,000  00:00:05,000   \n",
       "1     00:00:05,000  00:00:08,000   \n",
       "2     00:00:08,000  00:00:10,000   \n",
       "3     00:00:18,000  00:00:20,000   \n",
       "4     00:00:20,000  00:00:22,000   \n",
       "...            ...           ...   \n",
       "1227  00:39:38,000  00:39:39,000   \n",
       "1228  00:39:39,000  00:39:40,000   \n",
       "1229  00:39:40,000  00:39:41,000   \n",
       "1230  00:39:41,000  00:39:42,000   \n",
       "1231  00:39:42,000  00:39:44,000   \n",
       "\n",
       "                                               Sentence  \\\n",
       "0     Après l'Asie, l'Afrique, les Etats-Unis et l'A...   \n",
       "1     les Mercedes s'envolent à plus de 16 000 kilom...   \n",
       "2                   et posent leur valise en Australie.   \n",
       "3     Ensemble, ils relèvent le défi de s'imposer en...   \n",
       "4              et de découvrir ce pays aussi magnifique   \n",
       "...                                                 ...   \n",
       "1227                         You're fier de hacer de mi   \n",
       "1228                           If you leave me, my baby   \n",
       "1229                                I need you, my cone   \n",
       "1230                                        No te voyas   \n",
       "1231                                      Marseillais !   \n",
       "\n",
       "                                     Corrected Sentence  \\\n",
       "0     Après l'Asie, l'Afrique, les Etats-Unis et l'A...   \n",
       "1     les Mercedes s'envolent à plus de 16 000 kilom...   \n",
       "2                   et posent leur valise en Australie.   \n",
       "3     Ensemble, ils relèvent le défi de s'imposer en...   \n",
       "4              et de découvrir ce pays aussi magnifique   \n",
       "...                                                 ...   \n",
       "1227                         You're fier de hacer de mi   \n",
       "1228                           If you leave me, my baby   \n",
       "1229                                I need you, my cone   \n",
       "1230                                        No te voyas   \n",
       "1231                                      Marseillais !   \n",
       "\n",
       "                                            Translation     Emotion Intensity  \n",
       "0     After Asia, Africa, the United States and Lati...     neutral   neutral  \n",
       "1     The Mercedes fly over 16,000 kilometers from t...     neutral   neutral  \n",
       "2                  And put their suitcase in Australia.     neutral   neutral  \n",
       "3     Together, they take up the challenge of winnin...  excitement  moderate  \n",
       "4              And to discover this magnificent country   curiosity      mild  \n",
       "...                                                 ...         ...       ...  \n",
       "1227                             You're fier to make me       pride      mild  \n",
       "1228                           If you leave me, my baby        fear  moderate  \n",
       "1229                                I need you, my cone      desire      mild  \n",
       "1230                                           Don't go     sadness  moderate  \n",
       "1231                                       Marseillais!       pride      mild  \n",
       "\n",
       "[1232 rows x 7 columns]"
      ]
     },
     "metadata": {},
     "output_type": "display_data"
    }
   ],
   "source": [
    "df2 = pd.read_csv('test_data/group 12_url1.csv')\n",
    "display(df2)"
   ]
  },
  {
   "cell_type": "code",
   "execution_count": 10,
   "metadata": {},
   "outputs": [],
   "source": [
    "df2.drop(columns=['Start Time', 'End Time', 'Sentence', 'Translation', 'Intensity'], inplace=True)"
   ]
  },
  {
   "cell_type": "code",
   "execution_count": 11,
   "metadata": {},
   "outputs": [
    {
     "name": "stdout",
     "output_type": "stream",
     "text": [
      "Processing neutral class with 383 samples...\n",
      "Augmenting neutral class...\n"
     ]
    },
    {
     "name": "stderr",
     "output_type": "stream",
     "text": [
      "100%|██████████| 383/383 [00:10<00:00, 35.25it/s]\n"
     ]
    },
    {
     "name": "stdout",
     "output_type": "stream",
     "text": [
      "Processing happiness class with 254 samples...\n",
      "Augmenting happiness class...\n"
     ]
    },
    {
     "name": "stderr",
     "output_type": "stream",
     "text": [
      "100%|██████████| 254/254 [00:07<00:00, 35.95it/s]\n"
     ]
    },
    {
     "name": "stdout",
     "output_type": "stream",
     "text": [
      "Processing surprise class with 133 samples...\n",
      "Augmenting surprise class...\n"
     ]
    },
    {
     "name": "stderr",
     "output_type": "stream",
     "text": [
      "100%|██████████| 133/133 [00:03<00:00, 36.33it/s]\n"
     ]
    },
    {
     "name": "stdout",
     "output_type": "stream",
     "text": [
      "Processing anger class with 98 samples...\n",
      "Augmenting anger class...\n"
     ]
    },
    {
     "name": "stderr",
     "output_type": "stream",
     "text": [
      "100%|██████████| 98/98 [00:02<00:00, 33.17it/s]\n"
     ]
    },
    {
     "name": "stdout",
     "output_type": "stream",
     "text": [
      "Processing disgust class with 58 samples...\n",
      "Augmenting disgust class...\n"
     ]
    },
    {
     "name": "stderr",
     "output_type": "stream",
     "text": [
      "100%|██████████| 58/58 [00:01<00:00, 30.79it/s]\n"
     ]
    },
    {
     "name": "stdout",
     "output_type": "stream",
     "text": [
      "Processing sadness class with 53 samples...\n",
      "Augmenting sadness class...\n"
     ]
    },
    {
     "name": "stderr",
     "output_type": "stream",
     "text": [
      "100%|██████████| 53/53 [00:01<00:00, 30.70it/s]\n"
     ]
    },
    {
     "name": "stdout",
     "output_type": "stream",
     "text": [
      "Processing fear class with 35 samples...\n",
      "Augmenting fear class...\n"
     ]
    },
    {
     "name": "stderr",
     "output_type": "stream",
     "text": [
      "100%|██████████| 35/35 [00:01<00:00, 30.38it/s]"
     ]
    },
    {
     "name": "stdout",
     "output_type": "stream",
     "text": [
      "After Augmentation:\n",
      " Emotion\n",
      "anger        5000\n",
      "disgust      5000\n",
      "fear         5000\n",
      "happiness    5000\n",
      "neutral      5000\n",
      "sadness      5000\n",
      "surprise     5000\n",
      "Name: count, dtype: int64\n"
     ]
    },
    {
     "name": "stderr",
     "output_type": "stream",
     "text": [
      "\n"
     ]
    }
   ],
   "source": [
    "df2.rename(columns={'Corrected Sentence': 'Sentence'}, inplace=True)\n",
    "\n",
    "# Rename emotions to fit with our labels\n",
    "df2[\"Emotion\"] = df2[\"Emotion\"].str.replace(\"excitement\", \"happiness\")\n",
    "df2[\"Emotion\"] = df2[\"Emotion\"].str.replace(\"confusion\", \"surprise\")\n",
    "df2[\"Emotion\"] = df2[\"Emotion\"].str.replace(\"annoyance\", \"anger\")\n",
    "df2[\"Emotion\"] = df2[\"Emotion\"].str.replace(\"disapproval\", \"disgust\")\n",
    "df2[\"Emotion\"] = df2[\"Emotion\"].str.replace(\"pride\", \"happiness\")\n",
    "df2[\"Emotion\"] = df2[\"Emotion\"].str.replace(\"joy\", \"happiness\")\n",
    "df2[\"Emotion\"] = df2[\"Emotion\"].str.replace(\"disappointment\", \"sadness\")\n",
    "df2[\"Emotion\"] = df2[\"Emotion\"].str.replace(\"optimism\", \"happiness\")\n",
    "df2[\"Emotion\"] = df2[\"Emotion\"].str.replace(\"admiration\", \"happiness\")\n",
    "df2[\"Emotion\"] = df2[\"Emotion\"].str.replace(\"approval\", \"happiness\")\n",
    "df2[\"Emotion\"] = df2[\"Emotion\"].str.replace(\"nervousness\", \"fear\")\n",
    "df2[\"Emotion\"] = df2[\"Emotion\"].str.replace(\"realization\", \"surprise\")\n",
    "df2[\"Emotion\"] = df2[\"Emotion\"].str.replace(\"gratitude\", \"happiness\")\n",
    "df2[\"Emotion\"] = df2[\"Emotion\"].str.replace(\"caring\", \"happiness\")\n",
    "df2[\"Emotion\"] = df2[\"Emotion\"].str.replace(\"love\", \"happiness\")\n",
    "df2[\"Emotion\"] = df2[\"Emotion\"].str.replace(\"remorse\", \"sadness\")\n",
    "df2[\"Emotion\"] = df2[\"Emotion\"].str.replace(\"embarrassment\", \"fear\")\n",
    "df2[\"Emotion\"] = df2[\"Emotion\"].str.replace(\"grief\", \"sadness\")\n",
    "\n",
    "# Remove unecessary rows that add to the 'happiness' class (there are enough samples)\n",
    "df2 = df2[~df2['Emotion'].isin(['curiosity', 'desire', 'relief','amusement'])]\n",
    "\n",
    "\n",
    "import pandas as pd\n",
    "from tqdm import tqdm\n",
    "import nlpaug.augmenter.word as naw\n",
    "\n",
    "# Load your dataset (adjust path and column names if needed)\n",
    "tqdm.pandas()\n",
    "\n",
    "# Initialize French contextual augmenter (CamemBERT)\n",
    "aug = naw.ContextualWordEmbsAug(\n",
    "    model_path='camembert-base',\n",
    "    action=\"substitute\",\n",
    "    device='cuda'\n",
    ")\n",
    "\n",
    "# Set desired target for class size\n",
    "TARGET_SIZE = 5000\n",
    "\n",
    "# Initialize a list to hold augmented sentences\n",
    "augmented_sentences = []\n",
    "augmented_labels = []\n",
    "\n",
    "# Iterate over each class and augment\n",
    "for emotion, count in df2['Emotion'].value_counts().items():\n",
    "    print(f\"Processing {emotion} class with {count} samples...\")\n",
    "\n",
    "    # Subset the data for the current emotion\n",
    "    subset = df2[df2[\"Emotion\"] == emotion]\n",
    "\n",
    "    # If class size is less than the target, augment it\n",
    "    if count < TARGET_SIZE:\n",
    "        print(f\"Augmenting {emotion} class...\")\n",
    "        # Augment each sentence in the subset\n",
    "        augmented = subset[\"Sentence\"].progress_apply(lambda x: aug.augment(x, n=2)[0]).tolist()\n",
    "        \n",
    "        # Collect augmented sentences and labels\n",
    "        augmented_sentences.extend(augmented)\n",
    "        augmented_labels.extend([emotion] * len(augmented))\n",
    "\n",
    "    # If the class is already above the target size, just take the original samples\n",
    "    else:\n",
    "        augmented_sentences.extend(subset[\"Sentence\"].tolist())\n",
    "        augmented_labels.extend([emotion] * len(subset))\n",
    "\n",
    "# Create a DataFrame for the augmented data\n",
    "augmented_df = pd.DataFrame({\"Sentence\": augmented_sentences, \"Emotion\": augmented_labels})\n",
    "\n",
    "# If there are still more than 5000 examples for a class, randomly sample to get exactly 5000\n",
    "df_final = augmented_df.groupby(\"Emotion\").apply(\n",
    "    lambda x: x.sample(n=TARGET_SIZE, replace=True) if len(x) < TARGET_SIZE else x.sample(n=TARGET_SIZE, replace=False)\n",
    ").reset_index(drop=True)\n",
    "\n",
    "# Check the new class distribution\n",
    "print(\"After Augmentation:\\n\", df_final[\"Emotion\"].value_counts())\n",
    "\n",
    "df2 = pd.concat([df2, df_final], ignore_index=True)\n",
    "df = pd.concat([df1,df2], ignore_index=True)\n",
    "\n",
    "df.dropna(inplace=True)"
   ]
  },
  {
   "cell_type": "code",
   "execution_count": 12,
   "metadata": {},
   "outputs": [],
   "source": [
    "# Save cleaned dataset\n",
    "cleaned_file_path = \"../Task 4/final_dataset.csv\"\n",
    "df.to_csv(cleaned_file_path, index=False, encoding=\"utf-8\")"
   ]
  },
  {
   "cell_type": "markdown",
   "metadata": {},
   "source": [
    "---"
   ]
  },
  {
   "cell_type": "markdown",
   "metadata": {},
   "source": [
    "### 2. Processing the features"
   ]
  },
  {
   "cell_type": "code",
   "execution_count": 12,
   "metadata": {},
   "outputs": [],
   "source": [
    "from sklearn.preprocessing import LabelEncoder\n",
    "from sklearn.preprocessing import MultiLabelBinarizer\n",
    "\n",
    "# Encode emotion labels\n",
    "label_encoder_emotion = LabelEncoder()\n",
    "df[\"emotion_label\"] = label_encoder_emotion.fit_transform(df[\"Emotion\"])"
   ]
  },
  {
   "cell_type": "markdown",
   "metadata": {},
   "source": [
    "---"
   ]
  },
  {
   "cell_type": "markdown",
   "metadata": {},
   "source": [
    "### 3. Models"
   ]
  },
  {
   "cell_type": "markdown",
   "metadata": {},
   "source": [
    "### Transformer 1: BERT"
   ]
  },
  {
   "cell_type": "markdown",
   "metadata": {
    "jp-MarkdownHeadingCollapsed": true
   },
   "source": [
    "#### Trial 1"
   ]
  },
  {
   "cell_type": "code",
   "execution_count": 9,
   "metadata": {},
   "outputs": [],
   "source": [
    "import pandas as pd\n",
    "from sklearn.model_selection import train_test_split\n",
    "from transformers import BertTokenizer\n",
    "\n",
    "# Tokenize the sentences using BERT's tokenizer\n",
    "tokenizer = BertTokenizer.from_pretrained('bert-base-uncased')\n",
    "\n",
    "# Modify the function to return a dictionary\n",
    "def encode_sentences(sentences):\n",
    "    return tokenizer(sentences.tolist(), padding=True, truncation=True, max_length=128, return_tensors='pt')\n",
    "\n",
    "# Tokenize the sentences\n",
    "encoded_inputs = encode_sentences(df['Sentence'])\n",
    "\n",
    "# Extract input_ids and attention_mask separately\n",
    "input_ids = encoded_inputs[\"input_ids\"]\n",
    "attention_mask = encoded_inputs[\"attention_mask\"]\n",
    "\n",
    "# Now, split data correctly\n",
    "X_train, X_val, attn_train, attn_val, y_train, y_val = train_test_split(\n",
    "    input_ids, attention_mask, df['emotion_label'], test_size=0.2, random_state=42\n",
    ")"
   ]
  },
  {
   "cell_type": "code",
   "execution_count": 12,
   "metadata": {},
   "outputs": [
    {
     "name": "stderr",
     "output_type": "stream",
     "text": [
      "/tmp/ipykernel_12831/1048416070.py:10: UserWarning: To copy construct from a tensor, it is recommended to use sourceTensor.clone().detach() or sourceTensor.clone().detach().requires_grad_(True), rather than torch.tensor(sourceTensor).\n",
      "  train_inputs = torch.tensor(X_train).clone().detach()\n",
      "/tmp/ipykernel_12831/1048416070.py:11: UserWarning: To copy construct from a tensor, it is recommended to use sourceTensor.clone().detach() or sourceTensor.clone().detach().requires_grad_(True), rather than torch.tensor(sourceTensor).\n",
      "  val_inputs = torch.tensor(X_val).clone().detach()\n",
      "/tmp/ipykernel_12831/1048416070.py:12: UserWarning: To copy construct from a tensor, it is recommended to use sourceTensor.clone().detach() or sourceTensor.clone().detach().requires_grad_(True), rather than torch.tensor(sourceTensor).\n",
      "  train_attn = torch.tensor(attn_train).clone().detach()\n",
      "/tmp/ipykernel_12831/1048416070.py:13: UserWarning: To copy construct from a tensor, it is recommended to use sourceTensor.clone().detach() or sourceTensor.clone().detach().requires_grad_(True), rather than torch.tensor(sourceTensor).\n",
      "  val_attn = torch.tensor(attn_val).clone().detach()\n",
      "Some weights of BertForSequenceClassification were not initialized from the model checkpoint at bert-base-uncased and are newly initialized: ['classifier.bias', 'classifier.weight']\n",
      "You should probably TRAIN this model on a down-stream task to be able to use it for predictions and inference.\n",
      "                                                                             "
     ]
    },
    {
     "name": "stdout",
     "output_type": "stream",
     "text": [
      "Epoch 1, Training Loss: 1.9090\n",
      "Epoch 1, Validation Loss: 1.8833\n"
     ]
    },
    {
     "name": "stderr",
     "output_type": "stream",
     "text": [
      "                                                                             "
     ]
    },
    {
     "name": "stdout",
     "output_type": "stream",
     "text": [
      "Epoch 2, Training Loss: 1.8765\n",
      "Epoch 2, Validation Loss: 1.8791\n"
     ]
    },
    {
     "name": "stderr",
     "output_type": "stream",
     "text": [
      "                                                                             "
     ]
    },
    {
     "name": "stdout",
     "output_type": "stream",
     "text": [
      "Epoch 3, Training Loss: 1.8706\n",
      "Epoch 3, Validation Loss: 1.8735\n"
     ]
    },
    {
     "name": "stderr",
     "output_type": "stream",
     "text": [
      "                                                                             "
     ]
    },
    {
     "name": "stdout",
     "output_type": "stream",
     "text": [
      "Epoch 4, Training Loss: 1.8681\n",
      "Epoch 4, Validation Loss: 1.8590\n"
     ]
    },
    {
     "name": "stderr",
     "output_type": "stream",
     "text": [
      "                                                                             "
     ]
    },
    {
     "name": "stdout",
     "output_type": "stream",
     "text": [
      "Epoch 5, Training Loss: 1.8667\n",
      "Epoch 5, Validation Loss: 1.8670\n"
     ]
    },
    {
     "name": "stderr",
     "output_type": "stream",
     "text": [
      "                                                                             "
     ]
    },
    {
     "name": "stdout",
     "output_type": "stream",
     "text": [
      "Epoch 6, Training Loss: 1.8646\n",
      "Epoch 6, Validation Loss: 1.8682\n"
     ]
    },
    {
     "name": "stderr",
     "output_type": "stream",
     "text": [
      "                                                                             "
     ]
    },
    {
     "name": "stdout",
     "output_type": "stream",
     "text": [
      "Epoch 7, Training Loss: 1.8623\n",
      "Epoch 7, Validation Loss: 1.8630\n",
      "Early stopping triggered. Stopping training.\n"
     ]
    }
   ],
   "source": [
    "import torch\n",
    "from torch.utils.data import DataLoader, TensorDataset\n",
    "from transformers import BertForSequenceClassification\n",
    "from torch.optim import AdamW\n",
    "from tqdm import tqdm\n",
    "import numpy as np\n",
    "from transformers import get_scheduler\n",
    "\n",
    "# Convert to tensors\n",
    "train_inputs = torch.tensor(X_train).clone().detach()\n",
    "val_inputs = torch.tensor(X_val).clone().detach()\n",
    "train_attn = torch.tensor(attn_train).clone().detach()\n",
    "val_attn = torch.tensor(attn_val).clone().detach()\n",
    "train_labels = torch.tensor(y_train.values)\n",
    "val_labels = torch.tensor(y_val.values)\n",
    "\n",
    "# Create DataLoader for batch processing\n",
    "train_data = TensorDataset(train_inputs, train_attn, train_labels)\n",
    "val_data = TensorDataset(val_inputs, val_attn, val_labels)\n",
    "\n",
    "train_dataloader = DataLoader(train_data, batch_size=64, shuffle=True)\n",
    "val_dataloader = DataLoader(val_data, batch_size=64)\n",
    "\n",
    "# Load the pre-trained BERT model for sequence classification\n",
    "model = BertForSequenceClassification.from_pretrained('bert-base-uncased', num_labels=len(label_encoder_emotion.classes_))\n",
    "\n",
    "# Setup optimizer\n",
    "optimizer = AdamW(model.parameters(), weight_decay=0.01)\n",
    "\n",
    "# Move model to GPU \n",
    "device = torch.device(\"cuda\" if torch.cuda.is_available() else \"cpu\")\n",
    "model.to(device)\n",
    "\n",
    "# Early Stopping Parameters\n",
    "patience = 3  # Number of epochs with no improvement before stopping\n",
    "best_val_loss = float('inf')\n",
    "epochs_no_improve = 0\n",
    "\n",
    "num_training_steps = len(train_dataloader) * 10  # Assuming 10 epochs\n",
    "lr_scheduler = get_scheduler(\n",
    "    name=\"linear\", optimizer=optimizer, num_warmup_steps=0, num_training_steps=num_training_steps\n",
    ")\n",
    "\n",
    "# Training loop\n",
    "for epoch in range(15):\n",
    "    model.train()\n",
    "    total_loss = 0\n",
    "    progress_bar = tqdm(train_dataloader, desc=f\"Epoch {epoch+1}/10\", unit=\"batch\", leave=False)\n",
    "    \n",
    "    for batch in progress_bar:\n",
    "        input_ids, attention_mask, labels = batch\n",
    "        input_ids = input_ids.to(device)\n",
    "        attention_mask = attention_mask.to(device)\n",
    "        labels = labels.to(device)\n",
    "    \n",
    "        # Forward pass\n",
    "        outputs = model(input_ids, attention_mask=attention_mask, labels=labels)\n",
    "\n",
    "        loss = outputs.loss\n",
    "        total_loss += loss.item()\n",
    "\n",
    "        # Backward pass\n",
    "        loss.backward()\n",
    "\n",
    "        # Apply gradient clipping\n",
    "        torch.nn.utils.clip_grad_norm_(model.parameters(), max_norm=1.0)\n",
    "        \n",
    "        # Optimizer\n",
    "        optimizer.step()\n",
    "        lr_scheduler.step()  # Adjust learning rate dynamically\n",
    "\n",
    "        # Update progress bar\n",
    "        progress_bar.set_postfix(loss=total_loss / (progress_bar.n + 1), refresh=True)\n",
    "\n",
    "    avg_train_loss = total_loss / len(train_dataloader)\n",
    "    print(f\"Epoch {epoch+1}, Training Loss: {avg_train_loss:.4f}\")\n",
    "\n",
    "    # Validation phase\n",
    "    model.eval()\n",
    "    val_loss = 0\n",
    "\n",
    "    with torch.no_grad():\n",
    "        for batch in val_dataloader:\n",
    "            input_ids, attention_mask, labels = batch  \n",
    "            input_ids = input_ids.to(device)\n",
    "            attention_mask = attention_mask.to(device)\n",
    "            labels = labels.to(device)\n",
    "        \n",
    "            outputs = model(input_ids, attention_mask=attention_mask, labels=labels)\n",
    "            loss = outputs.loss\n",
    "            val_loss += loss.item()\n",
    "\n",
    "    avg_val_loss = val_loss / len(val_dataloader)\n",
    "    print(f\"Epoch {epoch+1}, Validation Loss: {avg_val_loss:.4f}\")\n",
    "\n",
    "    # Early stopping logic\n",
    "    if avg_val_loss < best_val_loss:\n",
    "        best_val_loss = avg_val_loss\n",
    "        epochs_no_improve = 0  # Reset counter\n",
    "    else:\n",
    "        epochs_no_improve += 1  # Increase counter\n",
    "\n",
    "    if epochs_no_improve >= patience:\n",
    "        print(\"Early stopping triggered. Stopping training.\")\n",
    "        break"
   ]
  },
  {
   "cell_type": "code",
   "execution_count": 14,
   "metadata": {},
   "outputs": [
    {
     "name": "stderr",
     "output_type": "stream",
     "text": [
      "Evaluating: 100%|██████████| 331/331 [00:23<00:00, 14.10batch/s]\n",
      "/usr/local/lib/python3.11/dist-packages/sklearn/metrics/_classification.py:1565: UndefinedMetricWarning: Precision is ill-defined and being set to 0.0 in labels with no predicted samples. Use `zero_division` parameter to control this behavior.\n",
      "  _warn_prf(average, modifier, f\"{metric.capitalize()} is\", len(result))\n",
      "/usr/local/lib/python3.11/dist-packages/sklearn/metrics/_classification.py:1565: UndefinedMetricWarning: Precision is ill-defined and being set to 0.0 in labels with no predicted samples. Use `zero_division` parameter to control this behavior.\n",
      "  _warn_prf(average, modifier, f\"{metric.capitalize()} is\", len(result))\n"
     ]
    },
    {
     "name": "stdout",
     "output_type": "stream",
     "text": [
      "Accuracy: 0.2290977798771847\n",
      "F1 Score (Macro Average): 0.05325573734489953\n",
      "Classification Report:\n",
      "              precision    recall  f1-score   support\n",
      "\n",
      "       anger       0.00      0.00      0.00      2876\n",
      "     disgust       0.00      0.00      0.00      2181\n",
      "        fear       0.00      0.00      0.00      1080\n",
      "   happiness       0.23      1.00      0.37      4850\n",
      "     neutral       0.00      0.00      0.00      3756\n",
      "     sadness       0.00      0.00      0.00      4265\n",
      "    surprise       0.00      0.00      0.00      2162\n",
      "\n",
      "    accuracy                           0.23     21170\n",
      "   macro avg       0.03      0.14      0.05     21170\n",
      "weighted avg       0.05      0.23      0.09     21170\n",
      "\n"
     ]
    },
    {
     "name": "stderr",
     "output_type": "stream",
     "text": [
      "/usr/local/lib/python3.11/dist-packages/sklearn/metrics/_classification.py:1565: UndefinedMetricWarning: Precision is ill-defined and being set to 0.0 in labels with no predicted samples. Use `zero_division` parameter to control this behavior.\n",
      "  _warn_prf(average, modifier, f\"{metric.capitalize()} is\", len(result))\n"
     ]
    }
   ],
   "source": [
    "from sklearn.metrics import accuracy_score, f1_score, classification_report\n",
    "\n",
    "# Evaluate the model on the validation set\n",
    "model.eval()\n",
    "val_preds = []\n",
    "val_labels_list = []\n",
    "\n",
    "# Validation loop with tqdm progress bar\n",
    "progress_bar = tqdm(val_dataloader, desc=\"Evaluating\", unit=\"batch\")\n",
    "for batch in progress_bar:\n",
    "    input_ids, attention_mask, labels = batch  \n",
    "    input_ids = input_ids.to(device)\n",
    "    attention_mask = attention_mask.to(device)\n",
    "    labels = labels.to(device)\n",
    "    \n",
    "    with torch.no_grad():\n",
    "        outputs = model(input_ids, attention_mask=attention_mask, labels=labels)\n",
    "\n",
    "    logits = outputs.logits\n",
    "    preds = torch.argmax(logits, dim=1)\n",
    "\n",
    "    val_preds.extend(preds.cpu().numpy())\n",
    "    val_labels_list.extend(labels.cpu().numpy())\n",
    "\n",
    "# Convert the predictions and true labels back to the original class labels\n",
    "val_preds_str = label_encoder_emotion.inverse_transform(val_preds)\n",
    "val_labels_str = label_encoder_emotion.inverse_transform(val_labels_list)\n",
    "\n",
    "# Calculate accuracy\n",
    "accuracy = accuracy_score(val_labels_str, val_preds_str)\n",
    "print(f\"Accuracy: {accuracy}\")\n",
    "\n",
    "# Calculate F1 Score (Macro Average)\n",
    "f1 = f1_score(val_labels_str, val_preds_str, average='macro')\n",
    "print(f\"F1 Score (Macro Average): {f1}\")\n",
    "\n",
    "# Generate classification report\n",
    "report = classification_report(val_labels_str, val_preds_str, target_names=label_encoder_emotion.classes_)\n",
    "print(\"Classification Report:\")\n",
    "print(report)"
   ]
  },
  {
   "cell_type": "code",
   "execution_count": 15,
   "metadata": {},
   "outputs": [
    {
     "data": {
      "image/png": "[encoded data removed]",
      "text/plain": [
       "<Figure size 1000x700 with 2 Axes>"
      ]
     },
     "metadata": {},
     "output_type": "display_data"
    }
   ],
   "source": [
    "import matplotlib.pyplot as plt\n",
    "import seaborn as sns \n",
    "from sklearn.metrics import confusion_matrix\n",
    "# Plot confusion matrix\n",
    "cm = confusion_matrix(val_labels_str, val_preds_str)\n",
    "plt.figure(figsize=(10, 7))\n",
    "sns.heatmap(cm, annot=True, fmt='d', cmap=\"Blues\", xticklabels=label_encoder_emotion.classes_, yticklabels=label_encoder_emotion.classes_)\n",
    "plt.ylabel('True Label')\n",
    "plt.xlabel('Predicted Label')\n",
    "plt.title('Confusion Matrix')\n",
    "plt.show()"
   ]
  },
  {
   "cell_type": "markdown",
   "metadata": {},
   "source": [
    "### Trial 2"
   ]
  },
  {
   "cell_type": "code",
   "execution_count": 5,
   "metadata": {},
   "outputs": [],
   "source": [
    "import pandas as pd\n",
    "from sklearn.model_selection import train_test_split\n",
    "from transformers import BertTokenizer\n",
    "\n",
    "# Tokenize the sentences using BERT's tokenizer\n",
    "tokenizer = BertTokenizer.from_pretrained('bert-base-uncased')\n",
    "\n",
    "# Modify the function to return a dictionary\n",
    "def encode_sentences(sentences):\n",
    "    return tokenizer(sentences.tolist(), padding=True, truncation=True, max_length=128, return_tensors='pt')\n",
    "\n",
    "# Tokenize the sentences\n",
    "encoded_inputs = encode_sentences(df['Sentence'])\n",
    "\n",
    "# Extract input_ids and attention_mask separately\n",
    "input_ids = encoded_inputs[\"input_ids\"]\n",
    "attention_mask = encoded_inputs[\"attention_mask\"]\n",
    "\n",
    "# Now, split data correctly\n",
    "X_train, X_val, attn_train, attn_val, y_train, y_val = train_test_split(\n",
    "    input_ids, attention_mask, df['emotion_label'], test_size=0.2, random_state=42\n",
    ")"
   ]
  },
  {
   "cell_type": "code",
   "execution_count": 6,
   "metadata": {},
   "outputs": [
    {
     "name": "stderr",
     "output_type": "stream",
     "text": [
      "/tmp/ipykernel_19729/3415802966.py:10: UserWarning: To copy construct from a tensor, it is recommended to use sourceTensor.clone().detach() or sourceTensor.clone().detach().requires_grad_(True), rather than torch.tensor(sourceTensor).\n",
      "  train_inputs = torch.tensor(X_train).clone().detach()\n",
      "/tmp/ipykernel_19729/3415802966.py:11: UserWarning: To copy construct from a tensor, it is recommended to use sourceTensor.clone().detach() or sourceTensor.clone().detach().requires_grad_(True), rather than torch.tensor(sourceTensor).\n",
      "  val_inputs = torch.tensor(X_val).clone().detach()\n",
      "/tmp/ipykernel_19729/3415802966.py:12: UserWarning: To copy construct from a tensor, it is recommended to use sourceTensor.clone().detach() or sourceTensor.clone().detach().requires_grad_(True), rather than torch.tensor(sourceTensor).\n",
      "  train_attn = torch.tensor(attn_train).clone().detach()\n",
      "/tmp/ipykernel_19729/3415802966.py:13: UserWarning: To copy construct from a tensor, it is recommended to use sourceTensor.clone().detach() or sourceTensor.clone().detach().requires_grad_(True), rather than torch.tensor(sourceTensor).\n",
      "  val_attn = torch.tensor(attn_val).clone().detach()\n",
      "Some weights of BertForSequenceClassification were not initialized from the model checkpoint at bert-base-uncased and are newly initialized: ['classifier.bias', 'classifier.weight']\n",
      "You should probably TRAIN this model on a down-stream task to be able to use it for predictions and inference.\n",
      "                                                                             "
     ]
    },
    {
     "name": "stdout",
     "output_type": "stream",
     "text": [
      "Epoch 1, Training Loss: 1.4267\n",
      "Epoch 1, Validation Loss: 1.2795\n"
     ]
    },
    {
     "name": "stderr",
     "output_type": "stream",
     "text": [
      "                                                                             "
     ]
    },
    {
     "name": "stdout",
     "output_type": "stream",
     "text": [
      "Epoch 2, Training Loss: 1.1195\n",
      "Epoch 2, Validation Loss: 1.1091\n"
     ]
    },
    {
     "name": "stderr",
     "output_type": "stream",
     "text": [
      "                                                                              "
     ]
    },
    {
     "name": "stdout",
     "output_type": "stream",
     "text": [
      "Epoch 3, Training Loss: 0.8022\n",
      "Epoch 3, Validation Loss: 1.0023\n"
     ]
    },
    {
     "name": "stderr",
     "output_type": "stream",
     "text": [
      "                                                                              "
     ]
    },
    {
     "name": "stdout",
     "output_type": "stream",
     "text": [
      "Epoch 4, Training Loss: 0.5540\n",
      "Epoch 4, Validation Loss: 0.9153\n"
     ]
    },
    {
     "name": "stderr",
     "output_type": "stream",
     "text": [
      "                                                                              "
     ]
    },
    {
     "name": "stdout",
     "output_type": "stream",
     "text": [
      "Epoch 5, Training Loss: 0.4161\n",
      "Epoch 5, Validation Loss: 0.8874\n"
     ]
    },
    {
     "name": "stderr",
     "output_type": "stream",
     "text": [
      "                                                                              "
     ]
    },
    {
     "name": "stdout",
     "output_type": "stream",
     "text": [
      "Epoch 6, Training Loss: 0.3291\n",
      "Epoch 6, Validation Loss: 0.9796\n"
     ]
    },
    {
     "name": "stderr",
     "output_type": "stream",
     "text": [
      "                                                                              "
     ]
    },
    {
     "name": "stdout",
     "output_type": "stream",
     "text": [
      "Epoch 7, Training Loss: 0.2810\n",
      "Epoch 7, Validation Loss: 0.9563\n"
     ]
    },
    {
     "name": "stderr",
     "output_type": "stream",
     "text": [
      "                                                                              "
     ]
    },
    {
     "name": "stdout",
     "output_type": "stream",
     "text": [
      "Epoch 8, Training Loss: 0.2442\n",
      "Epoch 8, Validation Loss: 1.1069\n",
      "Early stopping triggered. Stopping training.\n"
     ]
    }
   ],
   "source": [
    "import torch\n",
    "from torch.utils.data import DataLoader, TensorDataset\n",
    "from transformers import BertForSequenceClassification\n",
    "from torch.optim import AdamW\n",
    "from tqdm import tqdm\n",
    "import numpy as np\n",
    "from transformers import get_scheduler\n",
    "\n",
    "# Convert to tensors\n",
    "train_inputs = torch.tensor(X_train).clone().detach()\n",
    "val_inputs = torch.tensor(X_val).clone().detach()\n",
    "train_attn = torch.tensor(attn_train).clone().detach()\n",
    "val_attn = torch.tensor(attn_val).clone().detach()\n",
    "train_labels = torch.tensor(y_train.values)\n",
    "val_labels = torch.tensor(y_val.values)\n",
    "\n",
    "# Create DataLoader for batch processing\n",
    "train_data = TensorDataset(train_inputs, train_attn, train_labels)\n",
    "val_data = TensorDataset(val_inputs, val_attn, val_labels)\n",
    "\n",
    "train_dataloader = DataLoader(train_data, batch_size=16, shuffle=True)\n",
    "val_dataloader = DataLoader(val_data, batch_size=16)\n",
    "\n",
    "# Load the pre-trained BERT model for sequence classification\n",
    "model = BertForSequenceClassification.from_pretrained('bert-base-uncased', num_labels=len(label_encoder_emotion.classes_))\n",
    "\n",
    "# Setup optimizer\n",
    "optimizer = AdamW(model.parameters(),lr=2e-5, weight_decay=0.01)\n",
    "\n",
    "# Move model to GPU \n",
    "device = torch.device(\"cuda\" if torch.cuda.is_available() else \"cpu\")\n",
    "model.to(device)\n",
    "\n",
    "# Early Stopping Parameters\n",
    "patience = 3  # Number of epochs with no improvement before stopping\n",
    "best_val_loss = float('inf')\n",
    "epochs_no_improve = 0\n",
    "\n",
    "num_training_steps = len(train_dataloader) * 10  # Assuming 10 epochs\n",
    "lr_scheduler = get_scheduler(\n",
    "    name=\"linear\", optimizer=optimizer, num_warmup_steps=0, num_training_steps=num_training_steps\n",
    ")\n",
    "\n",
    "# Training loop\n",
    "for epoch in range(15):\n",
    "    model.train()\n",
    "    total_loss = 0\n",
    "    progress_bar = tqdm(train_dataloader, desc=f\"Epoch {epoch+1}/10\", unit=\"batch\", leave=False)\n",
    "    \n",
    "    for batch in progress_bar:\n",
    "        input_ids, attention_mask, labels = batch\n",
    "        input_ids = input_ids.to(device)\n",
    "        attention_mask = attention_mask.to(device)\n",
    "        labels = labels.to(device)\n",
    "    \n",
    "        # Forward pass\n",
    "        outputs = model(input_ids, attention_mask=attention_mask, labels=labels)\n",
    "\n",
    "        loss = outputs.loss\n",
    "        total_loss += loss.item()\n",
    "\n",
    "        # Backward pass\n",
    "        loss.backward()\n",
    "\n",
    "        # Apply gradient clipping\n",
    "        torch.nn.utils.clip_grad_norm_(model.parameters(), max_norm=1.0)\n",
    "        \n",
    "        # Optimizer\n",
    "        optimizer.step()\n",
    "\n",
    "        # Update progress bar\n",
    "        progress_bar.set_postfix(loss=total_loss / (progress_bar.n + 1), refresh=True)\n",
    "\n",
    "    avg_train_loss = total_loss / len(train_dataloader)\n",
    "    print(f\"Epoch {epoch+1}, Training Loss: {avg_train_loss:.4f}\")\n",
    "\n",
    "    # Validation phase\n",
    "    model.eval()\n",
    "    val_loss = 0\n",
    "\n",
    "    with torch.no_grad():\n",
    "        for batch in val_dataloader:\n",
    "            input_ids, attention_mask, labels = batch  \n",
    "            input_ids = input_ids.to(device)\n",
    "            attention_mask = attention_mask.to(device)\n",
    "            labels = labels.to(device)\n",
    "        \n",
    "            outputs = model(input_ids, attention_mask=attention_mask, labels=labels)\n",
    "            loss = outputs.loss\n",
    "            val_loss += loss.item()\n",
    "\n",
    "    avg_val_loss = val_loss / len(val_dataloader)\n",
    "    print(f\"Epoch {epoch+1}, Validation Loss: {avg_val_loss:.4f}\")\n",
    "\n",
    "    # Early stopping logic\n",
    "    if avg_val_loss < best_val_loss:\n",
    "        best_val_loss = avg_val_loss\n",
    "        epochs_no_improve = 0  # Reset counter\n",
    "    else:\n",
    "        epochs_no_improve += 1  # Increase counter\n",
    "\n",
    "    if epochs_no_improve >= patience:\n",
    "        print(\"Early stopping triggered. Stopping training.\")\n",
    "        break"
   ]
  },
  {
   "cell_type": "code",
   "execution_count": 7,
   "metadata": {},
   "outputs": [
    {
     "name": "stderr",
     "output_type": "stream",
     "text": [
      "Evaluating: 100%|██████████| 1324/1324 [00:23<00:00, 56.82batch/s]\n"
     ]
    },
    {
     "name": "stdout",
     "output_type": "stream",
     "text": [
      "Accuracy: 0.7596126594237128\n",
      "F1 Score (Macro Average): 0.7498330798974614\n",
      "Classification Report:\n",
      "              precision    recall  f1-score   support\n",
      "\n",
      "       anger       0.84      0.78      0.81      2876\n",
      "     disgust       0.85      0.83      0.84      2181\n",
      "        fear       0.75      0.79      0.77      1080\n",
      "   happiness       0.69      0.69      0.69      4850\n",
      "     neutral       0.79      0.83      0.81      3756\n",
      "     sadness       0.80      0.88      0.84      4265\n",
      "    surprise       0.55      0.45      0.49      2162\n",
      "\n",
      "    accuracy                           0.76     21170\n",
      "   macro avg       0.75      0.75      0.75     21170\n",
      "weighted avg       0.76      0.76      0.76     21170\n",
      "\n"
     ]
    }
   ],
   "source": [
    "from sklearn.metrics import accuracy_score, f1_score, classification_report\n",
    "\n",
    "# Evaluate the model on the validation set\n",
    "model.eval()\n",
    "val_preds = []\n",
    "val_labels_list = []\n",
    "\n",
    "# Validation loop with tqdm progress bar\n",
    "progress_bar = tqdm(val_dataloader, desc=\"Evaluating\", unit=\"batch\")\n",
    "for batch in progress_bar:\n",
    "    input_ids, attention_mask, labels = batch  \n",
    "    input_ids = input_ids.to(device)\n",
    "    attention_mask = attention_mask.to(device)\n",
    "    labels = labels.to(device)\n",
    "    \n",
    "    with torch.no_grad():\n",
    "        outputs = model(input_ids, attention_mask=attention_mask, labels=labels)\n",
    "\n",
    "    logits = outputs.logits\n",
    "    preds = torch.argmax(logits, dim=1)\n",
    "\n",
    "    val_preds.extend(preds.cpu().numpy())\n",
    "    val_labels_list.extend(labels.cpu().numpy())\n",
    "\n",
    "# Convert the predictions and true labels back to the original class labels\n",
    "val_preds_str = label_encoder_emotion.inverse_transform(val_preds)\n",
    "val_labels_str = label_encoder_emotion.inverse_transform(val_labels_list)\n",
    "\n",
    "# Calculate accuracy\n",
    "accuracy = accuracy_score(val_labels_str, val_preds_str)\n",
    "print(f\"Accuracy: {accuracy}\")\n",
    "\n",
    "# Calculate F1 Score (Macro Average)\n",
    "f1 = f1_score(val_labels_str, val_preds_str, average='macro')\n",
    "print(f\"F1 Score (Macro Average): {f1}\")\n",
    "\n",
    "# Generate classification report\n",
    "report = classification_report(val_labels_str, val_preds_str, target_names=label_encoder_emotion.classes_)\n",
    "print(\"Classification Report:\")\n",
    "print(report)"
   ]
  },
  {
   "cell_type": "code",
   "execution_count": 8,
   "metadata": {},
   "outputs": [
    {
     "data": {
      "image/png": "[encoded data removed]",
      "text/plain": [
       "<Figure size 1000x700 with 2 Axes>"
      ]
     },
     "metadata": {},
     "output_type": "display_data"
    }
   ],
   "source": [
    "import matplotlib.pyplot as plt\n",
    "import seaborn as sns \n",
    "from sklearn.metrics import confusion_matrix\n",
    "# Plot confusion matrix\n",
    "cm = confusion_matrix(val_labels_str, val_preds_str)\n",
    "plt.figure(figsize=(10, 7))\n",
    "sns.heatmap(cm, annot=True, fmt='d', cmap=\"Blues\", xticklabels=label_encoder_emotion.classes_, yticklabels=label_encoder_emotion.classes_)\n",
    "plt.ylabel('True Label')\n",
    "plt.xlabel('Predicted Label')\n",
    "plt.title('Confusion Matrix')\n",
    "plt.show()"
   ]
  },
  {
   "cell_type": "markdown",
   "metadata": {
    "jp-MarkdownHeadingCollapsed": true
   },
   "source": [
    "### Trial 3"
   ]
  },
  {
   "cell_type": "code",
   "execution_count": 4,
   "metadata": {},
   "outputs": [],
   "source": [
    "import pandas as pd\n",
    "from sklearn.model_selection import train_test_split\n",
    "from transformers import BertTokenizer\n",
    "\n",
    "# Tokenize the sentences using BERT's tokenizer\n",
    "tokenizer = BertTokenizer.from_pretrained('bert-base-multilingual-cased')\n",
    "\n",
    "# Modify the function to return a dictionary\n",
    "def encode_sentences(sentences):\n",
    "    return tokenizer(sentences.tolist(), padding=True, truncation=True, max_length=128, return_tensors='pt')\n",
    "\n",
    "# Tokenize the sentences\n",
    "encoded_inputs = encode_sentences(df['Sentence'])\n",
    "\n",
    "# Extract input_ids and attention_mask separately\n",
    "input_ids = encoded_inputs[\"input_ids\"]\n",
    "attention_mask = encoded_inputs[\"attention_mask\"]\n",
    "\n",
    "# Now, split data correctly\n",
    "X_train, X_val, attn_train, attn_val, y_train, y_val = train_test_split(\n",
    "    input_ids, attention_mask, df['emotion_label'], test_size=0.2, random_state=42\n",
    ")"
   ]
  },
  {
   "cell_type": "code",
   "execution_count": 7,
   "metadata": {},
   "outputs": [],
   "source": [
    "from sklearn.utils.class_weight import compute_class_weight\n",
    "import numpy as np \n",
    "\n",
    "device = torch.device(\"cuda\" if torch.cuda.is_available() else \"cpu\")\n",
    "\n",
    "# Compute class weights\n",
    "class_weights = compute_class_weight('balanced', classes=np.unique(y_train), y=y_train)\n",
    "class_weights = torch.tensor(class_weights, dtype=torch.float).to(device)\n",
    "\n",
    "# Define weighted loss function\n",
    "loss_function = torch.nn.CrossEntropyLoss(weight=class_weights)"
   ]
  },
  {
   "cell_type": "code",
   "execution_count": 8,
   "metadata": {},
   "outputs": [
    {
     "name": "stderr",
     "output_type": "stream",
     "text": [
      "/tmp/ipykernel_41162/1692020511.py:10: UserWarning: To copy construct from a tensor, it is recommended to use sourceTensor.clone().detach() or sourceTensor.clone().detach().requires_grad_(True), rather than torch.tensor(sourceTensor).\n",
      "  train_inputs = torch.tensor(X_train).clone().detach()\n",
      "/tmp/ipykernel_41162/1692020511.py:11: UserWarning: To copy construct from a tensor, it is recommended to use sourceTensor.clone().detach() or sourceTensor.clone().detach().requires_grad_(True), rather than torch.tensor(sourceTensor).\n",
      "  val_inputs = torch.tensor(X_val).clone().detach()\n",
      "/tmp/ipykernel_41162/1692020511.py:12: UserWarning: To copy construct from a tensor, it is recommended to use sourceTensor.clone().detach() or sourceTensor.clone().detach().requires_grad_(True), rather than torch.tensor(sourceTensor).\n",
      "  train_attn = torch.tensor(attn_train).clone().detach()\n",
      "/tmp/ipykernel_41162/1692020511.py:13: UserWarning: To copy construct from a tensor, it is recommended to use sourceTensor.clone().detach() or sourceTensor.clone().detach().requires_grad_(True), rather than torch.tensor(sourceTensor).\n",
      "  val_attn = torch.tensor(attn_val).clone().detach()\n",
      "Some weights of BertForSequenceClassification were not initialized from the model checkpoint at bert-base-multilingual-cased and are newly initialized: ['classifier.bias', 'classifier.weight']\n",
      "You should probably TRAIN this model on a down-stream task to be able to use it for predictions and inference.\n",
      "                                                                             "
     ]
    },
    {
     "name": "stdout",
     "output_type": "stream",
     "text": [
      "Epoch 1, Training Loss: 1.4367\n",
      "Epoch 1, Validation Loss: 1.3245\n"
     ]
    },
    {
     "name": "stderr",
     "output_type": "stream",
     "text": [
      "                                                                             "
     ]
    },
    {
     "name": "stdout",
     "output_type": "stream",
     "text": [
      "Epoch 2, Training Loss: 1.1182\n",
      "Epoch 2, Validation Loss: 1.1315\n"
     ]
    },
    {
     "name": "stderr",
     "output_type": "stream",
     "text": [
      "                                                                              "
     ]
    },
    {
     "name": "stdout",
     "output_type": "stream",
     "text": [
      "Epoch 3, Training Loss: 0.8577\n",
      "Epoch 3, Validation Loss: 1.0324\n"
     ]
    },
    {
     "name": "stderr",
     "output_type": "stream",
     "text": [
      "                                                                              "
     ]
    },
    {
     "name": "stdout",
     "output_type": "stream",
     "text": [
      "Epoch 4, Training Loss: 0.6214\n",
      "Epoch 4, Validation Loss: 0.9104\n"
     ]
    },
    {
     "name": "stderr",
     "output_type": "stream",
     "text": [
      "                                                                              "
     ]
    },
    {
     "name": "stdout",
     "output_type": "stream",
     "text": [
      "Epoch 5, Training Loss: 0.4730\n",
      "Epoch 5, Validation Loss: 0.8900\n"
     ]
    },
    {
     "name": "stderr",
     "output_type": "stream",
     "text": [
      "                                                                              "
     ]
    },
    {
     "name": "stdout",
     "output_type": "stream",
     "text": [
      "Epoch 6, Training Loss: 0.3835\n",
      "Epoch 6, Validation Loss: 0.8961\n"
     ]
    },
    {
     "name": "stderr",
     "output_type": "stream",
     "text": [
      "                                                                              "
     ]
    },
    {
     "name": "stdout",
     "output_type": "stream",
     "text": [
      "Epoch 7, Training Loss: 0.3263\n",
      "Epoch 7, Validation Loss: 0.8943\n",
      "Early stopping triggered. Stopping training.\n"
     ]
    }
   ],
   "source": [
    "import torch\n",
    "from torch.utils.data import DataLoader, TensorDataset\n",
    "from transformers import BertForSequenceClassification\n",
    "from torch.optim import AdamW\n",
    "from tqdm import tqdm\n",
    "import numpy as np\n",
    "from transformers import get_scheduler\n",
    "\n",
    "# Convert to tensors\n",
    "train_inputs = torch.tensor(X_train).clone().detach()\n",
    "val_inputs = torch.tensor(X_val).clone().detach()\n",
    "train_attn = torch.tensor(attn_train).clone().detach()\n",
    "val_attn = torch.tensor(attn_val).clone().detach()\n",
    "train_labels = torch.tensor(y_train.values)\n",
    "val_labels = torch.tensor(y_val.values)\n",
    "\n",
    "# Create DataLoader for batch processing\n",
    "train_data = TensorDataset(train_inputs, train_attn, train_labels)\n",
    "val_data = TensorDataset(val_inputs, val_attn, val_labels)\n",
    "\n",
    "train_dataloader = DataLoader(train_data, batch_size=16, shuffle=True)\n",
    "val_dataloader = DataLoader(val_data, batch_size=16)\n",
    "\n",
    "# Load the pre-trained BERT model for sequence classification\n",
    "model = BertForSequenceClassification.from_pretrained('bert-base-multilingual-cased', num_labels=len(label_encoder_emotion.classes_))\n",
    "\n",
    "# Setup optimizer\n",
    "optimizer = AdamW(model.parameters(),lr=2e-5, weight_decay=0.01)\n",
    "\n",
    "# Move model to GPU \n",
    "device = torch.device(\"cuda\")\n",
    "model.to(device)\n",
    "\n",
    "# Early Stopping Parameters\n",
    "patience = 2  # Number of epochs with no improvement before stopping\n",
    "best_val_loss = float('inf')\n",
    "epochs_no_improve = 0\n",
    "\n",
    "num_training_steps = len(train_dataloader) * 10  # Assuming 10 epochs\n",
    "lr_scheduler = get_scheduler(\n",
    "    name=\"linear\", optimizer=optimizer, num_warmup_steps=0, num_training_steps=num_training_steps\n",
    ")\n",
    "\n",
    "# Model loop\n",
    "for epoch in range(15):\n",
    "    model.train()\n",
    "    total_loss = 0\n",
    "    progress_bar = tqdm(train_dataloader, desc=f\"Epoch {epoch+1}/15\", unit=\"batch\", leave=False)\n",
    "\n",
    "    # Training phase\n",
    "    for batch in progress_bar:\n",
    "        input_ids, attention_mask, labels = batch\n",
    "        input_ids = input_ids.to(device)\n",
    "        attention_mask = attention_mask.to(device)\n",
    "        labels = labels.to(device)\n",
    "    \n",
    "        # Forward pass\n",
    "        outputs = model(input_ids, attention_mask=attention_mask)\n",
    "        logits = outputs.logits  # Extract logits\n",
    "\n",
    "        # Compute weighted loss\n",
    "        loss = loss_function(logits, labels)\n",
    "        total_loss += loss.item()\n",
    "\n",
    "        # Backward pass\n",
    "        loss.backward()\n",
    "\n",
    "        # Apply gradient clipping\n",
    "        torch.nn.utils.clip_grad_norm_(model.parameters(), max_norm=1.0)\n",
    "        \n",
    "        # Optimizer\n",
    "        optimizer.step()\n",
    "\n",
    "        # Update progress bar\n",
    "        progress_bar.set_postfix(loss=total_loss / (progress_bar.n + 1), refresh=True)\n",
    "\n",
    "    avg_train_loss = total_loss / len(train_dataloader)\n",
    "    print(f\"Epoch {epoch+1}, Training Loss: {avg_train_loss:.4f}\")\n",
    "\n",
    "    # Validation phase\n",
    "    model.eval()\n",
    "    val_loss = 0\n",
    "    \n",
    "    loss_function = torch.nn.CrossEntropyLoss()  # No class weights for validation\n",
    "    \n",
    "    with torch.no_grad():\n",
    "        for batch in val_dataloader:\n",
    "            input_ids, attention_mask, labels = batch  \n",
    "            input_ids = input_ids.to(device)\n",
    "            attention_mask = attention_mask.to(device)\n",
    "            labels = labels.to(device)\n",
    "        \n",
    "            outputs = model(input_ids, attention_mask=attention_mask)\n",
    "            loss = loss_function(outputs.logits, labels)  # Explicit loss calculation\n",
    "            val_loss += loss.item()\n",
    "    \n",
    "    avg_val_loss = val_loss / len(val_dataloader)\n",
    "    print(f\"Epoch {epoch+1}, Validation Loss: {avg_val_loss:.4f}\")\n",
    "\n",
    "\n",
    "    # Early stopping logic\n",
    "    if avg_val_loss < best_val_loss:\n",
    "        best_val_loss = avg_val_loss\n",
    "        epochs_no_improve = 0  # Reset counter\n",
    "    else:\n",
    "        epochs_no_improve += 1  # Increase counter\n",
    "\n",
    "    if epochs_no_improve >= patience:\n",
    "        print(\"Early stopping triggered. Stopping training.\")\n",
    "        break\n",
    "\n",
    "    # Save the model\n",
    "    model.save_pretrained('./bert_model_6')\n",
    "    \n",
    "    # Save the tokenizer\n",
    "    tokenizer.save_pretrained('./bert_model_6')\n"
   ]
  },
  {
   "cell_type": "code",
   "execution_count": 13,
   "metadata": {},
   "outputs": [
    {
     "data": {
      "text/plain": [
       "['label_encoder.pkl']"
      ]
     },
     "execution_count": 13,
     "metadata": {},
     "output_type": "execute_result"
    }
   ],
   "source": [
    "import joblib\n",
    "joblib.dump(label_encoder_emotion, \"label_encoder.pkl\")"
   ]
  },
  {
   "cell_type": "code",
   "execution_count": 9,
   "metadata": {},
   "outputs": [
    {
     "name": "stderr",
     "output_type": "stream",
     "text": [
      "Evaluating: 100%|██████████| 1324/1324 [00:22<00:00, 59.10batch/s]\n"
     ]
    },
    {
     "name": "stdout",
     "output_type": "stream",
     "text": [
      "Accuracy: 0.7512045347189419\n",
      "F1 Score (Macro Average): 0.7472252032756656\n",
      "Classification Report:\n",
      "              precision    recall  f1-score   support\n",
      "\n",
      "       anger       0.77      0.80      0.78      2876\n",
      "     disgust       0.84      0.84      0.84      2181\n",
      "        fear       0.78      0.75      0.76      1080\n",
      "   happiness       0.72      0.66      0.69      4850\n",
      "     neutral       0.76      0.84      0.80      3756\n",
      "     sadness       0.84      0.81      0.82      4265\n",
      "    surprise       0.52      0.56      0.53      2162\n",
      "\n",
      "    accuracy                           0.75     21170\n",
      "   macro avg       0.75      0.75      0.75     21170\n",
      "weighted avg       0.75      0.75      0.75     21170\n",
      "\n"
     ]
    }
   ],
   "source": [
    "from sklearn.metrics import accuracy_score, f1_score, classification_report\n",
    "\n",
    "# Evaluate the model on the validation set\n",
    "model.eval()\n",
    "val_preds = []\n",
    "val_labels_list = []\n",
    "\n",
    "# Validation loop with tqdm progress bar\n",
    "progress_bar = tqdm(val_dataloader, desc=\"Evaluating\", unit=\"batch\")\n",
    "for batch in progress_bar:\n",
    "    input_ids, attention_mask, labels = batch  \n",
    "    input_ids = input_ids.to(device)\n",
    "    attention_mask = attention_mask.to(device)\n",
    "    labels = labels.to(device)\n",
    "    \n",
    "    with torch.no_grad():\n",
    "        outputs = model(input_ids, attention_mask=attention_mask, labels=labels)\n",
    "\n",
    "    logits = outputs.logits\n",
    "    preds = torch.argmax(logits, dim=1)\n",
    "\n",
    "    val_preds.extend(preds.cpu().numpy())\n",
    "    val_labels_list.extend(labels.cpu().numpy())\n",
    "\n",
    "# Convert the predictions and true labels back to the original class labels\n",
    "val_preds_str = label_encoder_emotion.inverse_transform(val_preds)\n",
    "val_labels_str = label_encoder_emotion.inverse_transform(val_labels_list)\n",
    "\n",
    "# Calculate accuracy\n",
    "accuracy = accuracy_score(val_labels_str, val_preds_str)\n",
    "print(f\"Accuracy: {accuracy}\")\n",
    "\n",
    "# Calculate F1 Score (Macro Average)\n",
    "f1 = f1_score(val_labels_str, val_preds_str, average='macro')\n",
    "print(f\"F1 Score (Macro Average): {f1}\")\n",
    "\n",
    "# Generate classification report\n",
    "report = classification_report(val_labels_str, val_preds_str, target_names=label_encoder_emotion.classes_)\n",
    "print(\"Classification Report:\")\n",
    "print(report)"
   ]
  },
  {
   "cell_type": "code",
   "execution_count": 11,
   "metadata": {},
   "outputs": [
    {
     "data": {
      "image/png": "[encoded data removed]",
      "text/plain": [
       "<Figure size 1000x700 with 2 Axes>"
      ]
     },
     "metadata": {},
     "output_type": "display_data"
    }
   ],
   "source": [
    "# import matplotlib.pyplot as plt\n",
    "import seaborn as sns \n",
    "from sklearn.metrics import confusion_matrix\n",
    "# Plot confusion matrix\n",
    "cm = confusion_matrix(val_labels_str, val_preds_str)\n",
    "plt.figure(figsize=(10, 7))\n",
    "sns.heatmap(cm, annot=True, fmt='d', cmap=\"Blues\", xticklabels=label_encoder_emotion.classes_, yticklabels=label_encoder_emotion.classes_)\n",
    "plt.ylabel('True Label')\n",
    "plt.xlabel('Predicted Label')\n",
    "plt.title('Confusion Matrix')\n",
    "plt.show()"
   ]
  },
  {
   "cell_type": "markdown",
   "metadata": {},
   "source": [
    "---"
   ]
  },
  {
   "cell_type": "markdown",
   "metadata": {},
   "source": [
    "## Transformer 2: CamemBERT"
   ]
  },
  {
   "cell_type": "markdown",
   "metadata": {
    "jp-MarkdownHeadingCollapsed": true
   },
   "source": [
    "### Trial 1"
   ]
  },
  {
   "cell_type": "code",
   "execution_count": 12,
   "metadata": {},
   "outputs": [
    {
     "name": "stderr",
     "output_type": "stream",
     "text": [
      "/tmp/ipykernel_41162/4091720355.py:36: UserWarning: To copy construct from a tensor, it is recommended to use sourceTensor.clone().detach() or sourceTensor.clone().detach().requires_grad_(True), rather than torch.tensor(sourceTensor).\n",
      "  train_inputs = torch.tensor(X_train).clone().detach()\n",
      "/tmp/ipykernel_41162/4091720355.py:37: UserWarning: To copy construct from a tensor, it is recommended to use sourceTensor.clone().detach() or sourceTensor.clone().detach().requires_grad_(True), rather than torch.tensor(sourceTensor).\n",
      "  val_inputs = torch.tensor(X_val).clone().detach()\n",
      "/tmp/ipykernel_41162/4091720355.py:38: UserWarning: To copy construct from a tensor, it is recommended to use sourceTensor.clone().detach() or sourceTensor.clone().detach().requires_grad_(True), rather than torch.tensor(sourceTensor).\n",
      "  train_attn = torch.tensor(attn_train).clone().detach()\n",
      "/tmp/ipykernel_41162/4091720355.py:39: UserWarning: To copy construct from a tensor, it is recommended to use sourceTensor.clone().detach() or sourceTensor.clone().detach().requires_grad_(True), rather than torch.tensor(sourceTensor).\n",
      "  val_attn = torch.tensor(attn_val).clone().detach()\n",
      "Some weights of CamembertForSequenceClassification were not initialized from the model checkpoint at camembert-base and are newly initialized: ['classifier.dense.bias', 'classifier.dense.weight', 'classifier.out_proj.bias', 'classifier.out_proj.weight']\n",
      "You should probably TRAIN this model on a down-stream task to be able to use it for predictions and inference.\n",
      "                                                                             "
     ]
    },
    {
     "name": "stdout",
     "output_type": "stream",
     "text": [
      "Epoch 1, Training Loss: 1.9478\n",
      "Epoch 1, Validation Loss: 1.9481\n"
     ]
    },
    {
     "name": "stderr",
     "output_type": "stream",
     "text": [
      "                                                                             "
     ]
    },
    {
     "name": "stdout",
     "output_type": "stream",
     "text": [
      "Epoch 2, Training Loss: 1.9478\n",
      "Epoch 2, Validation Loss: 1.9481\n"
     ]
    },
    {
     "name": "stderr",
     "output_type": "stream",
     "text": [
      "                                                                             "
     ]
    },
    {
     "name": "stdout",
     "output_type": "stream",
     "text": [
      "Epoch 3, Training Loss: 1.9479\n",
      "Epoch 3, Validation Loss: 1.9481\n",
      "Early stopping triggered. Stopping training.\n"
     ]
    }
   ],
   "source": [
    "import torch\n",
    "from torch.utils.data import DataLoader, TensorDataset\n",
    "from transformers import CamembertTokenizer, CamembertForSequenceClassification\n",
    "from torch.optim import Adam\n",
    "from tqdm import tqdm\n",
    "import numpy as np\n",
    "from sklearn.utils.class_weight import compute_class_weight\n",
    "from transformers import get_scheduler\n",
    "\n",
    "# Load Camembert tokenizer\n",
    "tokenizer = CamembertTokenizer.from_pretrained(\"camembert-base\")\n",
    "\n",
    "# Function to encode sentences\n",
    "def encode_sentences(sentences):\n",
    "    return tokenizer(sentences.tolist(), padding=True, truncation=True, max_length=128, return_tensors='pt')\n",
    "\n",
    "# Tokenize dataset\n",
    "encoded_inputs = encode_sentences(df[\"Sentence\"])\n",
    "input_ids = encoded_inputs[\"input_ids\"]\n",
    "attention_mask = encoded_inputs[\"attention_mask\"]\n",
    "\n",
    "# Train-test split\n",
    "X_train, X_val, attn_train, attn_val, y_train, y_val = train_test_split(\n",
    "    input_ids, attention_mask, df[\"emotion_label\"], test_size=0.2, random_state=42\n",
    ")\n",
    "\n",
    "# Compute class weights\n",
    "device = torch.device(\"cuda\" if torch.cuda.is_available() else \"cpu\")\n",
    "class_weights = compute_class_weight(\"balanced\", classes=np.unique(y_train), y=y_train)\n",
    "class_weights = torch.tensor(class_weights, dtype=torch.float).to(device)\n",
    "\n",
    "# Define weighted loss function\n",
    "loss_function = torch.nn.CrossEntropyLoss(weight=class_weights)\n",
    "\n",
    "# Convert to tensors\n",
    "train_inputs = torch.tensor(X_train).clone().detach()\n",
    "val_inputs = torch.tensor(X_val).clone().detach()\n",
    "train_attn = torch.tensor(attn_train).clone().detach()\n",
    "val_attn = torch.tensor(attn_val).clone().detach()\n",
    "train_labels = torch.tensor(y_train.values)\n",
    "val_labels = torch.tensor(y_val.values)\n",
    "\n",
    "# Create DataLoader for batch processing\n",
    "batch_size = 16  # Change this based on your GPU memory\n",
    "train_data = TensorDataset(train_inputs, train_attn, train_labels)\n",
    "val_data = TensorDataset(val_inputs, val_attn, val_labels)\n",
    "train_dataloader = DataLoader(train_data, batch_size=batch_size, shuffle=True)\n",
    "val_dataloader = DataLoader(val_data, batch_size=batch_size)\n",
    "\n",
    "# Load Camembert model for classification\n",
    "model = CamembertForSequenceClassification.from_pretrained(\"camembert-base\", num_labels=len(label_encoder_emotion.classes_))\n",
    "\n",
    "# Freeze lower layers for efficiency\n",
    "for param in model.roberta.embeddings.parameters():\n",
    "    param.requires_grad = False\n",
    "for param in model.roberta.encoder.layer[:6].parameters():  # Freeze first 6 layers\n",
    "    param.requires_grad = False\n",
    "\n",
    "# Move model to GPU\n",
    "model.to(device)\n",
    "\n",
    "# Setup optimizer\n",
    "optimizer = Adam(model.parameters(), lr=2e-5)  # Trying Adam instead of AdamW\n",
    "\n",
    "# Learning rate scheduler with warmup\n",
    "num_training_steps = len(train_dataloader) * 10  # Assuming 10 epochs\n",
    "lr_scheduler = get_scheduler(\n",
    "    name=\"linear\", optimizer=optimizer, num_warmup_steps=int(0.1 * num_training_steps), num_training_steps=num_training_steps\n",
    ")\n",
    "\n",
    "# Early Stopping Parameters\n",
    "patience = 2\n",
    "best_val_loss = float(\"inf\")\n",
    "epochs_no_improve = 0\n",
    "\n",
    "# Training Loop\n",
    "for epoch in range(15):\n",
    "    model.train()\n",
    "    total_loss = 0\n",
    "    progress_bar = tqdm(train_dataloader, desc=f\"Epoch {epoch+1}/15\", unit=\"batch\", leave=False)\n",
    "\n",
    "    for batch in progress_bar:\n",
    "        input_ids, attention_mask, labels = batch\n",
    "        input_ids = input_ids.to(device)\n",
    "        attention_mask = attention_mask.to(device)\n",
    "        labels = labels.to(device)\n",
    "    \n",
    "        # Forward pass\n",
    "        outputs = model(input_ids, attention_mask=attention_mask)\n",
    "        logits = outputs.logits\n",
    "\n",
    "        # Compute weighted loss\n",
    "        loss = loss_function(logits, labels)\n",
    "        total_loss += loss.item()\n",
    "\n",
    "        # Backward pass\n",
    "        loss.backward()\n",
    "        torch.nn.utils.clip_grad_norm_(model.parameters(), max_norm=1.0)  # Gradient clipping\n",
    "        optimizer.step()\n",
    "        optimizer.zero_grad()\n",
    "\n",
    "        progress_bar.set_postfix(loss=total_loss / (progress_bar.n + 1), refresh=True)\n",
    "\n",
    "    avg_train_loss = total_loss / len(train_dataloader)\n",
    "    print(f\"Epoch {epoch+1}, Training Loss: {avg_train_loss:.4f}\")\n",
    "\n",
    "    # Validation phase\n",
    "    model.eval()\n",
    "    val_loss = 0\n",
    "    with torch.no_grad():\n",
    "        for batch in val_dataloader:\n",
    "            input_ids, attention_mask, labels = batch\n",
    "            input_ids = input_ids.to(device)\n",
    "            attention_mask = attention_mask.to(device)\n",
    "            labels = labels.to(device)\n",
    "\n",
    "            outputs = model(input_ids, attention_mask=attention_mask)\n",
    "            loss = loss_function(outputs.logits, labels)\n",
    "            val_loss += loss.item()\n",
    "\n",
    "    avg_val_loss = val_loss / len(val_dataloader)\n",
    "    print(f\"Epoch {epoch+1}, Validation Loss: {avg_val_loss:.4f}\")\n",
    "\n",
    "    # Early stopping logic\n",
    "    if avg_val_loss < best_val_loss:\n",
    "        best_val_loss = avg_val_loss\n",
    "        epochs_no_improve = 0\n",
    "    else:\n",
    "        epochs_no_improve += 1\n",
    "\n",
    "    if epochs_no_improve >= patience:\n",
    "        print(\"Early stopping triggered. Stopping training.\")\n",
    "        break\n",
    "\n",
    "    # Save the model\n",
    "    model.save_pretrained(\"./camembert_model_5\")\n",
    "    tokenizer.save_pretrained(\"./camembert_model_5\")"
   ]
  },
  {
   "cell_type": "code",
   "execution_count": 14,
   "metadata": {},
   "outputs": [
    {
     "name": "stderr",
     "output_type": "stream",
     "text": [
      "Evaluating: 100%|██████████| 1324/1324 [00:19<00:00, 68.07batch/s]\n"
     ]
    },
    {
     "name": "stdout",
     "output_type": "stream",
     "text": [
      "Accuracy: 0.13396315540859707\n",
      "F1 Score (Macro Average): 0.034754530315235115\n",
      "Classification Report:\n",
      "              precision    recall  f1-score   support\n",
      "\n",
      "       anger       0.14      0.98      0.24      2876\n",
      "     disgust       0.00      0.00      0.00      2181\n",
      "        fear       0.01      0.00      0.00      1080\n",
      "   happiness       0.00      0.00      0.00      4850\n",
      "     neutral       1.00      0.00      0.00      3756\n",
      "     sadness       0.00      0.00      0.00      4265\n",
      "    surprise       0.00      0.00      0.00      2162\n",
      "\n",
      "    accuracy                           0.13     21170\n",
      "   macro avg       0.16      0.14      0.03     21170\n",
      "weighted avg       0.20      0.13      0.03     21170\n",
      "\n"
     ]
    },
    {
     "name": "stderr",
     "output_type": "stream",
     "text": [
      "/usr/local/lib/python3.11/dist-packages/sklearn/metrics/_classification.py:1565: UndefinedMetricWarning: Precision is ill-defined and being set to 0.0 in labels with no predicted samples. Use `zero_division` parameter to control this behavior.\n",
      "  _warn_prf(average, modifier, f\"{metric.capitalize()} is\", len(result))\n",
      "/usr/local/lib/python3.11/dist-packages/sklearn/metrics/_classification.py:1565: UndefinedMetricWarning: Precision is ill-defined and being set to 0.0 in labels with no predicted samples. Use `zero_division` parameter to control this behavior.\n",
      "  _warn_prf(average, modifier, f\"{metric.capitalize()} is\", len(result))\n",
      "/usr/local/lib/python3.11/dist-packages/sklearn/metrics/_classification.py:1565: UndefinedMetricWarning: Precision is ill-defined and being set to 0.0 in labels with no predicted samples. Use `zero_division` parameter to control this behavior.\n",
      "  _warn_prf(average, modifier, f\"{metric.capitalize()} is\", len(result))\n"
     ]
    }
   ],
   "source": [
    "from sklearn.metrics import accuracy_score, f1_score, classification_report\n",
    "\n",
    "# Evaluate the model on the validation set\n",
    "model.eval()\n",
    "val_preds = []\n",
    "val_labels_list = []\n",
    "\n",
    "# Validation loop with tqdm progress bar\n",
    "progress_bar = tqdm(val_dataloader, desc=\"Evaluating\", unit=\"batch\")\n",
    "for batch in progress_bar:\n",
    "    input_ids, attention_mask, labels = batch  \n",
    "    input_ids = input_ids.to(device)\n",
    "    attention_mask = attention_mask.to(device)\n",
    "    labels = labels.to(device)\n",
    "    \n",
    "    with torch.no_grad():\n",
    "        outputs = model(input_ids, attention_mask=attention_mask, labels=labels)\n",
    "\n",
    "    logits = outputs.logits\n",
    "    preds = torch.argmax(logits, dim=1)\n",
    "\n",
    "    val_preds.extend(preds.cpu().numpy())\n",
    "    val_labels_list.extend(labels.cpu().numpy())\n",
    "\n",
    "# Convert the predictions and true labels back to the original class labels\n",
    "val_preds_str = label_encoder_emotion.inverse_transform(val_preds)\n",
    "val_labels_str = label_encoder_emotion.inverse_transform(val_labels_list)\n",
    "\n",
    "# Calculate accuracy\n",
    "accuracy = accuracy_score(val_labels_str, val_preds_str)\n",
    "print(f\"Accuracy: {accuracy}\")\n",
    "\n",
    "# Calculate F1 Score (Macro Average)\n",
    "f1 = f1_score(val_labels_str, val_preds_str, average='macro')\n",
    "print(f\"F1 Score (Macro Average): {f1}\")\n",
    "\n",
    "# Generate classification report\n",
    "report = classification_report(val_labels_str, val_preds_str, target_names=label_encoder_emotion.classes_)\n",
    "print(\"Classification Report:\")\n",
    "print(report)"
   ]
  },
  {
   "cell_type": "code",
   "execution_count": 15,
   "metadata": {},
   "outputs": [
    {
     "data": {
      "image/png": "[encoded data removed]",
      "text/plain": [
       "<Figure size 1000x700 with 2 Axes>"
      ]
     },
     "metadata": {},
     "output_type": "display_data"
    }
   ],
   "source": [
    "# import matplotlib.pyplot as plt\n",
    "import seaborn as sns \n",
    "from sklearn.metrics import confusion_matrix\n",
    "# Plot confusion matrix\n",
    "cm = confusion_matrix(val_labels_str, val_preds_str)\n",
    "plt.figure(figsize=(10, 7))\n",
    "sns.heatmap(cm, annot=True, fmt='d', cmap=\"Blues\", xticklabels=label_encoder_emotion.classes_, yticklabels=label_encoder_emotion.classes_)\n",
    "plt.ylabel('True Label')\n",
    "plt.xlabel('Predicted Label')\n",
    "plt.title('Confusion Matrix')\n",
    "plt.show()"
   ]
  },
  {
   "cell_type": "markdown",
   "metadata": {},
   "source": [
    "### Trial 2"
   ]
  },
  {
   "cell_type": "code",
   "execution_count": 13,
   "metadata": {},
   "outputs": [],
   "source": [
    "label_encoder_camembert = LabelEncoder()\n",
    "df[\"emotion_label\"] = label_encoder_camembert.fit_transform(df[\"Emotion\"])"
   ]
  },
  {
   "cell_type": "code",
   "execution_count": 14,
   "metadata": {},
   "outputs": [
    {
     "data": {
      "text/plain": [
       "array(['anger', 'disgust', 'fear', 'happiness', 'neutral', 'sadness',\n",
       "       'surprise'], dtype=object)"
      ]
     },
     "execution_count": 14,
     "metadata": {},
     "output_type": "execute_result"
    }
   ],
   "source": [
    "label_encoder_camembert.classes_"
   ]
  },
  {
   "cell_type": "code",
   "execution_count": 18,
   "metadata": {},
   "outputs": [
    {
     "name": "stderr",
     "output_type": "stream",
     "text": [
      "/tmp/ipykernel_122271/684263540.py:33: UserWarning: To copy construct from a tensor, it is recommended to use sourceTensor.clone().detach() or sourceTensor.clone().detach().requires_grad_(True), rather than torch.tensor(sourceTensor).\n",
      "  train_inputs = torch.tensor(X_train).clone().detach()\n",
      "/tmp/ipykernel_122271/684263540.py:34: UserWarning: To copy construct from a tensor, it is recommended to use sourceTensor.clone().detach() or sourceTensor.clone().detach().requires_grad_(True), rather than torch.tensor(sourceTensor).\n",
      "  val_inputs = torch.tensor(X_val).clone().detach()\n",
      "/tmp/ipykernel_122271/684263540.py:35: UserWarning: To copy construct from a tensor, it is recommended to use sourceTensor.clone().detach() or sourceTensor.clone().detach().requires_grad_(True), rather than torch.tensor(sourceTensor).\n",
      "  train_attn = torch.tensor(attn_train).clone().detach()\n",
      "/tmp/ipykernel_122271/684263540.py:36: UserWarning: To copy construct from a tensor, it is recommended to use sourceTensor.clone().detach() or sourceTensor.clone().detach().requires_grad_(True), rather than torch.tensor(sourceTensor).\n",
      "  val_attn = torch.tensor(attn_val).clone().detach()\n",
      "Some weights of CamembertForSequenceClassification were not initialized from the model checkpoint at camembert-base and are newly initialized: ['classifier.dense.bias', 'classifier.dense.weight', 'classifier.out_proj.bias', 'classifier.out_proj.weight']\n",
      "You should probably TRAIN this model on a down-stream task to be able to use it for predictions and inference.\n",
      "                                                                              "
     ]
    },
    {
     "name": "stdout",
     "output_type": "stream",
     "text": [
      "Epoch 1, Training Loss: 0.9774\n",
      "Epoch 1, Validation Loss: 0.6960\n"
     ]
    },
    {
     "name": "stderr",
     "output_type": "stream",
     "text": [
      "                                                                              "
     ]
    },
    {
     "name": "stdout",
     "output_type": "stream",
     "text": [
      "Epoch 2, Training Loss: 0.6131\n",
      "Epoch 2, Validation Loss: 0.6606\n"
     ]
    },
    {
     "name": "stderr",
     "output_type": "stream",
     "text": [
      "                                                                              "
     ]
    },
    {
     "name": "stdout",
     "output_type": "stream",
     "text": [
      "Epoch 3, Training Loss: 0.4714\n",
      "Epoch 3, Validation Loss: 0.6786\n"
     ]
    },
    {
     "name": "stderr",
     "output_type": "stream",
     "text": [
      "                                                                              "
     ]
    },
    {
     "name": "stdout",
     "output_type": "stream",
     "text": [
      "Epoch 4, Training Loss: 0.3453\n",
      "Epoch 4, Validation Loss: 0.6981\n"
     ]
    },
    {
     "name": "stderr",
     "output_type": "stream",
     "text": [
      "                                                                              "
     ]
    },
    {
     "name": "stdout",
     "output_type": "stream",
     "text": [
      "Epoch 5, Training Loss: 0.2576\n",
      "Epoch 5, Validation Loss: 0.8266\n",
      "Early stopping triggered. Stopping training.\n"
     ]
    }
   ],
   "source": [
    "import torch\n",
    "from torch.utils.data import DataLoader, TensorDataset\n",
    "from transformers import CamembertForSequenceClassification\n",
    "from torch.optim import AdamW\n",
    "from tqdm import tqdm\n",
    "import numpy as np\n",
    "from transformers import get_scheduler\n",
    "\n",
    "import pandas as pd\n",
    "from sklearn.model_selection import train_test_split\n",
    "from transformers import CamembertTokenizer\n",
    "\n",
    "# Tokenize the sentences using BERT's tokenizer\n",
    "tokenizer = CamembertTokenizer.from_pretrained('camembert-base')\n",
    "\n",
    "# Modify the function to return a dictionary\n",
    "def encode_sentences(sentences):\n",
    "    return tokenizer(sentences.tolist(), padding=True, truncation=True, max_length=128, return_tensors='pt')\n",
    "\n",
    "# Tokenize the sentences\n",
    "encoded_inputs = encode_sentences(df['Sentence'])\n",
    "\n",
    "# Extract input_ids and attention_mask separately\n",
    "input_ids = encoded_inputs[\"input_ids\"]\n",
    "attention_mask = encoded_inputs[\"attention_mask\"]\n",
    "\n",
    "# Now, split data correctly\n",
    "X_train, X_val, attn_train, attn_val, y_train, y_val = train_test_split(\n",
    "    input_ids, attention_mask, df['emotion_label'], test_size=0.2, random_state=42\n",
    ")\n",
    "\n",
    "# Convert to tensors\n",
    "train_inputs = torch.tensor(X_train).clone().detach()\n",
    "val_inputs = torch.tensor(X_val).clone().detach()\n",
    "train_attn = torch.tensor(attn_train).clone().detach()\n",
    "val_attn = torch.tensor(attn_val).clone().detach()\n",
    "train_labels = torch.tensor(y_train.values)\n",
    "val_labels = torch.tensor(y_val.values)\n",
    "\n",
    "# Create DataLoader for batch processing\n",
    "train_data = TensorDataset(train_inputs, train_attn, train_labels)\n",
    "val_data = TensorDataset(val_inputs, val_attn, val_labels)\n",
    "\n",
    "train_dataloader = DataLoader(train_data, batch_size=16, shuffle=True)\n",
    "val_dataloader = DataLoader(val_data, batch_size=16)\n",
    "\n",
    "# Load the pre-trained CamemBERT model for sequence classification\n",
    "model = CamembertForSequenceClassification.from_pretrained('camembert-base', num_labels=len(label_encoder_emotion.classes_))\n",
    "\n",
    "# Setup optimizer\n",
    "optimizer = AdamW(model.parameters(),lr=2e-5, weight_decay=0.01)\n",
    "\n",
    "# Move model to GPU \n",
    "device = torch.device(\"cuda\" if torch.cuda.is_available() else \"cpu\")\n",
    "model.to(device)\n",
    "\n",
    "# Early Stopping Parameters\n",
    "patience = 3  # Number of epochs with no improvement before stopping\n",
    "best_val_loss = float('inf')\n",
    "epochs_no_improve = 0\n",
    "\n",
    "num_training_steps = len(train_dataloader) * 10  # Assuming 10 epochs\n",
    "lr_scheduler = get_scheduler(\n",
    "    name=\"linear\", optimizer=optimizer, num_warmup_steps=0, num_training_steps=num_training_steps\n",
    ")\n",
    "\n",
    "# Training loop\n",
    "for epoch in range(15):\n",
    "    model.train()\n",
    "    total_loss = 0\n",
    "    progress_bar = tqdm(train_dataloader, desc=f\"Epoch {epoch+1}/10\", unit=\"batch\", leave=False)\n",
    "    \n",
    "    for batch in progress_bar:\n",
    "        input_ids, attention_mask, labels = batch\n",
    "        input_ids = input_ids.to(device)\n",
    "        attention_mask = attention_mask.to(device)\n",
    "        labels = labels.to(device)\n",
    "    \n",
    "        # Forward pass\n",
    "        outputs = model(input_ids, attention_mask=attention_mask, labels=labels)\n",
    "\n",
    "        loss = outputs.loss\n",
    "        total_loss += loss.item()\n",
    "\n",
    "        # Backward pass\n",
    "        loss.backward()\n",
    "\n",
    "        # Apply gradient clipping\n",
    "        torch.nn.utils.clip_grad_norm_(model.parameters(), max_norm=1.0)\n",
    "        \n",
    "        # Optimizer\n",
    "        optimizer.step()\n",
    "\n",
    "        # Update progress bar\n",
    "        progress_bar.set_postfix(loss=total_loss / (progress_bar.n + 1), refresh=True)\n",
    "\n",
    "    avg_train_loss = total_loss / len(train_dataloader)\n",
    "    print(f\"Epoch {epoch+1}, Training Loss: {avg_train_loss:.4f}\")\n",
    "\n",
    "    # Validation phase\n",
    "    model.eval()\n",
    "    val_loss = 0\n",
    "\n",
    "    with torch.no_grad():\n",
    "        for batch in val_dataloader:\n",
    "            input_ids, attention_mask, labels = batch  \n",
    "            input_ids = input_ids.to(device)\n",
    "            attention_mask = attention_mask.to(device)\n",
    "            labels = labels.to(device)\n",
    "        \n",
    "            outputs = model(input_ids, attention_mask=attention_mask, labels=labels)\n",
    "            loss = outputs.loss\n",
    "            val_loss += loss.item()\n",
    "\n",
    "    avg_val_loss = val_loss / len(val_dataloader)\n",
    "    print(f\"Epoch {epoch+1}, Validation Loss: {avg_val_loss:.4f}\")\n",
    "\n",
    "    # Early stopping logic\n",
    "    if avg_val_loss < best_val_loss:\n",
    "        best_val_loss = avg_val_loss\n",
    "        epochs_no_improve = 0  # Reset counter\n",
    "    else:\n",
    "        epochs_no_improve += 1  # Increase counter\n",
    "\n",
    "    if epochs_no_improve >= patience:\n",
    "        print(\"Early stopping triggered. Stopping training.\")\n",
    "        break\n"
   ]
  },
  {
   "cell_type": "code",
   "execution_count": 26,
   "metadata": {},
   "outputs": [],
   "source": [
    "model.save_pretrained(\"./camembert_model_6\")"
   ]
  },
  {
   "cell_type": "code",
   "execution_count": 19,
   "metadata": {},
   "outputs": [
    {
     "name": "stderr",
     "output_type": "stream",
     "text": [
      "Evaluating: 100%|██████████| 888/888 [00:13<00:00, 67.84batch/s]\n"
     ]
    },
    {
     "name": "stdout",
     "output_type": "stream",
     "text": [
      "Accuracy: 0.7890586495810744\n",
      "F1 Score (Macro Average): 0.7891693007802975\n",
      "Classification Report:\n",
      "              precision    recall  f1-score   support\n",
      "\n",
      "       anger       0.73      0.76      0.75      2039\n",
      "     disgust       0.91      0.78      0.84      2015\n",
      "        fear       0.78      0.92      0.84      1970\n",
      "   happiness       0.72      0.82      0.77      2069\n",
      "     neutral       0.80      0.77      0.78      2124\n",
      "     sadness       0.79      0.77      0.78      2017\n",
      "    surprise       0.85      0.70      0.77      1969\n",
      "\n",
      "    accuracy                           0.79     14203\n",
      "   macro avg       0.80      0.79      0.79     14203\n",
      "weighted avg       0.79      0.79      0.79     14203\n",
      "\n"
     ]
    }
   ],
   "source": [
    "from sklearn.metrics import accuracy_score, f1_score, classification_report\n",
    "\n",
    "# Evaluate the model on the validation set\n",
    "model.eval()\n",
    "val_preds = []\n",
    "val_labels_list = []\n",
    "\n",
    "# Validation loop with tqdm progress bar\n",
    "progress_bar = tqdm(val_dataloader, desc=\"Evaluating\", unit=\"batch\")\n",
    "for batch in progress_bar:\n",
    "    input_ids, attention_mask, labels = batch  \n",
    "    input_ids = input_ids.to(device)\n",
    "    attention_mask = attention_mask.to(device)\n",
    "    labels = labels.to(device)\n",
    "    \n",
    "    with torch.no_grad():\n",
    "        outputs = model(input_ids, attention_mask=attention_mask, labels=labels)\n",
    "\n",
    "    logits = outputs.logits\n",
    "    preds = torch.argmax(logits, dim=1)\n",
    "\n",
    "    val_preds.extend(preds.cpu().numpy())\n",
    "    val_labels_list.extend(labels.cpu().numpy())\n",
    "\n",
    "# Convert the predictions and true labels back to the original class labels\n",
    "val_preds_str = label_encoder_emotion.inverse_transform(val_preds)\n",
    "val_labels_str = label_encoder_emotion.inverse_transform(val_labels_list)\n",
    "\n",
    "# Calculate accuracy\n",
    "accuracy = accuracy_score(val_labels_str, val_preds_str)\n",
    "print(f\"Accuracy: {accuracy}\")\n",
    "\n",
    "# Calculate F1 Score (Macro Average)\n",
    "f1 = f1_score(val_labels_str, val_preds_str, average='macro')\n",
    "print(f\"F1 Score (Macro Average): {f1}\")\n",
    "\n",
    "# Generate classification report\n",
    "report = classification_report(val_labels_str, val_preds_str, target_names=label_encoder_emotion.classes_)\n",
    "print(\"Classification Report:\")\n",
    "print(report)"
   ]
  },
  {
   "cell_type": "code",
   "execution_count": 22,
   "metadata": {},
   "outputs": [
    {
     "data": {
      "image/png": "[encoded data removed]",
      "text/plain": [
       "<Figure size 1000x700 with 2 Axes>"
      ]
     },
     "metadata": {},
     "output_type": "display_data"
    }
   ],
   "source": [
    "# import matplotlib.pyplot as plt\n",
    "import seaborn as sns \n",
    "from sklearn.metrics import confusion_matrix\n",
    "import matplotlib.pyplot as plt\n",
    "# Plot confusion matrix\n",
    "cm = confusion_matrix(val_labels_str, val_preds_str)\n",
    "plt.figure(figsize=(10, 7))\n",
    "sns.heatmap(cm, annot=True, fmt='d', cmap=\"Blues\", xticklabels=label_encoder_emotion.classes_, yticklabels=label_encoder_emotion.classes_)\n",
    "plt.ylabel('True Label')\n",
    "plt.xlabel('Predicted Label')\n",
    "plt.title('Confusion Matrix')\n",
    "plt.show()"
   ]
  },
  {
   "cell_type": "markdown",
   "metadata": {},
   "source": [
    "#### Testing on unseen data"
   ]
  },
  {
   "cell_type": "code",
   "execution_count": 25,
   "metadata": {},
   "outputs": [
    {
     "name": "stderr",
     "output_type": "stream",
     "text": [
      "/tmp/ipykernel_122271/1523800437.py:15: UserWarning: To copy construct from a tensor, it is recommended to use sourceTensor.clone().detach() or sourceTensor.clone().detach().requires_grad_(True), rather than torch.tensor(sourceTensor).\n",
      "  test_inputs = torch.tensor(test_input_ids).clone().detach()\n",
      "/tmp/ipykernel_122271/1523800437.py:16: UserWarning: To copy construct from a tensor, it is recommended to use sourceTensor.clone().detach() or sourceTensor.clone().detach().requires_grad_(True), rather than torch.tensor(sourceTensor).\n",
      "  test_attn = torch.tensor(test_attention_mask).clone().detach()\n"
     ]
    },
    {
     "name": "stdout",
     "output_type": "stream",
     "text": [
      "Test Loss: 1.8041\n",
      "Test Accuracy: 63.09%\n",
      "Precision: 0.6353\n",
      "Recall: 0.6309\n",
      "F1-Score: 0.6264\n"
     ]
    }
   ],
   "source": [
    "# Assuming you have a test dataframe 'df_test' that contains 'Sentence' and 'Emotion' columns:\n",
    "df_test = pd.read_csv(\"test_data/transformers_test_dataset.csv\")  # Adjust the path to your test dataset\n",
    "\n",
    "# Encode the test labels (you don't need to save the label encoder as you're using it in the same notebook)\n",
    "df_test[\"emotion_label\"] = label_encoder_camembert.transform(df_test[\"Emotion\"])\n",
    "\n",
    "# Tokenize the test sentences using the same tokenizer you used for training (CamembertTokenizer)\n",
    "encoded_test_inputs = encode_sentences(df_test['Sentence'])\n",
    "\n",
    "# Extract input_ids and attention_mask for the test set\n",
    "test_input_ids = encoded_test_inputs[\"input_ids\"]\n",
    "test_attention_mask = encoded_test_inputs[\"attention_mask\"]\n",
    "\n",
    "# Convert to tensors\n",
    "test_inputs = torch.tensor(test_input_ids).clone().detach()\n",
    "test_attn = torch.tensor(test_attention_mask).clone().detach()\n",
    "test_labels = torch.tensor(df_test['emotion_label'].values)\n",
    "\n",
    "# Create a DataLoader for batch processing on the test set\n",
    "test_data = TensorDataset(test_inputs, test_attn, test_labels)\n",
    "test_dataloader = DataLoader(test_data, batch_size=16)\n",
    "\n",
    "# The model is already loaded in the notebook, so no need to reload it again\n",
    "model.eval()  # Set the model to evaluation mode\n",
    "\n",
    "test_loss = 0\n",
    "correct_predictions = 0\n",
    "total_predictions = 0\n",
    "predicted_labels_list = []  # To store all predictions\n",
    "true_labels_list = []      # To store all true labels\n",
    "\n",
    "with torch.no_grad():  # Disable gradient calculation to save memory\n",
    "    for batch in test_dataloader:\n",
    "        input_ids, attention_mask, labels = batch\n",
    "        input_ids = input_ids.to(device)\n",
    "        attention_mask = attention_mask.to(device)\n",
    "        labels = labels.to(device)\n",
    "\n",
    "        # Forward pass\n",
    "        outputs = model(input_ids, attention_mask=attention_mask, labels=labels)\n",
    "        loss = outputs.loss\n",
    "        logits = outputs.logits\n",
    "\n",
    "        test_loss += loss.item()\n",
    "\n",
    "        # Get predicted labels (class with the highest logit value)\n",
    "        predictions = torch.argmax(logits, dim=-1)\n",
    "\n",
    "        # Accumulate predictions and true labels\n",
    "        predicted_labels_list.extend(predictions.cpu().numpy())\n",
    "        true_labels_list.extend(labels.cpu().numpy())\n",
    "\n",
    "        # Track the number of correct predictions\n",
    "        correct_predictions += (predictions == labels).sum().item()\n",
    "        total_predictions += labels.size(0)\n",
    "\n",
    "# Convert lists to numpy arrays for metric calculations\n",
    "predicted_labels = np.array(predicted_labels_list)\n",
    "true_labels = np.array(true_labels_list)\n",
    "\n",
    "# Calculate the average test loss and accuracy\n",
    "avg_test_loss = test_loss / len(test_dataloader)\n",
    "accuracy = correct_predictions / total_predictions\n",
    "\n",
    "print(f\"Test Loss: {avg_test_loss:.4f}\")\n",
    "print(f\"Test Accuracy: {accuracy * 100:.2f}%\")\n",
    "\n",
    "# Compute Precision, Recall, F1 Score\n",
    "from sklearn.metrics import precision_recall_fscore_support\n",
    "precision, recall, f1, _ = precision_recall_fscore_support(true_labels, predicted_labels, average='weighted')\n",
    "\n",
    "print(f\"Precision: {precision:.4f}\")\n",
    "print(f\"Recall: {recall:.4f}\")\n",
    "print(f\"F1-Score: {f1:.4f}\")"
   ]
  }
 ],
 "metadata": {
  "kernelspec": {
   "display_name": "Python 3 (ipykernel)",
   "language": "python",
   "name": "python3"
  },
  "language_info": {
   "codemirror_mode": {
    "name": "ipython",
    "version": 3
   },
   "file_extension": ".py",
   "mimetype": "text/x-python",
   "name": "python",
   "nbconvert_exporter": "python",
   "pygments_lexer": "ipython3",
   "version": "3.11.0rc1"
  }
 },
 "nbformat": 4,
 "nbformat_minor": 4
}
